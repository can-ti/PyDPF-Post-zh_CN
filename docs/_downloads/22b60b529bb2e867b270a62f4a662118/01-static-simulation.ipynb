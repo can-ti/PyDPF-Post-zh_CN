{
  "cells": [
    {
      "cell_type": "markdown",
      "metadata": {},
      "source": [
        "# Static Simulation {#ref_static_example}\r\n\r\n\u5728\u8be5\u811a\u672c\u4e2d\uff0c\u5c06\u5bf9\u9759\u6001\u6a21\u62df\u8fdb\u884c\u5904\u7406\uff0c\u4ee5\u63d0\u53d6\u5e94\u529b\u3001\u4f4d\u79fb\u7b49\u7ed3\u679c\u3002\u6b64\u5916\uff0c\u8fd8\u53ef\u901a\u8fc7\u5bf9\u7279\u5b9a\u8282\u70b9\u6216\u5355\u5143\u8fdb\u884c\u626b\u63cf\u6765\u9009\u62e9\u7ed3\u679c\u7684\u5b50\u90e8\u5206\u3002\r\n"
      ]
    },
    {
      "cell_type": "markdown",
      "metadata": {},
      "source": [
        "# Perform required imports\r\n\r\n\u6267\u884c\u6240\u9700\u7684\u5bfc\u5165.\r\n"
      ]
    },
    {
      "cell_type": "code",
      "execution_count": null,
      "metadata": {
        "collapsed": false
      },
      "outputs": [],
      "source": [
        "# \u672c\u793a\u4f8b\u4f7f\u7528\u4e86\u4e00\u4e2a\u63d0\u4f9b\u7684\u6587\u4ef6\uff0c\u60a8\u53ef\u4ee5\u901a\u8fc7\u5bfc\u5165 DPF ``examples`` \u5305\u83b7\u5f97\u8be5\u6587\u4ef6\u3002\n\nfrom ansys.dpf import post\nfrom ansys.dpf.post import examples"
      ]
    },
    {
      "cell_type": "markdown",
      "metadata": {},
      "source": [
        "# Get `Simulation` object\r\n\r\n\u83b7\u53d6\u5141\u8bb8\u8bbf\u95ee\u7ed3\u679c\u7684 `Simulation` \u5bf9\u8c61\u3002\u5fc5\u987b\u4f7f\u7528\u7ed3\u679c\u6587\u4ef6\u7684\u8def\u5f84\u5b9e\u4f8b\u5316\r\n`Simulation` \u5bf9\u8c61\u3002 \u4f8b\u5982\uff0cWindows \u4e0b\u4e3a `\"C:/Users/user/my_result.rst\"`\r\n\u6216 Linux \u4e0b\u4e3a `\"/home/user/my_result.rst\"` \u3002\r\n"
      ]
    },
    {
      "cell_type": "code",
      "execution_count": null,
      "metadata": {
        "collapsed": false
      },
      "outputs": [],
      "source": [
        "example_path = examples.find_static_rst()\nexample_path\n\n# \u82e5\u8981\u81ea\u52a8\u68c0\u6d4b\u6a21\u62df\u7c7b\u578b\uff0c\u8bf7\u4f7f\u7528\uff1a\nsimulation = post.load_simulation(example_path)\n\n# \u8981\u542f\u7528 auto-completion \u529f\u80fd\uff0c\u8bf7\u4f7f\u7528\u7b49\u6548\u7684\u547d\u4ee4\uff1a\nsimulation = post.StaticMechanicalSimulation(example_path)\n\n# \u6253\u5370 simulation \uff0c\u4e86\u89e3\u53ef\u7528\u5185\u5bb9\u7684\u6982\u51b5\nprint(simulation)\n\n# \u83b7\u53d6\u6a21\u62df\u7ed3\u679c\u4e2d\u7684\u4f4d\u79fb\u6570\u636e\ndisplacement = simulation.displacement()\nprint(displacement)"
      ]
    },
    {
      "cell_type": "markdown",
      "metadata": {},
      "source": [
        "# Select sub parts of displacement\r\n"
      ]
    },
    {
      "cell_type": "code",
      "execution_count": null,
      "metadata": {
        "collapsed": false
      },
      "outputs": [],
      "source": [
        "# \u83b7\u53d6 X \u4f4d\u79fb\nx_displacement = displacement.select(components=\"X\")\nprint(x_displacement)\nprint(type(x_displacement)) # <class 'ansys.dpf.post.dataframe.DataFrame'>\n\n# \u7b49\u540c\u4e8e\uff1a\nx_displacement = simulation.displacement(components=[\"X\"])\nprint(x_displacement)\n\n# \u7ed8\u5236 X \u4f4d\u79fb\u56fe\nx_displacement.plot()\n\n# \u63d0\u53d6\u7279\u5b9a\u8282\u70b9\u4e0a\u7684\u4f4d\u79fb\nnodes_displacement = displacement.select(node_ids=[1, 10, 100])\nnodes_displacement.plot()\n\n# \u7b49\u540c\u4e8e\uff1a\nnodes_displacement = simulation.displacement(node_ids=[1, 10, 100])\nprint(nodes_displacement)"
      ]
    },
    {
      "cell_type": "markdown",
      "metadata": {},
      "source": [
        "# Compute total displacement (norm)\r\n\r\n\u8ba1\u7b97\u9009\u5b9a\u8282\u70b9\u4e0a\u7684\u4f4d\u79fb\u8303\u6570\r\n"
      ]
    },
    {
      "cell_type": "code",
      "execution_count": null,
      "metadata": {
        "collapsed": false
      },
      "outputs": [],
      "source": [
        "nodes_displacement = simulation.displacement(\n    node_ids=simulation.mesh.node_ids[10:], norm=True\n)\nprint(nodes_displacement)\nnodes_displacement.plot()\n\n# \u8fd9\u6bb5\u4ee3\u7801\u9996\u5148\u8c03\u7528 simulation \u5bf9\u8c61\u7684 displacement \u65b9\u6cd5\uff0c\u83b7\u53d6\u6a21\u62df\u4e2d\u7279\u5b9a\u8282\u70b9\u7684\u4f4d\u79fb\u4fe1\u606f\u3002\u8fd9\u4e9b\u8282\u70b9\u7684 ID \u662f\u4ece simulation.mesh.node_ids[10:] \u83b7\u53d6\u7684\uff0c\u8fd9\u610f\u5473\u7740\u5b83\u83b7\u53d6\u7684\u662f\u9664\u4e86\u524d10\u4e2a\u8282\u70b9\u4e4b\u5916\u7684\u6240\u6709\u8282\u70b9\u7684 ID\u3002\n# \u53c2\u6570 norm=True \u8868\u793a\u83b7\u53d6\u7684\u662f\u4f4d\u79fb\u7684\u8303\u6570\uff08\u5373\u4f4d\u79fb\u7684\u5927\u5c0f\uff09\u3002\u7136\u540e\uff0c\u4ee3\u7801\u6253\u5370\u4e86\u83b7\u53d6\u5230\u7684\u4f4d\u79fb\u4fe1\u606f\u3002\n# \u6700\u540e\uff0c\u4f7f\u7528 plot \u65b9\u6cd5\u7ed8\u5236\u4e86\u4f4d\u79fb\u4fe1\u606f\u7684\u56fe\u5f62\u3002\u5177\u4f53\u7684\u7ed8\u56fe\u7ed3\u679c\u53d6\u51b3\u4e8e nodes_displacement \u5bf9\u8c61\u7684\u7c7b\u578b\u548c plot \u65b9\u6cd5\u7684\u5b9e\u73b0\u3002\n# \u5982\u679c\u4f60\u9700\u8981\u66f4\u5177\u4f53\u7684\u4fe1\u606f\uff0c\u5982 nodes_displacement \u7684\u5177\u4f53\u7c7b\u578b\u6216 plot \u65b9\u6cd5\u7684\u5177\u4f53\u884c\u4e3a\uff0c\u4f60\u53ef\u80fd\u9700\u8981\u67e5\u9605\u76f8\u5173\u7684\u6587\u6863\u6216\u6e90\u4ee3\u7801\u3002"
      ]
    },
    {
      "cell_type": "markdown",
      "metadata": {},
      "source": [
        "# Extract tensor stress, apply averaging, compute equivalent\r\n\r\n\u4ece rst \u6587\u4ef6\u4e2d\u63d0\u53d6\u539f\u59cb\u5355\u5143\u8282\u70b9\u5e94\u529b\uff1a\r\n"
      ]
    },
    {
      "cell_type": "code",
      "execution_count": null,
      "metadata": {
        "collapsed": false
      },
      "outputs": [],
      "source": [
        "elem_nodal_stress = simulation.stress()\nprint(elem_nodal_stress)\n\n# \u4ece\u7ed3\u679c\u6587\u4ef6\u4e2d\u8ba1\u7b97\u8282\u70b9\u5e94\u529b\nnodal_stress = simulation.stress_nodal()\nprint(nodal_stress)\n\n# \u4ece\u7ed3\u679c\u6587\u4ef6\u8ba1\u7b97\u5355\u5143\u5e94\u529b\nelemental_stress = simulation.stress_elemental()\nprint(elemental_stress)\n\n# \u63d0\u53d6\u7279\u5b9a\u5355\u5143\u7684\u5355\u5143\u5e94\u529b\nelemental_stress = elemental_stress.select(element_ids=[5, 6, 7])\nelemental_stress.plot()\n\n# \u4ece\u7ed3\u679c\u6587\u4ef6\u4e2d\u8ba1\u7b97\u8282\u70b9\u7b49\u6548\u5e94\u529b\neqv_stress = simulation.stress_eqv_von_mises_nodal()\nprint(eqv_stress)\neqv_stress.plot()"
      ]
    }
  ],
  "metadata": {
    "kernelspec": {
      "display_name": "Python 3",
      "language": "python",
      "name": "python3"
    },
    "language_info": {
      "codemirror_mode": {
        "name": "ipython",
        "version": 3
      },
      "file_extension": ".py",
      "mimetype": "text/x-python",
      "name": "python",
      "nbconvert_exporter": "python",
      "pygments_lexer": "ipython3",
      "version": "3.10.1"
    }
  },
  "nbformat": 4,
  "nbformat_minor": 0
}