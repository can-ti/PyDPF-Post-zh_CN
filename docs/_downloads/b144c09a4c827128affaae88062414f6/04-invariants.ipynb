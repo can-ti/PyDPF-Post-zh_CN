{
  "cells": [
    {
      "cell_type": "markdown",
      "metadata": {},
      "source": [
        "# Extract stress/strain invariants - Static Simulation {#ref_invariants_example}\r\n\r\n**\u63d0\u53d6\u5e94\u529b/\u5e94\u53d8\u4e0d\u53d8\u91cf - \u9759\u6001\u6a21\u62df**\r\n\r\n\u672c\u811a\u672c\u4ee5\u9759\u6001\u6a21\u62df\u4e3a\u4f8b\uff0c\u8bf4\u660e\u5982\u4f55\u63d0\u53d6\u5f20\u91cf\u4e0d\u53d8\u91cf\u3002\r\n"
      ]
    },
    {
      "cell_type": "markdown",
      "metadata": {},
      "source": [
        "# Perform required imports\r\n\r\n**\u6267\u884c\u6240\u9700\u7684\u5bfc\u5165**\r\n"
      ]
    },
    {
      "cell_type": "markdown",
      "metadata": {},
      "source": [
        "\u672c\u793a\u4f8b\u4f7f\u7528\u4e86\u4e00\u4e2a\u63d0\u4f9b\u7684\u6587\u4ef6\uff0c\u60a8\u53ef\u4ee5\u901a\u8fc7\u5bfc\u5165 DPF `examples` \u5305\u83b7\u5f97\u8be5\u6587\u4ef6\u3002\r\n"
      ]
    },
    {
      "cell_type": "code",
      "execution_count": null,
      "metadata": {
        "collapsed": false
      },
      "outputs": [],
      "source": [
        "from ansys.dpf import post\nfrom ansys.dpf.post import examples"
      ]
    },
    {
      "cell_type": "markdown",
      "metadata": {},
      "source": [
        "# Get the `Simulation` object\r\n\r\n**\u83b7\u53d6\u5141\u8bb8\u8bbf\u95ee\u7ed3\u679c\u7684 \\`\\`Simulation\\`\\` \u5bf9\u8c61**\r\n"
      ]
    },
    {
      "cell_type": "markdown",
      "metadata": {},
      "source": [
        "\u5fc5\u987b\u4f7f\u7528\u7ed3\u679c\u6587\u4ef6\u7684\u8def\u5f84\u5b9e\u4f8b\u5316 `Simulation` \u5bf9\u8c61\u3002\u4f8b\u5982\uff0cWindows \u4e0b\u4e3a\r\n`\"C:/Users/user/my_result.rst\"` \u6216 Linux \u4e0b\u4e3a\r\n`\"/home/user/my_result.rst\"` \u3002\r\n"
      ]
    },
    {
      "cell_type": "code",
      "execution_count": null,
      "metadata": {
        "collapsed": false
      },
      "outputs": [],
      "source": [
        "example_path = examples.download_crankshaft()\n# \u81ea\u52a8\u68c0\u6d4b\u6a21\u62df\u7c7b\u578b\uff0c\u8bf7\u4f7f\u7528\nsimulation = post.load_simulation(example_path)\n\n# \u8981\u542f\u7528 auto-completion \u529f\u80fd\uff0c\u8bf7\u4f7f\u7528\u7b49\u6548\u7684\u547d\u4ee4\uff1a\nsimulation = post.StaticMechanicalSimulation(example_path)\n\n# \u6253\u5370 simulation \uff0c\u4e86\u89e3\u53ef\u7528\u5185\u5bb9\u7684\u6982\u51b5\nprint(simulation)"
      ]
    },
    {
      "cell_type": "markdown",
      "metadata": {},
      "source": [
        "# Extract elemental nodal stress and strain\r\n\r\n**\u63d0\u53d6\u5355\u5143\u8282\u70b9\u5e94\u529b\u5e94\u53d8**\r\n"
      ]
    },
    {
      "cell_type": "code",
      "execution_count": null,
      "metadata": {
        "collapsed": false
      },
      "outputs": [],
      "source": [
        "stress = simulation.stress(all_sets=True)\nprint(stress)\n\nstrain = simulation.elastic_strain(all_sets=True)\nprint(strain)"
      ]
    },
    {
      "cell_type": "markdown",
      "metadata": {},
      "source": [
        "# Compute principal invariant averaged and unaveraged on stress and strain\r\n\r\n**\u8ba1\u7b97\u5e94\u529b\u548c\u5e94\u53d8\u7684\u5e73\u5747\u548c\u975e\u5e73\u5747\u4e3b\u4e0d\u53d8\u91cf**\r\n"
      ]
    },
    {
      "cell_type": "code",
      "execution_count": null,
      "metadata": {
        "collapsed": false
      },
      "outputs": [],
      "source": [
        "# `stress_principal` \u65b9\u6cd5\u901a\u5e38\u7528\u4e8e\u8ba1\u7b97\u5355\u5143\u7684\u4e3b\u5e94\u529b\u3002\u8fd9\u610f\u5473\u7740\u5b83\u5728\u6bcf\u4e2a\u5355\u5143\u4e0a\u90fd\u8ba1\u7b97\u4e00\u4e2a\u4e3b\u5e94\u529b\u503c\uff0c\u8fd9\u4e2a\u503c\u662f\u5728\u5355\u5143\u7684\u6574\u4e2a\u4f53\u79ef\u4e0a\u5e73\u5747\u7684\u3002\nprinc_stress_1 = simulation.stress_principal(components=[1]) \nprint(princ_stress_1)\n\n# `stress_principal_nodal` \u65b9\u6cd5\u901a\u5e38\u7528\u4e8e\u8ba1\u7b97\u8282\u70b9\u7684\u4e3b\u5e94\u529b\u3002\u8fd9\u610f\u5473\u7740\u5b83\u5728\u6bcf\u4e2a\u8282\u70b9\u4e0a\u90fd\u8ba1\u7b97\u4e00\u4e2a\u4e3b\u5e94\u529b\u503c\uff0c\u8fd9\u4e2a\u503c\u662f\u7531\u8fde\u63a5\u5230\u8be5\u8282\u70b9\u7684\u6240\u6709\u5355\u5143\u7684\u5e94\u529b\u503c\u5e73\u5747\u5f97\u5230\u7684\u3002\nnodal_princ_stress_2 = simulation.stress_principal_nodal(components=[2]) \nprint(nodal_princ_stress_2)\nnodal_princ_stress_2.plot()\n\n# \u56e0\u6b64\uff0cstress_principal \u65b9\u6cd5\u5f97\u5230\u7684\u4e3b\u5e94\u529b\u66f4\u9002\u5408\u4e8e\u8bc4\u4f30\u6574\u4f53\u7684\u5e94\u529b\u5206\u5e03\uff0c\u800c stress_principal_nodal \u65b9\u6cd5\u5f97\u5230\u7684\u4e3b\u5e94\u529b\u66f4\u9002\u5408\u4e8e\u8bc4\u4f30\u5c40\u90e8\u7684\u5e94\u529b\u96c6\u4e2d\u3002\n\nnodal_princ_strain_2 = simulation.elastic_strain_principal_nodal(components=[2])\nprint(nodal_princ_strain_2)\nnodal_princ_strain_2.plot()"
      ]
    },
    {
      "cell_type": "markdown",
      "metadata": {},
      "source": [
        "# Compute von Mises eqv averaged and unaveraged on stress and strain\r\n\r\n**\u8ba1\u7b97\u5e94\u529b\u548c\u5e94\u53d8\u7684\u5e73\u5747\u548c\u975e\u5e73\u5747 von Mises eqv**\r\n"
      ]
    },
    {
      "cell_type": "code",
      "execution_count": null,
      "metadata": {
        "collapsed": false
      },
      "outputs": [],
      "source": [
        "stress_eqv = simulation.stress_eqv_von_mises(set_ids=[1])\nprint(stress_eqv)\n\nnodal_stress_eqv = simulation.stress_eqv_von_mises_nodal(set_ids=[1])\nnodal_stress_eqv.plot()\n\nnodal_strain_eqv = simulation.elastic_strain_eqv_von_mises_nodal(set_ids=[1])\nnodal_strain_eqv.plot()"
      ]
    }
  ],
  "metadata": {
    "kernelspec": {
      "display_name": "Python 3",
      "language": "python",
      "name": "python3"
    },
    "language_info": {
      "codemirror_mode": {
        "name": "ipython",
        "version": 3
      },
      "file_extension": ".py",
      "mimetype": "text/x-python",
      "name": "python",
      "nbconvert_exporter": "python",
      "pygments_lexer": "ipython3",
      "version": "3.10.1"
    }
  },
  "nbformat": 4,
  "nbformat_minor": 0
}