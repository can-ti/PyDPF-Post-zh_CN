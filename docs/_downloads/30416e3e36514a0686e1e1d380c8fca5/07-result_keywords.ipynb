{
  "cells": [
    {
      "cell_type": "markdown",
      "metadata": {},
      "source": [
        "# Result keywords {#ref_result_keywords}\r\n\r\n**\u7ed3\u679c\u5173\u952e\u5b57**\r\n\r\n\u6b64\u793a\u4f8b\u6f14\u793a\u5982\u4f55\u5728\u4ece `Solution` \u5bf9\u8c61\u8c03\u7528 `result`\r\n\u5bf9\u8c61\u65f6\u4f7f\u7528\u5173\u952e\u5b57\u83b7\u5f97\u66f4\u7cbe\u786e\u7684\u7ed3\u679c\u3002\r\n"
      ]
    },
    {
      "cell_type": "markdown",
      "metadata": {},
      "source": [
        "# Perform required imports\r\n\r\n**\u6267\u884c\u6240\u9700\u7684\u5bfc\u5165**\r\n"
      ]
    },
    {
      "cell_type": "code",
      "execution_count": null,
      "metadata": {
        "collapsed": false
      },
      "outputs": [],
      "source": [
        "from ansys.dpf import post\nfrom ansys.dpf.post import examples"
      ]
    },
    {
      "cell_type": "markdown",
      "metadata": {},
      "source": [
        "# Get `Solution` object\r\n\r\n**\u83b7\u53d6 \\`\\`Solution\\`\\` \u5bf9\u8c61**\r\n"
      ]
    },
    {
      "cell_type": "code",
      "execution_count": null,
      "metadata": {
        "collapsed": false
      },
      "outputs": [],
      "source": [
        "solution = post.load_solution(examples.multishells_rst)"
      ]
    },
    {
      "cell_type": "markdown",
      "metadata": {},
      "source": [
        "# Get keyword list\r\n\r\n**\u83b7\u53d6\u5173\u952e\u8bcd\u5217\u8868**\r\n"
      ]
    },
    {
      "cell_type": "code",
      "execution_count": null,
      "metadata": {
        "collapsed": false
      },
      "outputs": [],
      "source": [
        "post.print_available_keywords()"
      ]
    },
    {
      "cell_type": "markdown",
      "metadata": {},
      "source": [
        "# Get `Result` objects\r\n\r\n**\u83b7\u53d6 \\`\\`Result\\`\\` \u5bf9\u8c61**\r\n"
      ]
    },
    {
      "cell_type": "markdown",
      "metadata": {},
      "source": [
        "# Get displacement result using scoping\r\n\r\n**\u4f7f\u7528\u8303\u56f4\u83b7\u53d6\u76f8\u5e94\u4f4d\u79fb \\`\\`Result\\`\\` \u5bf9\u8c61**\r\n"
      ]
    },
    {
      "cell_type": "markdown",
      "metadata": {},
      "source": [
        "\u9ed8\u8ba4 `location` \u662f `nodal`\u3002\r\n"
      ]
    },
    {
      "cell_type": "code",
      "execution_count": null,
      "metadata": {
        "collapsed": false
      },
      "outputs": [],
      "source": [
        "displacement_result = solution.displacement(\n    location=post.locations.nodal, node_scoping=[1, 2, 3]\n)\ndisplacement = displacement_result.vector"
      ]
    },
    {
      "cell_type": "markdown",
      "metadata": {},
      "source": [
        "\u8fd9\u6bb5\u4ee3\u7801\u9996\u5148\u8c03\u7528 `solution` \u5bf9\u8c61\u7684 `displacement` \u65b9\u6cd5\uff0c\u83b7\u53d6\u8282\u70b9 1\u30012\u30013\r\n\u7684\u4f4d\u79fb\u4fe1\u606f\u3002\u53c2\u6570 `location=post.locations.nodal` \u8868\u793a\u83b7\u53d6\u8282\u70b9\u7684\u4f4d\u79fb\uff0c\r\n`node_scoping=[1, 2, 3]` \u8868\u793a\u53ea\u8003\u8651\u8282\u70b9 1\u30012\u30013\u3002\r\n"
      ]
    },
    {
      "cell_type": "code",
      "execution_count": null,
      "metadata": {
        "collapsed": false
      },
      "outputs": [],
      "source": [
        "# \u7136\u540e\uff0c\u4ee3\u7801\u83b7\u53d6\u4f4d\u79fb\u7ed3\u679c\u7684\u5411\u91cf\u90e8\u5206\uff0c\u5e76\u5c06\u5176\u5b58\u50a8\u5728 ``displacement`` \u4e2d\u3002"
      ]
    },
    {
      "cell_type": "markdown",
      "metadata": {},
      "source": [
        "# Get information on result\r\n\r\n**\u83b7\u53d6\u4f4d\u79fb\u7ed3\u679c\u4fe1\u606f**\r\n"
      ]
    },
    {
      "cell_type": "code",
      "execution_count": null,
      "metadata": {
        "collapsed": false
      },
      "outputs": [],
      "source": [
        "# \u9996\u5148\u8c03\u7528 ``displacement`` \u5bf9\u8c61\u7684 ``get_data_at_field`` \u65b9\u6cd5\uff0c\u83b7\u53d6\u7b2c\u4e00\u4e2a\u5b57\u6bb5\u7684\u4f4d\u79fb\u6570\u636e\u3002\ndisplacement.get_data_at_field(0)\n\n# \u8c03\u7528 ``solution`` \u5bf9\u8c61\u7684 ``stress`` \u65b9\u6cd5\uff0c\u83b7\u53d6\u5355\u5143 1 \u7684\u5e94\u529b\u4fe1\u606f\u3002\u53c2\u6570 ``location=post.locations.elemental_nodal`` \u8868\u793a\u83b7\u53d6\u5355\u5143\u8282\u70b9\u7684\u5e94\u529b\uff0c ``element_scoping=[1]`` \u8868\u793a\u53ea\u8003\u8651\u5355\u5143 1\u3002\nstress_with_elem_scop_result = solution.stress(\n    location=post.locations.elemental_nodal, element_scoping=[1]\n)\n\n# \u63a5\u7740\uff0c\u4ee3\u7801\u83b7\u53d6\u5e94\u529b\u7ed3\u679c\u7684\u5f20\u91cf\u90e8\u5206\uff0c\u5e76\u5c06\u5176\u5b58\u50a8\u5728 ``stress_with_elem_scop`` \u4e2d\u3002\nstress_with_elem_scop = stress_with_elem_scop_result.tensor\n\n# \u6700\u540e\uff0c\u4ee3\u7801\u8c03\u7528 ``stress_with_elem_scop`` \u7684 ``get_data_at_field`` \u65b9\u6cd5\uff0c\u83b7\u53d6\u7b2c\u4e00\u4e2a\u5b57\u6bb5\u7684\u5e94\u529b\u6570\u636e\u3002\nstress_with_elem_scop.get_data_at_field(0)"
      ]
    },
    {
      "cell_type": "markdown",
      "metadata": {},
      "source": [
        "# Use named selection on result\r\n\r\n**\u5728\u4f4d\u79fb\u7ed3\u679c\u4e0a\u4f7f\u7528\u547d\u540d\u9009\u62e9**\r\n"
      ]
    },
    {
      "cell_type": "code",
      "execution_count": null,
      "metadata": {
        "collapsed": false
      },
      "outputs": [],
      "source": [
        "# \u8fd9\u6bb5\u4ee3\u7801\u9996\u5148\u8c03\u7528 ``solution`` \u5bf9\u8c61\u7684 ``stress`` \u65b9\u6cd5\uff0c\u83b7\u53d6\u540d\u4e3a \"SELECTION\" \u7684\u547d\u540d\u9009\u62e9\u7684\u5e94\u529b\u4fe1\u606f\u3002\u53c2\u6570 ``location=post.locations.elemental_nodal`` \u8868\u793a\u83b7\u53d6\u5355\u5143\u8282\u70b9\u7684\u5e94\u529b\uff0c``named_selection=\"SELECTION\"`` \u8868\u793a\u53ea\u8003\u8651\u540d\u4e3a \"SELECTION\" \u7684\u547d\u540d\u9009\u62e9\u3002\nstress_on_ns_result = solution.stress(\n    location=post.locations.elemental_nodal, named_selection=\"SELECTION\"\n)\n\n# \u7136\u540e\uff0c\u4ee3\u7801\u83b7\u53d6\u5e94\u529b\u7ed3\u679c\u7684\u5f20\u91cf\u90e8\u5206\uff0c\u5e76\u5c06\u5176\u5b58\u50a8\u5728 ``stress_on_ns`` \u4e2d\u3002\nstress_on_ns = stress_on_ns_result.tensor\n\n# \u63a5\u7740\uff0c\u4ee3\u7801\u83b7\u53d6 ``stress_on_ns`` \u7684\u5b57\u6bb5\u6570\u91cf\u3002\nstress_on_ns.num_fields\n\n# \u6700\u540e\uff0c\u4ee3\u7801\u83b7\u53d6 ``stress_on_ns`` \u7684\u7b2c\u4e00\u4e2a\u5b57\u6bb5\u7684\u957f\u5ea6\u3002\nlen(stress_on_ns[0])"
      ]
    },
    {
      "cell_type": "markdown",
      "metadata": {},
      "source": [
        "# Get a subresult\r\n\r\n**\u83b7\u53d6\u5b50\u7ed3\u679c**\r\n"
      ]
    },
    {
      "cell_type": "code",
      "execution_count": null,
      "metadata": {
        "collapsed": false
      },
      "outputs": [],
      "source": [
        "# \u9996\u5148\u4ece ``displacement_result`` \u5bf9\u8c61\u4e2d\u83b7\u53d6 x \u5206\u91cf\u7684\u4f4d\u79fb\uff0c\u7136\u540e\u5b58\u50a8\u5728 ``disp_x`` \u4e2d\u3002\ndisp_x = displacement_result.x\n\n# \u7136\u540e\u4ece ``stress_with_elem_scop_result`` \u5bf9\u8c61\u4e2d\u83b7\u53d6 yz \u5206\u91cf\u7684\u5e94\u529b\uff0c\u7136\u540e\u5b58\u50a8\u5728 ``stress_yz`` \u4e2d\u3002\nstress_yz = stress_with_elem_scop_result.yz\n\n# \u63a5\u7740\uff0c\u4ee3\u7801\u4ece ``stress_on_ns_result`` \u5bf9\u8c61\u4e2d\u83b7\u53d6\u7b2c\u4e09\u4e3b\u5e94\u529b\uff0c\u7136\u540e\u5b58\u50a8\u5728 ``stress_principal_1`` \u4e2d\u3002\nstress_principal_1 = stress_on_ns_result.principal_3\n\n# \u6700\u540e\uff0c\u6253\u5370 stress_principal_1 \u7684\u503c\u3002\nstress_principal_1"
      ]
    },
    {
      "cell_type": "markdown",
      "metadata": {},
      "source": [
        "# Filter result\r\n\r\n**\u7b5b\u9009\u7ed3\u679c**\r\n"
      ]
    },
    {
      "cell_type": "markdown",
      "metadata": {},
      "source": [
        "\u6839\u636e time \u3001 time scoping \u548c set \u8fc7\u6ee4\u7ed3\u679c\u3002\r\n"
      ]
    },
    {
      "cell_type": "code",
      "execution_count": null,
      "metadata": {
        "collapsed": false
      },
      "outputs": [],
      "source": [
        "# \u9996\u5148\u6253\u5370 ``solution`` \u5bf9\u8c61\u7684 ``time_freq_support`` \u5c5e\u6027\uff0c\u8fd9\u901a\u5e38\u8868\u793a ``solution`` \u652f\u6301\u7684\u65f6\u95f4\u6216\u9891\u7387\u8303\u56f4\u3002\nprint(solution.time_freq_support)\n\n# \u4ee3\u7801\u8c03\u7528 ``solution`` \u5bf9\u8c61\u7684 ``stress`` \u65b9\u6cd5\uff0c\u83b7\u53d6\u65f6\u95f4\u4e3a 1.0s \u7684\u5e94\u529b\u4fe1\u606f\u3002\u53c2\u6570 ``time=1.0`` \u8868\u793a\u83b7\u53d6\u65f6\u95f4\u4e3a 1.0s \u7684\u5e94\u529b\u3002\nstress_on_time_1s_result = solution.stress(time=1.0)\nstress_on_time_1s = stress_on_time_1s_result.tensor\n\n# \u8fd9\u6bb5\u4ee3\u7801\u9996\u5148\u8c03\u7528 ``solution`` \u5bf9\u8c61\u7684 ``displacement`` \u65b9\u6cd5\uff0c\u83b7\u53d6\u96c6\u5408 1 \u7684\u4f4d\u79fb\u4fe1\u606f\u3002\u53c2\u6570 ``set=1`` \u8868\u793a\u83b7\u53d6\u96c6\u5408 1 \u7684\u4f4d\u79fb\u3002\n# \u4ee3\u7801\u83b7\u53d6\u4f4d\u79fb\u7ed3\u679c\u7684\u5411\u91cf\u90e8\u5206\uff0c\u5e76\u5c06\u5176\u5b58\u50a8\u5728 ``displacement_on_set_1`` \u4e2d\u3002\ndisplacement_on_set_1_result = solution.displacement(set=1)\ndisplacement_on_set_1 = displacement_on_set_1_result.vector\n\n# \u4ee3\u7801\u8c03\u7528 ``solution`` \u5bf9\u8c61\u7684 ``elastic_strain`` \u65b9\u6cd5\uff0c\u83b7\u53d6\u65f6\u95f4\u4e3a 1 \u548c 3 \u7684\u5f39\u6027\u5e94\u53d8\u4fe1\u606f\u3002\u53c2\u6570 ``time_scoping=[1, 3]`` \u8868\u793a\u83b7\u53d6\u65f6\u95f4\u4e3a 1 \u548c 3 \u7684\u5f39\u6027\u5e94\u53d8\u3002\nelastic_strain_with_time_scoping_result = solution.elastic_strain(time_scoping=[1, 3])\nelastic_strain_with_time_scoping = elastic_strain_with_time_scoping_result.tensor\nelastic_strain_with_time_scoping"
      ]
    },
    {
      "cell_type": "markdown",
      "metadata": {},
      "source": [
        "# Make grouping\r\n\r\n**\u8fdb\u884c\u5206\u7ec4**\r\n"
      ]
    },
    {
      "cell_type": "code",
      "execution_count": null,
      "metadata": {
        "collapsed": false
      },
      "outputs": [],
      "source": [
        "# \u8fd9\u6bb5\u4ee3\u7801\u9996\u5148\u8c03\u7528 ``solution`` \u5bf9\u8c61\u7684 ``displacement`` \u65b9\u6cd5\uff0c\u83b7\u53d6\u6309\u5355\u5143\u5f62\u72b6\u5206\u7ec4\u7684\u4f4d\u79fb\u4fe1\u606f\u3002\u53c2\u6570 ``grouping=post.grouping.by_el_shape`` \u8868\u793a\u6309\u5355\u5143\u5f62\u72b6\u8fdb\u884c\u5206\u7ec4\u3002\n# \u7136\u540e\uff0c\u4ee3\u7801\u83b7\u53d6\u4f4d\u79fb\u7ed3\u679c\u7684\u5411\u91cf\u90e8\u5206\uff0c\u5e76\u5c06\u5176\u5b58\u50a8\u5728 ``displacement_by_el_shape`` \u4e2d\u3002\ndisplacement_result = solution.displacement(grouping=post.grouping.by_el_shape)\ndisplacement_by_el_shape = displacement_result.vector\ndisplacement_by_el_shape"
      ]
    },
    {
      "cell_type": "markdown",
      "metadata": {},
      "source": [
        "# Filter MAPDL elements\r\n\r\n\u7b5b\u9009 MAPDL \u5355\u5143\r\n"
      ]
    },
    {
      "cell_type": "markdown",
      "metadata": {},
      "source": [
        "\u7b5b\u9009\u51fa\u7c7b\u578b\u4e3a solid 186 \u7684\u5355\u5143\r\n"
      ]
    },
    {
      "cell_type": "code",
      "execution_count": null,
      "metadata": {
        "collapsed": false
      },
      "outputs": [],
      "source": [
        "stress_result = solution.stress(mapdl_grouping=186)\nstress_on_solid_186 = stress_result.tensor\nstress_on_solid_186"
      ]
    },
    {
      "cell_type": "markdown",
      "metadata": {},
      "source": [
        "# Manipulate result and change its definition\r\n\r\n**\u64cd\u4f5c\u7ed3\u679c\u5e76\u66f4\u6539\u5176\u5b9a\u4e49**\r\n"
      ]
    },
    {
      "cell_type": "code",
      "execution_count": null,
      "metadata": {
        "collapsed": false
      },
      "outputs": [],
      "source": [
        "print(stress_on_ns_result)\nprint(stress_on_ns_result.definition.location)\n\nstress_on_ns_result.definition.location = post.locations.elemental\nstress_on_ns_result.definition.time = 1.0\nstress_on_ns_elemental = stress_on_ns_result.tensor\n# \u8fd9\u6bb5\u4ee3\u7801\u9996\u5148\u5c06 ``stress_on_ns_result`` \u7684\u5b9a\u4e49\u4e2d\u7684\u4f4d\u7f6e\u4fe1\u606f\u8bbe\u7f6e\u4e3a\u5355\u5143\u4f4d\u7f6e\uff0c\u5c06\u65f6\u95f4\u8bbe\u7f6e\u4e3a 1.0\u3002\n# \u7136\u540e\uff0c\u4ee3\u7801\u83b7\u53d6\u5e94\u529b\u7ed3\u679c\u7684\u5f20\u91cf\u90e8\u5206\uff0c\u5e76\u5c06\u5176\u5b58\u50a8\u5728 ``stress_on_ns_elemental`` \u4e2d\u3002\n\n\nprint(stress_on_ns_result)"
      ]
    },
    {
      "cell_type": "markdown",
      "metadata": {},
      "source": [
        "# Use miscellaneous results\r\n\r\n**\u4f7f\u7528\u6742\u9879\u7ed3\u679c**\r\n"
      ]
    },
    {
      "cell_type": "markdown",
      "metadata": {},
      "source": [
        "\u60a8\u53ef\u4ee5\u5728\u8fd9\u91cc\u4f7f\u7528\u76f8\u540c\u7684\u5173\u952e\u5b57\u3002\u5bf9\u4e8e\u590d\u6742\u7684\u7ed3\u679c\uff0c\u4e5f\u53ef\u4ee5\u4f7f\u7528\u5173\u952e\u5b57 `phase`\r\n\uff0c\u5b83\u6709\u4e00\u4e2a\u6d6e\u70b9\u6570\u503c\u3002(/m\u026as\u0259\\'le\u026ani\u0259s/)\r\n"
      ]
    },
    {
      "cell_type": "code",
      "execution_count": null,
      "metadata": {
        "collapsed": false
      },
      "outputs": [],
      "source": [
        "# \u8fd9\u6bb5\u4ee3\u7801\u9996\u5148\u8c03\u7528 ``solution`` \u5bf9\u8c61\u7684 ``misc`` \u5c5e\u6027\u4e2d\u7684 ``elemental_stress_ratio`` \u65b9\u6cd5\uff0c\u83b7\u53d6\u8282\u70b9 1 \u548c 32 \u5728\u65f6\u95f4 1.0s \u7684\u5355\u5143\u5e94\u529b\u6bd4\u3002\u53c2\u6570 ``node_scoping=[1, 32]`` \u8868\u793a\u53ea\u8003\u8651\u8282\u70b9 1 \u548c 32\uff0c``time=1.0`` \u8868\u793a\u83b7\u53d6\u65f6\u95f4\u4e3a 1.0s \u7684\u5e94\u529b\u6bd4\u3002\nstress_ratio = solution.misc.elemental_stress_ratio(node_scoping=[1, 32], time=1.0)\nprint(stress_ratio)"
      ]
    }
  ],
  "metadata": {
    "kernelspec": {
      "display_name": "Python 3",
      "language": "python",
      "name": "python3"
    },
    "language_info": {
      "codemirror_mode": {
        "name": "ipython",
        "version": 3
      },
      "file_extension": ".py",
      "mimetype": "text/x-python",
      "name": "python",
      "nbconvert_exporter": "python",
      "pygments_lexer": "ipython3",
      "version": "3.10.1"
    }
  },
  "nbformat": 4,
  "nbformat_minor": 0
}