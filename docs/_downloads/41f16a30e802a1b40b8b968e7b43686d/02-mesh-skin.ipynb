{
  "cells": [
    {
      "cell_type": "markdown",
      "metadata": {},
      "source": [
        "# Reduce Model Size by using Mesh Skin for Result and Mesh extraction {#ref_mesh_skin_example}\r\n\r\n**\u901a\u8fc7\u4f7f\u7528\u7f51\u683c\u8499\u76ae\u8fdb\u884c\u7ed3\u679c\u548c\u7f51\u683c\u63d0\u53d6\u6765\u51cf\u5c0f\u6a21\u578b\u5c3a\u5bf8**\r\n\r\n\u8be5\u793a\u4f8b\u663e\u793a\u4e86\u9759\u6001\u5206\u6790\u4e2d\u5bf9\u8499\u76ae\u7f51\u683c\u7684\u540e\u5904\u7406\u3002\u5728\u91cd\u5efa\u8499\u76ae\u7f51\u683c\u65f6\uff0c\u5c06\u4f7f\u7528\u65b0\u7684\r\nsurface \u5355\u5143\u8fde\u63a5 solid \u7f51\u683c\u5916\u90e8\u8499\u76ae\u4e0a\u7684\u8282\u70b9\u3002\u8fd9\u4e9b surface\r\n\u5355\u5143\u7684\u7c7b\u578b\u662f\u6839\u636e\u6240\u6709\u8282\u70b9\u90fd\u4f4d\u4e8e\u8868\u76ae\u4e0a\u7684 solid \u5355\u5143\u9762\u6765\u9009\u62e9\u7684\u3002\r\n\u8be5\u529f\u80fd\u9002\u7528\u4e8e\u6240\u6709\u7c7b\u578b\u7684 Mechanical\r\n\u4eff\u771f\uff0c\u5141\u8bb8\u60a8\u7f29\u5c0f\u7f51\u683c\u548c\u63d0\u53d6\u6570\u636e\u7684\u5927\u5c0f\uff0c\u4ee5\u63d0\u9ad8\u5904\u7406\u6027\u80fd\u3002\u7531\u4e8e\u8f83\u5927\u7684\u5e94\u529b\u548c\u5e94\u53d8\u901a\u5e38\u4f4d\u4e8e\u6a21\u578b\u7684\u8868\u76ae\uff0c\u56e0\u6b64\u5728\u5927\u591a\u6570\u60c5\u51b5\u4e0b\uff0c\u5728\u8868\u76ae\u4e0a\u8ba1\u7b97\u51fa\u7684\u7ed3\u679c\u4e0e\u6700\u5927\u503c\u76f8\u5f53\u3002\r\n\u5355\u5143\u6216\u5355\u5143\u8282\u70b9\u7ed3\u679c\u7684\u540e\u5904\u7406\u9700\u8981\u5355\u5143\u5b9e\u4f53\u5230\u8868\u76ae\u7684\u6620\u5c04\uff0c\u4ee5\u4fbf\u4ece\u5b9e\u4f53\u5355\u5143\u7ed3\u679c\u5f97\u5230\u9762\u5355\u5143\u7ed3\u679c\u3002\u5efa\u7acb\u5728\u8868\u76ae\u4e0a\u7684\u65b0\r\nsurface\r\n\u5355\u5143\u7684\u8fde\u901a\u6027\u4e0e\u5b9e\u4f53\u5355\u5143\u7684\u8fde\u901a\u6027\u4e0d\u540c\uff0c\u56e0\u6b64\u5728\u7ed3\u679c\u5e73\u5747\u5316\u540e\u4f1a\u53d1\u73b0\u5fae\u5c0f\u7684\u5dee\u5f02\u3002\r\n"
      ]
    },
    {
      "cell_type": "markdown",
      "metadata": {},
      "source": [
        "# Perform required imports\r\n\r\n**\u6267\u884c\u6240\u9700\u7684\u5bfc\u5165**\r\n"
      ]
    },
    {
      "cell_type": "markdown",
      "metadata": {},
      "source": [
        "\u672c\u793a\u4f8b\u4f7f\u7528\u4e86\u4e00\u4e2a\u63d0\u4f9b\u7684\u6587\u4ef6\uff0c\u60a8\u53ef\u4ee5\u901a\u8fc7\u5bfc\u5165 DPF `examples` \u5305\u83b7\u5f97\u8be5\u6587\u4ef6\u3002\r\n"
      ]
    },
    {
      "cell_type": "code",
      "execution_count": null,
      "metadata": {
        "collapsed": false
      },
      "outputs": [],
      "source": [
        "from ansys.dpf import post\nfrom ansys.dpf.post import examples"
      ]
    },
    {
      "cell_type": "markdown",
      "metadata": {},
      "source": [
        "# Get `Simulation` object\r\n\r\n**\u5c06\u7ed3\u679c\u6587\u4ef6\u52a0\u8f7d\u5230\u5141\u8bb8\u8bbf\u95ee\u7ed3\u679c\u7684 \\`\\`Simulation\\`\\` \u5bf9\u8c61\u4e2d\u3002**\r\n"
      ]
    },
    {
      "cell_type": "markdown",
      "metadata": {},
      "source": [
        "\u5fc5\u987b\u4f7f\u7528\u7ed3\u679c\u6587\u4ef6\u7684\u8def\u5f84\u5b9e\u4f8b\u5316 `Simulation` \u5bf9\u8c61\u3002\u4f8b\u5982\uff0cWindows \u4e0b\u4e3a\r\n`\"C:/Users/user/my_result.rst\"` \u6216 Linux \u4e0b\u4e3a\r\n`\"/home/user/my_result.rst\"` \u3002\r\n"
      ]
    },
    {
      "cell_type": "code",
      "execution_count": null,
      "metadata": {
        "collapsed": false
      },
      "outputs": [],
      "source": [
        "example_path = examples.download_crankshaft()\n# \u81ea\u52a8\u68c0\u6d4b\u6a21\u62df\u7c7b\u578b\uff0c\u8bf7\u4f7f\u7528\nsimulation = post.load_simulation(example_path)\n\n# \u8981\u542f\u7528\u81ea\u52a8\u5b8c\u6210\u529f\u80fd\uff0c\u8bf7\u4f7f\u7528\u7b49\u6548\u7684\u547d\u4ee4\uff1a\nsimulation = post.StaticMechanicalSimulation(example_path)\n\n# \u6253\u5370 simulation\uff0c\u4e86\u89e3\u53ef\u7528\u5185\u5bb9\u7684\u6982\u51b5\nprint(simulation)"
      ]
    },
    {
      "cell_type": "markdown",
      "metadata": {},
      "source": [
        "# Extract displacement data\r\n\r\n**\u63d0\u53d6\u4f4d\u79fb\u6570\u636e**\r\n"
      ]
    },
    {
      "cell_type": "markdown",
      "metadata": {},
      "source": [
        "\u63d0\u53d6\u8499\u76ae\u4e0a\u7684\u4f4d\u79fb\u6570\u636e\u3002\r\n"
      ]
    },
    {
      "cell_type": "code",
      "execution_count": null,
      "metadata": {
        "collapsed": false
      },
      "outputs": [],
      "source": [
        "displacement_skin = simulation.displacement(skin=True)\ndisplacement_skin.plot()\n\nprint(f\"number of nodes with `skin=True`: {len(displacement_skin.index.mesh_index)}\")\nprint(f\"number of nodes with `skin=False`: {len(simulation.mesh.node_ids)}\")"
      ]
    },
    {
      "cell_type": "markdown",
      "metadata": {},
      "source": [
        "# Extract stress/strain data\r\n\r\n**\u63d0\u53d6\u5e94\u529b/\u5e94\u53d8\u6570\u636e**\r\n"
      ]
    },
    {
      "cell_type": "markdown",
      "metadata": {},
      "source": [
        "\u63d0\u53d6\u8499\u76ae\u4e0a\u7684\u5e94\u529b\u6216\u5f39\u6027\u5e94\u53d8\u6570\u636e\u3002 \u5e73\u5747\u5316\u548c\u4e0d\u53d8\u91cf\u8ba1\u7b97\u662f\u901a\u8fc7 solid \u5230 skin\r\n\u7684\u8fde\u7eed\u6027\u6620\u5c04\u5b8c\u6210\u7684\u3002\r\n"
      ]
    },
    {
      "cell_type": "code",
      "execution_count": null,
      "metadata": {
        "collapsed": false
      },
      "outputs": [],
      "source": [
        "elemental_stress_skin = simulation.stress_principal_elemental(components=[1], skin=True)\nelemental_stress_skin.plot()\n\nprint(\n    f\"number of elements with `skin=True`: {len(elemental_stress_skin.index.mesh_index)}\"\n)\nprint(f\"number of elements with `skin=False`: {len(simulation.mesh.element_ids)}\")\n\n\nelastic_strain_eqv_skin = simulation.elastic_strain_eqv_von_mises_nodal(skin=True)\nelastic_strain_eqv_skin.plot()"
      ]
    },
    {
      "cell_type": "markdown",
      "metadata": {},
      "source": [
        "# Extract the external layer on a selection of elements\r\n\r\n\u63d0\u53d6\u9009\u5b9a\u5355\u5143\u4e0a\u7684\u5916\u90e8\u56fe\u5c42\r\n"
      ]
    },
    {
      "cell_type": "code",
      "execution_count": null,
      "metadata": {
        "collapsed": false
      },
      "outputs": [],
      "source": [
        "all_elements = simulation.mesh.element_ids\nelements = []\nfor i in range(0, int(all_elements.size / 2)):\n    elements.append(all_elements[i])\nelemental_stress_skin = simulation.stress_principal_elemental(skin=elements)\nelemental_stress_skin.plot()"
      ]
    },
    {
      "cell_type": "markdown",
      "metadata": {},
      "source": [
        "\u8fd9\u6bb5\u4ee3\u7801\u9996\u5148\u4ece simulation.mesh \u4e2d\u83b7\u53d6\u6240\u6709\u5355\u5143\u7684 ID\uff0c\u5e76\u5c06\u5176\u5b58\u50a8\u5728\r\nall_elements \u4e2d\u3002 \u7136\u540e\uff0c\u4ee3\u7801\u521b\u5efa\u4e86\u4e00\u4e2a\u7a7a\u5217\u8868 elements\uff0c\u5e76\u5c06 all_elements\r\n\u7684\u524d\u534a\u90e8\u5206\u6dfb\u52a0\u5230 elements \u4e2d\u3002\u8fd9\u662f\u901a\u8fc7\u4e00\u4e2a for \u5faa\u73af\u5b9e\u73b0\u7684\uff0c\u5faa\u73af\u7684\u6b21\u6570\u662f\r\nall_elements.size / 2\uff08\u5373 all_elements \u7684\u5927\u5c0f\u7684\u4e00\u534a\uff09\u3002 \u63a5\u7740\uff0c\u4ee3\u7801\u8c03\u7528\r\nsimulation \u5bf9\u8c61\u7684 stress_principal_elemental \u65b9\u6cd5\uff0c\u83b7\u53d6 elements\r\n\u4e2d\u5355\u5143\u7684\u4e3b\u5e94\u529b\u4fe1\u606f\u3002\u53c2\u6570 skin=elements \u8868\u793a\u53ea\u8003\u8651 skin \u4e2d\u7684\u5355\u5143\u3002\r\n\u6700\u540e\uff0c\u4ee3\u7801\u4f7f\u7528 plot \u65b9\u6cd5\u7ed8\u5236\u4e86\u4e3b\u5e94\u529b\u7684\u56fe\u3002\r\n"
      ]
    }
  ],
  "metadata": {
    "kernelspec": {
      "display_name": "Python 3",
      "language": "python",
      "name": "python3"
    },
    "language_info": {
      "codemirror_mode": {
        "name": "ipython",
        "version": 3
      },
      "file_extension": ".py",
      "mimetype": "text/x-python",
      "name": "python",
      "nbconvert_exporter": "python",
      "pygments_lexer": "ipython3",
      "version": "3.10.1"
    }
  },
  "nbformat": 4,
  "nbformat_minor": 0
}