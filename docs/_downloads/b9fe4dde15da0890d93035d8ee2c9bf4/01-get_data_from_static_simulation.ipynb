{
  "cells": [
    {
      "cell_type": "markdown",
      "metadata": {},
      "source": [
        "# Get data from static simulation {#ref_get_data_from_static_simulation}\r\n\r\n**\u4ece\u9759\u6001\u6a21\u62df\u4e2d\u83b7\u53d6\u6570\u636e**\r\n\r\n\u672c\u4f8b\u6f14\u793a\u4e86\u5982\u4f55\u4ece\u5148\u524d\u5b58\u50a8\u7684\u9759\u6001\u6a21\u62df\u4e2d\u8bf7\u6c42\u6570\u636e\u3002\u53ef\u4ee5\u5217\u51fa\u53ef\u7528\u7ed3\u679c\uff0c\u67e5\u770b\u53ef\u4ee5\u68c0\u7d22\u5230\u54ea\u4e9b\u7ed3\u679c\u3002\r\n"
      ]
    },
    {
      "cell_type": "markdown",
      "metadata": {},
      "source": [
        "# Imports and loading simulation\r\n\r\n**\u5bfc\u5165\u548c\u52a0\u8f7d\u6a21\u62df**\r\n"
      ]
    },
    {
      "cell_type": "code",
      "execution_count": null,
      "metadata": {
        "collapsed": false
      },
      "outputs": [],
      "source": [
        "from ansys.dpf import post\nfrom ansys.dpf.post import examples\n\nsimulation = post.load_simulation(examples.static_rst)\nprint(simulation)"
      ]
    },
    {
      "cell_type": "markdown",
      "metadata": {},
      "source": [
        "# Get and plot displacements\r\n\r\n**\u83b7\u53d6\u5e76\u7ed8\u5236\u4f4d\u79fb\u56fe**\r\n"
      ]
    },
    {
      "cell_type": "code",
      "execution_count": null,
      "metadata": {
        "collapsed": false
      },
      "outputs": [],
      "source": [
        "displacement = simulation.displacement()"
      ]
    },
    {
      "cell_type": "markdown",
      "metadata": {},
      "source": [
        "\u6253\u5370\u4fe1\u606f\r\n"
      ]
    },
    {
      "cell_type": "code",
      "execution_count": null,
      "metadata": {
        "collapsed": false
      },
      "outputs": [],
      "source": [
        "print(displacement._fc)"
      ]
    },
    {
      "cell_type": "markdown",
      "metadata": {},
      "source": [
        "\u7ed8\u5236\u4f4d\u79fb\u56fe\r\n"
      ]
    },
    {
      "cell_type": "code",
      "execution_count": null,
      "metadata": {
        "collapsed": false
      },
      "outputs": [],
      "source": [
        "displacement._fc[0].plot()"
      ]
    },
    {
      "cell_type": "markdown",
      "metadata": {},
      "source": [
        "# Get and plot stresses\r\n\r\n**\u83b7\u53d6\u5e76\u7ed8\u5236\u5e94\u529b\u56fe**\r\n"
      ]
    },
    {
      "cell_type": "markdown",
      "metadata": {},
      "source": [
        "\u5e73\u5747\u5404\u8282\u70b9\u7684 \\\"XY\\\" \u5e94\u529b\u5206\u91cf\r\n"
      ]
    },
    {
      "cell_type": "code",
      "execution_count": null,
      "metadata": {
        "collapsed": false
      },
      "outputs": [],
      "source": [
        "stress = simulation.stress_nodal(components=\"XY\")"
      ]
    },
    {
      "cell_type": "markdown",
      "metadata": {},
      "source": [
        "\u6253\u5370\u4fe1\u606f\r\n"
      ]
    },
    {
      "cell_type": "code",
      "execution_count": null,
      "metadata": {
        "collapsed": false
      },
      "outputs": [],
      "source": [
        "print(stress._fc)"
      ]
    },
    {
      "cell_type": "markdown",
      "metadata": {},
      "source": [
        "\u7ed8\u5236\u53ef\u7528\u5e94\u529b\r\n"
      ]
    },
    {
      "cell_type": "code",
      "execution_count": null,
      "metadata": {
        "collapsed": false
      },
      "outputs": [],
      "source": [
        "stress._fc[0].plot()"
      ]
    },
    {
      "cell_type": "markdown",
      "metadata": {},
      "source": [
        "# Get stresses at only 5 nodes\r\n\r\n**\u4ec5\u5728 5 \u4e2a\u8282\u70b9\u4f4d\u7f6e\u5904\u83b7\u53d6\u5e94\u529b**\r\n"
      ]
    },
    {
      "cell_type": "markdown",
      "metadata": {},
      "source": [
        "\u5bf9\u6839\u636e ID \u9009\u5b9a\u7684\u524d 5 \u4e2a\u8282\u70b9\u8bf7\u6c42\u5e94\u529b\r\n"
      ]
    },
    {
      "cell_type": "code",
      "execution_count": null,
      "metadata": {
        "collapsed": false
      },
      "outputs": [],
      "source": [
        "stress_nodes = simulation.stress_nodal(node_ids=range(1, 6))"
      ]
    },
    {
      "cell_type": "markdown",
      "metadata": {},
      "source": [
        "\u6253\u5370\u4fe1\u606f\r\n"
      ]
    },
    {
      "cell_type": "code",
      "execution_count": null,
      "metadata": {
        "collapsed": false
      },
      "outputs": [],
      "source": [
        "print(stress_nodes._fc)"
      ]
    },
    {
      "cell_type": "markdown",
      "metadata": {},
      "source": [
        "\u7ed8\u5236\u5e94\u529b\u56fe\r\n"
      ]
    },
    {
      "cell_type": "code",
      "execution_count": null,
      "metadata": {
        "collapsed": false
      },
      "outputs": [],
      "source": [
        "stress_nodes._fc[0].plot()"
      ]
    },
    {
      "cell_type": "markdown",
      "metadata": {},
      "source": [
        "# Get stresses in a named selection\r\n\r\n**\u83b7\u53d6\u5df2\u547d\u540d\u9009\u533a\u4e2d\u7684\u5e94\u529b**\r\n"
      ]
    },
    {
      "cell_type": "markdown",
      "metadata": {},
      "source": [
        "\u83b7\u53d6\u6a21\u62df\u4e2d\u7b2c\u4e00\u4e2a\u547d\u540d\u9009\u533a\u7684\u540d\u79f0\r\n"
      ]
    },
    {
      "cell_type": "code",
      "execution_count": null,
      "metadata": {
        "collapsed": false
      },
      "outputs": [],
      "source": [
        "ns = simulation.named_selections[0]\n# \u8bf7\u6c42\u6b64\u547d\u540d\u9009\u533a\u7684\u8282\u70b9\u5e94\u529b\nstress_named_sel = simulation.stress_nodal(named_selections=ns)"
      ]
    },
    {
      "cell_type": "markdown",
      "metadata": {},
      "source": [
        "\u6253\u5370\u4fe1\u606f\r\n"
      ]
    },
    {
      "cell_type": "code",
      "execution_count": null,
      "metadata": {
        "collapsed": false
      },
      "outputs": [],
      "source": [
        "print(stress_named_sel._fc)"
      ]
    },
    {
      "cell_type": "markdown",
      "metadata": {},
      "source": [
        "\u7ed8\u5236\u5e94\u529b\u56fe\r\n"
      ]
    },
    {
      "cell_type": "code",
      "execution_count": null,
      "metadata": {
        "collapsed": false
      },
      "outputs": [],
      "source": [
        "stress_named_sel._fc[0].plot()"
      ]
    },
    {
      "cell_type": "markdown",
      "metadata": {},
      "source": [
        "# Get stresses in a few elements\r\n\r\n**\u83b7\u53d6\u82e5\u5e72\u4e2a\u5355\u5143\u4e2d\u7684\u5e94\u529b\u6570\u636e**\r\n"
      ]
    },
    {
      "cell_type": "markdown",
      "metadata": {},
      "source": [
        "\u4ec5\u5bf9\u6839\u636e ID \u9009\u5b9a\u7684\u51e0\u4e2a\u5355\u5143\u8bf7\u6c42\u5e94\u529b\r\n"
      ]
    },
    {
      "cell_type": "code",
      "execution_count": null,
      "metadata": {
        "collapsed": false
      },
      "outputs": [],
      "source": [
        "stress_elements = simulation.stress_nodal(element_ids=[1, 2, 3])"
      ]
    },
    {
      "cell_type": "markdown",
      "metadata": {},
      "source": [
        "\u6253\u5370\u4fe1\u606f\r\n"
      ]
    },
    {
      "cell_type": "code",
      "execution_count": null,
      "metadata": {
        "collapsed": false
      },
      "outputs": [],
      "source": [
        "print(stress_elements._fc)"
      ]
    },
    {
      "cell_type": "markdown",
      "metadata": {},
      "source": [
        "\u7ed8\u5236\u5e94\u529b\u56fe\r\n"
      ]
    },
    {
      "cell_type": "code",
      "execution_count": null,
      "metadata": {
        "collapsed": false
      },
      "outputs": [],
      "source": [
        "stress_elements._fc[0].plot()"
      ]
    },
    {
      "cell_type": "markdown",
      "metadata": {},
      "source": [
        "# Get elemental stress and raw stresses\r\n\r\n*\u83b7\u53d6\u5355\u5143\u5e94\u529b\u548c\u539f\u59cb\u5e94\u529b*\\*\r\n"
      ]
    },
    {
      "cell_type": "code",
      "execution_count": null,
      "metadata": {
        "collapsed": false
      },
      "outputs": [],
      "source": [
        "# \u83b7\u53d6\u5355\u5143\u5e94\u529b\u5e76\u6253\u5370\u4fe1\u606f\nstress_elements = simulation.stress_elemental()\nprint(stress_elements._fc)"
      ]
    },
    {
      "cell_type": "markdown",
      "metadata": {},
      "source": [
        "\u8bf7\u6c42\u539f\u59cb\u5e94\u529b\uff08\"ElementalNode\"\uff09\u5e76\u6253\u5370\u4fe1\u606f\r\n"
      ]
    },
    {
      "cell_type": "code",
      "execution_count": null,
      "metadata": {
        "collapsed": false
      },
      "outputs": [],
      "source": [
        "stress_raw = simulation.stress()\nprint(stress_raw._fc)"
      ]
    }
  ],
  "metadata": {
    "kernelspec": {
      "display_name": "Python 3",
      "language": "python",
      "name": "python3"
    },
    "language_info": {
      "codemirror_mode": {
        "name": "ipython",
        "version": 3
      },
      "file_extension": ".py",
      "mimetype": "text/x-python",
      "name": "python",
      "nbconvert_exporter": "python",
      "pygments_lexer": "ipython3",
      "version": "3.10.1"
    }
  },
  "nbformat": 4,
  "nbformat_minor": 0
}