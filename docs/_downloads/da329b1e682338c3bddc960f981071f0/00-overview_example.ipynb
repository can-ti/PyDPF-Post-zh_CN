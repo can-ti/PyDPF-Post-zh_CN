{
  "cells": [
    {
      "cell_type": "markdown",
      "metadata": {},
      "source": [
        "# PyDPF-Post overview {#ref_overview_example}\r\n\r\n**PyDPF-Post \u6982\u8ff0**\r\n\r\n\u672c\u4f8b\u6982\u8ff0\u4e86\u5982\u4f55\u4f7f\u7528 PyDPF-Post\u3002\r\n"
      ]
    },
    {
      "cell_type": "markdown",
      "metadata": {},
      "source": [
        "# Perform required imports\r\n\r\n**\u6267\u884c\u6240\u9700\u7684\u5bfc\u5165**\r\n"
      ]
    },
    {
      "cell_type": "markdown",
      "metadata": {},
      "source": [
        "\u672c\u793a\u4f8b\u4f7f\u7528\u4e86\u4e00\u4e2a\u63d0\u4f9b\u7684\u6587\u4ef6\uff0c\u60a8\u53ef\u4ee5\u901a\u8fc7\u5bfc\u5165 DPF `examples` \u5305\u83b7\u5f97\u8be5\u6587\u4ef6\u3002\r\n"
      ]
    },
    {
      "cell_type": "code",
      "execution_count": null,
      "metadata": {
        "collapsed": false
      },
      "outputs": [],
      "source": [
        "from ansys.dpf import post\nfrom ansys.dpf.post import examples"
      ]
    },
    {
      "cell_type": "markdown",
      "metadata": {},
      "source": [
        "# Get `Solution` object\r\n"
      ]
    },
    {
      "cell_type": "code",
      "execution_count": null,
      "metadata": {
        "collapsed": false
      },
      "outputs": [],
      "source": [
        "# \u83b7\u53d6\u5141\u8bb8\u8bbf\u95ee\u7ed3\u679c\u7684 ``Solution`` \u5bf9\u8c61\u3002``Solution`` \u5bf9\u8c61\u5fc5\u987b\u4f7f\u7528\u7ed3\u679c\u6587\u4ef6\u7684\u8def\u5f84\u5b9e\u4f8b\u5316\u3002\u4f8b\u5982\uff0cWindows \u4e0b\u4e3a ``\"C:/Users/user/my_result.rst\"`` \u6216 Linux \u4e0b\u4e3a ``\"/home/user/my_result.rst\"`` \u3002\n\nsolution = post.load_solution(examples.multishells_rst)"
      ]
    },
    {
      "cell_type": "markdown",
      "metadata": {},
      "source": [
        "# Get mesh and time/frequency support\r\n\r\n**\u83b7\u5f97\u7f51\u683c\u548c\u65f6\u95f4/\u9891\u7387\u652f\u6301**\r\n"
      ]
    },
    {
      "cell_type": "markdown",
      "metadata": {},
      "source": [
        "\u7f51\u683c\u662f\u6a21\u578b\u7684\u652f\u6491\u3002 \u65f6\u95f4/\u9891\u7387\u652f\u6301\u662f\u6a21\u578b\u7684\u65f6\u95f4/\u9891\u7387\u8868\u793a\u3002\r\n"
      ]
    },
    {
      "cell_type": "code",
      "execution_count": null,
      "metadata": {
        "collapsed": false
      },
      "outputs": [],
      "source": [
        "mesh = solution.mesh\ntime_freq_support = solution.time_freq_support"
      ]
    },
    {
      "cell_type": "markdown",
      "metadata": {},
      "source": [
        "# Get `Result` object\r\n\r\n**\u83b7\u53d6 \\`\\`Result\\`\\` \u5bf9\u8c61**\r\n"
      ]
    },
    {
      "cell_type": "markdown",
      "metadata": {},
      "source": [
        "\u4ece `Solution` \u5bf9\u8c61\u83b7\u53d6\u4e00\u4e2a `Result` \u5bf9\u8c61\u3002 `Result`\r\n\u5bf9\u8c61\u53ef\u4ee5\u662f\u5e94\u529b\u3001\u5851\u6027\u5e94\u53d8\u3001\u5f39\u6027\u5e94\u53d8\u3001\u6e29\u5ea6\u6216\u4f4d\u79fb\u3002\r\n"
      ]
    },
    {
      "cell_type": "code",
      "execution_count": null,
      "metadata": {
        "collapsed": false
      },
      "outputs": [],
      "source": [
        "post.print_available_keywords()\nstress = solution.stress(location=post.locations.nodal, time_scoping=[1]) # \u65f6\u95f4\u8303\u56f4\n\n# \u5728\u5e94\u529b\u7ed3\u679c\u7684\u5b9a\u4e49\u4e2d\uff0c\u53ef\u4ee5\u4f7f\u7528 ``location`` \u548c ``time_scoping`` \u3002\n\nstress.definition.location\nstress.definition.time_scoping\n\nprint(stress)"
      ]
    },
    {
      "cell_type": "markdown",
      "metadata": {},
      "source": [
        "# Compute data\r\n\r\n**\u8ba1\u7b97\u6570\u636e**\r\n\r\n**SX \u5b50\u7ed3\u679c**\r\n\r\n\u8be5\u4ee3\u7801\u5f97\u5230\u7684\u5b50\u7ed3\u679c `SX` \u662f XX \u65b9\u5411\u7684\u5e94\u529b\u5f20\u91cf\u3002\r\n"
      ]
    },
    {
      "cell_type": "code",
      "execution_count": null,
      "metadata": {
        "collapsed": false
      },
      "outputs": [],
      "source": [
        "sx = stress.xx # \u9996\u5148\u4ece stress \u5bf9\u8c61\u4e2d\u83b7\u53d6 xx \u7ec4\u4ef6\u7684\u5e94\u529b\uff0c\u7136\u540e\u5b58\u50a8\u5728 sx \u4e2d\nsx.num_fields # \u83b7\u53d6 sx \u7684\u5b57\u6bb5\u6570\u91cf\uff08num_fields\uff09\nsx_field = sx[0] # \u83b7\u53d6 sx \u7684\u7b2c\u4e00\u4e2a\u5b57\u6bb5\uff0c\u5e76\u5c06\u5176\u5b58\u50a8\u5728 sx_field \u4e2d\nsx_data = sx.get_data_at_field(0) # \u8c03\u7528 sx \u7684 ``get_data_at_field`` \u65b9\u6cd5\uff0c\u83b7\u53d6\u7b2c\u4e00\u4e2a\u5b57\u6bb5\u7684\u6570\u636e\uff0c\u5e76\u5c06\u5176\u5b58\u50a8\u5728 sx_data \u4e2d\nprint(\"\u6570\u636e\u957f\u5ea6\uff1a\", len(sx_data))\nprint(\"-------------------------------\")\nprint(\"\u6700\u5927\u5e94\u529b\u573a\uff1a\\n\", sx.max)\nprint(\"-------------------------------\")\nprint(\"\u5e94\u529b\u573a\u7684\u6700\u5927\u6570\u636e\uff1a\", sx.max_data)\nprint(\"\u5e94\u529b\u573a\u5b57\u6bb5 0 \u7684\u6700\u5927 SX\uff1a\", sx.get_max_data_at_field(0))"
      ]
    },
    {
      "cell_type": "markdown",
      "metadata": {},
      "source": [
        "**\u5e94\u529b\u5f20\u91cf\u7ed3\u679c**\r\n\r\n\u8be5\u4ee3\u7801\u53ef\u83b7\u53d6\u6240\u6709\u65b9\u5411\uff08\\`XX`` `, `XY ``, [XZ]{.title-ref}[,\r\n\\`XY]{.title-ref}[, \\`YZ]{.title-ref}[ \u548c\r\n\\`XZ]{.title-ref}\\`\uff09\u7684\u573a\u7684\u6700\u5c0f\u548c\u6700\u5927\u5e94\u529b\u3002\r\n"
      ]
    },
    {
      "cell_type": "code",
      "execution_count": null,
      "metadata": {
        "collapsed": false
      },
      "outputs": [],
      "source": [
        "s = stress.tensor\ns_field = s[0]\ns_data = sx.get_data_at_field(0)\nprint(\"\u6570\u636e\u957f\u5ea6\uff1a\", len(s_data))\nprint(\"-------------------------------\")\nprint(\"\u6700\u5927\u5e94\u529b\u573a\uff1a\\n\", s.max)\nprint(\"-------------------------------\")\nprint(\"\u5e94\u529b\u573a\u7684\u6700\u5927\u6570\u636e\uff1a\", s.max_data)\nprint(\"\u5e94\u529b\u573a\u5b57\u6bb5 0 \u65f6\u7684\u6700\u5927\u5e94\u529b\u5f20\u91cf\uff1a\\n\", s.get_max_data_at_field(0))\nprint(\"===============================\")\nprint(\"\u6700\u5c0f\u5e94\u529b\u573a\uff1a\\n\", s.min)\nprint(\"-------------------------------\")\nprint(\"\u5e94\u529b\u573a\u7684\u6700\u5c0f\u6570\u636e\uff1a\", s.min_data)\nprint(\"\u5e94\u529b\u573a\u5b57\u6bb5 0 \u5904\u7684\u6700\u5c0f\u5e94\u529b\u5f20\u91cf\uff1a\\n\", s.get_min_data_at_field(0))"
      ]
    },
    {
      "cell_type": "markdown",
      "metadata": {},
      "source": [
        "# Plot result\r\n\r\n**\u7ed8\u5236\u7ed3\u679c**\r\n"
      ]
    },
    {
      "cell_type": "markdown",
      "metadata": {},
      "source": [
        "\u4f7f\u7528 `plot_contour()` \u65b9\u6cd5\u7ed8\u5236\u7ed3\u679c\u3002\r\n"
      ]
    },
    {
      "cell_type": "code",
      "execution_count": null,
      "metadata": {
        "collapsed": false
      },
      "outputs": [],
      "source": [
        "s.plot_contour()"
      ]
    }
  ],
  "metadata": {
    "kernelspec": {
      "display_name": "Python 3",
      "language": "python",
      "name": "python3"
    },
    "language_info": {
      "codemirror_mode": {
        "name": "ipython",
        "version": 3
      },
      "file_extension": ".py",
      "mimetype": "text/x-python",
      "name": "python",
      "nbconvert_exporter": "python",
      "pygments_lexer": "ipython3",
      "version": "3.10.1"
    }
  },
  "nbformat": 4,
  "nbformat_minor": 0
}