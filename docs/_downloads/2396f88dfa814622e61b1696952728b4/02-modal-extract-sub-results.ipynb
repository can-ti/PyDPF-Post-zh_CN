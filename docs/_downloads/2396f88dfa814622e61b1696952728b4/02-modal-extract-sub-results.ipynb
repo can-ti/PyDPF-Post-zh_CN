{
  "cells": [
    {
      "cell_type": "markdown",
      "metadata": {},
      "source": [
        "# Extract components of results - Modal Simulation {#ref_modal_sub_results_example}\r\n\r\n**\u63d0\u53d6\u90e8\u5206\u7ed3\u679c - \u6a21\u6001\u5206\u6790**\r\n\r\n\u5728\u8be5\u811a\u672c\u4e2d\uff0c\u5c06\u5bf9\u6a21\u6001\u6a21\u62df\u8fdb\u884c\u5904\u7406\uff0c\u4ee5\u63d0\u53d6\u5f39\u6027\u5e94\u53d8\u548c\u4f4d\u79fb\u7b49\u7ed3\u679c\u7684\u5b50\u7ec4\u4ef6\u3002\r\n"
      ]
    },
    {
      "cell_type": "markdown",
      "metadata": {},
      "source": [
        "# Perform required imports\r\n\r\n**\u6267\u884c\u6240\u9700\u7684\u5bfc\u5165**\r\n"
      ]
    },
    {
      "cell_type": "markdown",
      "metadata": {},
      "source": [
        "\u672c\u793a\u4f8b\u4f7f\u7528\u4e86\u4e00\u4e2a\u63d0\u4f9b\u7684\u6587\u4ef6\uff0c\u60a8\u53ef\u4ee5\u901a\u8fc7\u5bfc\u5165 DPF `examples` \u5305\u83b7\u5f97\u8be5\u6587\u4ef6\u3002\r\n"
      ]
    },
    {
      "cell_type": "code",
      "execution_count": null,
      "metadata": {
        "collapsed": false
      },
      "outputs": [],
      "source": [
        "from ansys.dpf import post\nfrom ansys.dpf.post import examples"
      ]
    },
    {
      "cell_type": "markdown",
      "metadata": {},
      "source": [
        "# Get the `Simulation` object\r\n\r\n**\u83b7\u53d6\u5141\u8bb8\u8bbf\u95ee\u7ed3\u679c\u7684 \\`\\`Simulation\\`\\` \u5bf9\u8c61**\r\n"
      ]
    },
    {
      "cell_type": "markdown",
      "metadata": {},
      "source": [
        "\u5fc5\u987b\u4f7f\u7528\u7ed3\u679c\u6587\u4ef6\u7684\u8def\u5f84\u5b9e\u4f8b\u5316 `Simulation` \u5bf9\u8c61\u3002\u4f8b\u5982\uff0cWindows \u4e0b\u4e3a\r\n`\"C:/Users/user/my_result.rst\"` \u6216 Linux \u4e0b\u4e3a\r\n`\"/home/user/my_result.rst\"` \u3002\r\n"
      ]
    },
    {
      "cell_type": "code",
      "execution_count": null,
      "metadata": {
        "collapsed": false
      },
      "outputs": [],
      "source": [
        "example_path = examples.download_all_kinds_of_complexity_modal()\n\n# \u81ea\u52a8\u68c0\u6d4b\u6a21\u62df\u7c7b\u578b\uff0c\u8bf7\u4f7f\u7528\nsimulation = post.load_simulation(example_path)\n\n# \u8981\u542f\u7528 auto-completion \u529f\u80fd\uff0c\u8bf7\u4f7f\u7528\u7b49\u6548\u7684\u547d\u4ee4\uff1a\nsimulation = post.ModalMechanicalSimulation(example_path)\n\n# \u6253\u5370 simulation \uff0c\u4e86\u89e3\u53ef\u7528\u5185\u5bb9\u7684\u6982\u51b5\nprint(simulation)"
      ]
    },
    {
      "cell_type": "markdown",
      "metadata": {},
      "source": [
        "# Extract X displacement over a list modes\r\n\r\n\u63d0\u53d6\u5217\u8868\u6a21\u6001\u7684 X \u4f4d\u79fb\r\n"
      ]
    },
    {
      "cell_type": "markdown",
      "metadata": {},
      "source": [
        "\u6253\u5370time-freq\u652f\u6301\u6709\u52a9\u4e8e\u9009\u62e9\u6b63\u786e\u7684\u6a21\u6001\r\n"
      ]
    },
    {
      "cell_type": "code",
      "execution_count": null,
      "metadata": {
        "collapsed": false
      },
      "outputs": [],
      "source": [
        "print(simulation.time_freq_support)\n\n# \u83b7\u53d6\u524d 2 \u9636\u6a21\u6001\u7684 X \u4f4d\u79fb\nx_displacement = simulation.displacement(modes=[1, 2], components=[\"X\"])\n# equivalent to\n# x_displacement = simulation.displacement(set_ids=[1, 2], components=[\"X\"])\nprint(x_displacement)\n\nx_displacement.plot(set_id=1)"
      ]
    },
    {
      "cell_type": "markdown",
      "metadata": {},
      "source": [
        "# Extract XX and XY elastic strain over a list modes\r\n\r\n\u63d0\u53d6\u6a21\u6001\u5217\u8868\u4e2d\u7684 XX \u548c XY \u5f39\u6027\u5e94\u53d8\r\n"
      ]
    },
    {
      "cell_type": "code",
      "execution_count": null,
      "metadata": {
        "collapsed": false
      },
      "outputs": [],
      "source": [
        "# \u83b7\u53d6\u7b2c 3 \u9636\u6a21\u6001\u7684 XX \u548c XY \u5f39\u6027\u5e94\u53d8\nXX_XY_elastic_strain = simulation.elastic_strain_nodal(\n    modes=[3], components=[\"XX\", \"XY\"]\n)\nprint(XX_XY_elastic_strain)"
      ]
    }
  ],
  "metadata": {
    "kernelspec": {
      "display_name": "Python 3",
      "language": "python",
      "name": "python3"
    },
    "language_info": {
      "codemirror_mode": {
        "name": "ipython",
        "version": 3
      },
      "file_extension": ".py",
      "mimetype": "text/x-python",
      "name": "python",
      "nbconvert_exporter": "python",
      "pygments_lexer": "ipython3",
      "version": "3.10.1"
    }
  },
  "nbformat": 4,
  "nbformat_minor": 0
}