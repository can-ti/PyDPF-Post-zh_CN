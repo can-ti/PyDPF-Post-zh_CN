{
  "cells": [
    {
      "cell_type": "markdown",
      "metadata": {},
      "source": [
        "# Validate External Layer results with full Mesh {#ref_mesh_external_layer_compare_example}\r\n\r\n**\u4f7f\u7528\u5b8c\u6574\u7f51\u683c\u9a8c\u8bc1\u5916\u5c42\u7ed3\u679c**\r\n\r\n\u6b64\u793a\u4f8b\u663e\u793a\u4ee5\u4e0b\u5404\u9879\u4e4b\u95f4\u7684\u540e\u5904\u7406\u6bd4\u8f83\uff1a\r\n\r\n:   -   \u4ec5\u5728\u5916\u5c42\u63d0\u53d6\u7ed3\u679c\u548c\u7f51\u683c\u3002\r\n    -   \u5728\u6574\u4e2a\u7f51\u683c\u4e0a\u63d0\u53d6\u7ed3\u679c\u548c\u7f51\u683c\u3002\r\n\r\n\u5916\u5c42\u662f solid \u5355\u5143\u5c42\uff0c\u5176\u4e2d\u81f3\u5c11\u6709\u4e00\u4e2a\u9762\u671d\u5411\u51e0\u4f55\u4f53\u7684\u5916\u90e8\u3002\r\n\r\n\u8be5\u529f\u80fd\u9002\u7528\u4e8e\u6240\u6709\u7c7b\u578b\u7684\u529b\u5b66\u4eff\u771f\uff0c\u5141\u8bb8\u60a8\u7f29\u5c0f\u7f51\u683c\u548c\u63d0\u53d6\u6570\u636e\u7684\u5927\u5c0f\uff0c\u4ee5\u63d0\u9ad8\u5904\u7406\u6027\u80fd\u3002\u7531\u4e8e\u8f83\u5927\u7684\u5e94\u529b\u548c\u5e94\u53d8\u901a\u5e38\u4f4d\u4e8e\u6a21\u578b\u7684\u5916\u5c42\uff0c\u56e0\u6b64\u5728\u5927\u591a\u6570\u60c5\u51b5\u4e0b\uff0c\u5728\u5916\u5c42\u8ba1\u7b97\u7ed3\u679c\u53ef\u63d0\u4f9b\u7b49\u6548\u7684\u6700\u5927\u503c\u3002\r\n"
      ]
    },
    {
      "cell_type": "markdown",
      "metadata": {},
      "source": [
        "# Perform required imports\r\n\r\n**\u6267\u884c\u6240\u9700\u7684\u5bfc\u5165**\r\n"
      ]
    },
    {
      "cell_type": "markdown",
      "metadata": {},
      "source": [
        "\u672c\u793a\u4f8b\u4f7f\u7528\u4e86\u4e00\u4e2a\u63d0\u4f9b\u7684\u6587\u4ef6\uff0c\u60a8\u53ef\u4ee5\u901a\u8fc7\u5bfc\u5165 DPF `examples` \u5305\u83b7\u5f97\u8be5\u6587\u4ef6\u3002\r\n"
      ]
    },
    {
      "cell_type": "code",
      "execution_count": null,
      "metadata": {
        "collapsed": false
      },
      "outputs": [],
      "source": [
        "from ansys.dpf import post\nfrom ansys.dpf.post import examples"
      ]
    },
    {
      "cell_type": "markdown",
      "metadata": {},
      "source": [
        "# Get `Simulation` object\r\n\r\n**\u5c06\u7ed3\u679c\u6587\u4ef6\u52a0\u8f7d\u5230\u5141\u8bb8\u8bbf\u95ee\u7ed3\u679c\u7684 \\`\\`Simulation\\`\\` \u5bf9\u8c61\u4e2d**\r\n"
      ]
    },
    {
      "cell_type": "markdown",
      "metadata": {},
      "source": [
        "\u5fc5\u987b\u4f7f\u7528\u7ed3\u679c\u6587\u4ef6\u7684\u8def\u5f84\u5b9e\u4f8b\u5316 `Simulation` \u5bf9\u8c61\u3002\u4f8b\u5982\uff0cWindows \u4e0b\u4e3a\r\n`\"C:/Users/user/my_result.rst\"` \u6216 Linux \u4e0b\u4e3a\r\n`\"/home/user/my_result.rst\"` \u3002\r\n"
      ]
    },
    {
      "cell_type": "code",
      "execution_count": null,
      "metadata": {
        "collapsed": false
      },
      "outputs": [],
      "source": [
        "example_path = examples.download_crankshaft()\n# \u81ea\u52a8\u68c0\u6d4b\u6a21\u62df\u7c7b\u578b\uff0c\u8bf7\u4f7f\u7528\nsimulation = post.load_simulation(example_path)\n\n# \u8981\u542f\u7528\u81ea\u52a8\u5b8c\u6210\u529f\u80fd\uff0c\u8bf7\u4f7f\u7528\u7b49\u6548\u7684\u547d\u4ee4\uff1a\nsimulation = post.StaticMechanicalSimulation(example_path)\n\n# \u6253\u5370 simulation\uff0c\u4e86\u89e3\u53ef\u7528\u5185\u5bb9\u7684\u6982\u51b5\nprint(simulation)"
      ]
    },
    {
      "cell_type": "markdown",
      "metadata": {},
      "source": [
        "# Extract displacement data\r\n\r\n**\u63d0\u53d6\u6574\u4e2a\u7f51\u683c\u548c\u5916\u5c42\u7684\u4f4d\u79fb\u6570\u636e**\r\n"
      ]
    },
    {
      "cell_type": "code",
      "execution_count": null,
      "metadata": {
        "collapsed": false
      },
      "outputs": [],
      "source": [
        "displacement_ext = simulation.displacement(external_layer=True)\ndisplacement = simulation.displacement()  # default is `external_layer=False`\ndisplacement_ext.plot()\ndisplacement.plot()\n\nprint(\n    f\"number of nodes with `external_layer=True`: {len(displacement_ext.index.mesh_index)}\"\n)\nprint(\n    f\"number of nodes with `external_layer=False`: {len(displacement.index.mesh_index)}\"\n)"
      ]
    },
    {
      "cell_type": "markdown",
      "metadata": {},
      "source": [
        "# Extract stress/strain data\r\n\r\n**\u63d0\u53d6\u5e94\u529b/\u5e94\u53d8\u6570\u636e**\r\n"
      ]
    },
    {
      "cell_type": "markdown",
      "metadata": {},
      "source": [
        "\u63d0\u53d6\u6574\u4e2a\u7f51\u683c\u548c\u5916\u5c42\u7684\u5e94\u529b\u6216\u5f39\u6027\u5e94\u53d8\u6570\u636e\u3002\r\n\u7531\u4e8e\u4fdd\u6301\u5355\u5143\u7684\u8fde\u901a\u6027\u4e0d\u53d8\uff0c\u56e0\u6b64\u53ef\u4ee5\u5f88\u5bb9\u6613\u5730\u5728\u5916\u90e8\u5c42\u4e0a\u8fdb\u884c\u5e73\u5747\u548c\u4e0d\u53d8\u91cf\u8ba1\u7b97\u3002\r\n"
      ]
    },
    {
      "cell_type": "code",
      "execution_count": null,
      "metadata": {
        "collapsed": false
      },
      "outputs": [],
      "source": [
        "elemental_stress_ext = simulation.stress_principal_elemental(\n    components=[1], external_layer=True\n)\nelemental_stress = simulation.stress_principal_elemental()\nelemental_stress_ext.plot()\nelemental_stress.plot()\n\nprint(\n    f\"number of elements with `external_layer=True`: {len(elemental_stress_ext.index.mesh_index)}\"\n)\nprint(\n    f\"number of elements with `external_layer=False`: {len(elemental_stress.index.mesh_index)}\"\n)\n\nelastic_strain_eqv_ext = simulation.elastic_strain_eqv_von_mises_nodal(\n    external_layer=True\n)\nelastic_strain_eqv = simulation.elastic_strain_eqv_von_mises_nodal()\nelastic_strain_eqv_ext.plot()\nelastic_strain_eqv.plot()"
      ]
    }
  ],
  "metadata": {
    "kernelspec": {
      "display_name": "Python 3",
      "language": "python",
      "name": "python3"
    },
    "language_info": {
      "codemirror_mode": {
        "name": "ipython",
        "version": 3
      },
      "file_extension": ".py",
      "mimetype": "text/x-python",
      "name": "python",
      "nbconvert_exporter": "python",
      "pygments_lexer": "ipython3",
      "version": "3.10.1"
    }
  },
  "nbformat": 4,
  "nbformat_minor": 0
}