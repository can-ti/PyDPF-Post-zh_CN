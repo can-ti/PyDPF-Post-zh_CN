{
  "cells": [
    {
      "cell_type": "markdown",
      "metadata": {},
      "source": [
        "# Basic features {#ref_basics}\r\n\r\n**\u57fa\u672c\u529f\u80fd**\r\n\r\n\u672c\u4f8b\u5411\u60a8\u5c55\u793a\u5982\u4f55\u83b7\u53d6\u548c\u4f7f\u7528 `Result` \u5bf9\u8c61\u3002\r\n"
      ]
    },
    {
      "cell_type": "markdown",
      "metadata": {},
      "source": [
        "# Perform required imports\r\n\r\n**\u6267\u884c\u6240\u9700\u7684\u5bfc\u5165**\r\n"
      ]
    },
    {
      "cell_type": "code",
      "execution_count": null,
      "metadata": {
        "collapsed": false
      },
      "outputs": [],
      "source": [
        "from ansys.dpf import post\nfrom ansys.dpf.post import examples"
      ]
    },
    {
      "cell_type": "markdown",
      "metadata": {},
      "source": [
        "# Get `Solution` object\r\n\r\n\u83b7\u53d6 `Solution` \u5bf9\u8c61\uff0c\u5e76\u4f7f\u7528\u7ed3\u679c\u6587\u4ef6\u7684\u8def\u5f84\u5c06\u5176\u5b9e\u4f8b\u5316\u3002\r\n"
      ]
    },
    {
      "cell_type": "code",
      "execution_count": null,
      "metadata": {
        "collapsed": false
      },
      "outputs": [],
      "source": [
        "example_path = examples.download_all_kinds_of_complexity()\nsolution = post.load_solution(example_path)"
      ]
    },
    {
      "cell_type": "markdown",
      "metadata": {},
      "source": [
        "# Get `Result` objects\r\n"
      ]
    },
    {
      "cell_type": "markdown",
      "metadata": {},
      "source": [
        "# Get displacement result\r\n\r\n\u83b7\u53d6\u4f4d\u79fb `Result` \u5bf9\u8c61\u3002\r\n"
      ]
    },
    {
      "cell_type": "code",
      "execution_count": null,
      "metadata": {
        "collapsed": false
      },
      "outputs": [],
      "source": [
        "displacement_result = solution.displacement()\ndisplacement = displacement_result.vector"
      ]
    },
    {
      "cell_type": "markdown",
      "metadata": {},
      "source": [
        "# Get information on result\r\n\r\n\u83b7\u53d6\u4f4d\u79fb\u7ed3\u679c\u4fe1\u606f\u3002\r\n"
      ]
    },
    {
      "cell_type": "markdown",
      "metadata": {},
      "source": [
        "\u83b7\u53d6 displacement \u5bf9\u8c61\u7684 num_fields \u5c5e\u6027\uff0c\u8fd9\u901a\u5e38\u8868\u793a displacement\r\n\u5bf9\u8c61\u5305\u542b\u7684\u5b57\u6bb5\u6570\u91cf\u3002\r\n"
      ]
    },
    {
      "cell_type": "code",
      "execution_count": null,
      "metadata": {
        "collapsed": false
      },
      "outputs": [],
      "source": [
        "displacement.num_fields"
      ]
    },
    {
      "cell_type": "markdown",
      "metadata": {},
      "source": [
        "\u8c03\u7528 displacement \u5bf9\u8c61\u7684 get_data_at_field \u65b9\u6cd5\uff0c\u83b7\u53d6\u7b2c 0 \u4e2a\u5b57\u6bb5\u7684\u6570\u636e\u3002\r\n"
      ]
    },
    {
      "cell_type": "code",
      "execution_count": null,
      "metadata": {
        "collapsed": false
      },
      "outputs": [],
      "source": [
        "disp_data = displacement.get_data_at_field(0)"
      ]
    },
    {
      "cell_type": "markdown",
      "metadata": {},
      "source": [
        "\u83b7\u53d6 disp_data \u7684\u957f\u5ea6\uff0c\u8fd9\u901a\u5e38\u8868\u793a disp_data \u5305\u542b\u7684\u5143\u7d20\u6570\u91cf\u3002\r\n"
      ]
    },
    {
      "cell_type": "code",
      "execution_count": null,
      "metadata": {
        "collapsed": false
      },
      "outputs": [],
      "source": [
        "len(disp_data)"
      ]
    },
    {
      "cell_type": "markdown",
      "metadata": {},
      "source": [
        "\u4ece disp_data \u5217\u8868\u4e2d\u83b7\u53d6\u7b2c\u4e8c\u4e2a\u5143\u7d20\uff08\u5728 Python \u4e2d\uff0c\u7d22\u5f15\u662f\u4ece 0\r\n\u5f00\u59cb\u7684\uff0c\u6240\u4ee5\u7d22\u5f15 1 \u5bf9\u5e94\u7684\u662f\u7b2c\u4e8c\u4e2a\u5143\u7d20\uff09\u3002\r\n"
      ]
    },
    {
      "cell_type": "code",
      "execution_count": null,
      "metadata": {
        "collapsed": false
      },
      "outputs": [],
      "source": [
        "disp_data[1]"
      ]
    },
    {
      "cell_type": "markdown",
      "metadata": {},
      "source": [
        "\u83b7\u53d6 displacement \u5bf9\u8c61\u7684 max_data \u5c5e\u6027\uff0c\u8fd9\u901a\u5e38\u8868\u793a displacement\r\n\u5bf9\u8c61\u5305\u542b\u7684\u6570\u636e\u7684\u6700\u5927\u503c\u3002\r\n"
      ]
    },
    {
      "cell_type": "code",
      "execution_count": null,
      "metadata": {
        "collapsed": false
      },
      "outputs": [],
      "source": [
        "displacement.max_data"
      ]
    },
    {
      "cell_type": "markdown",
      "metadata": {},
      "source": [
        "\u8c03\u7528 displacement \u5bf9\u8c61\u7684 get_max_data_at_field \u65b9\u6cd5\uff0c\u83b7\u53d6\u7b2c 0\r\n\u4e2a\u5b57\u6bb5\u7684\u6570\u636e\u7684\u6700\u5927\u503c\u3002\r\n"
      ]
    },
    {
      "cell_type": "code",
      "execution_count": null,
      "metadata": {
        "collapsed": false
      },
      "outputs": [],
      "source": [
        "displacement.get_max_data_at_field(0)"
      ]
    },
    {
      "cell_type": "markdown",
      "metadata": {},
      "source": [
        "\u83b7\u53d6 displacement \u5bf9\u8c61\u7684 min_data \u5c5e\u6027\uff0c\u8fd9\u901a\u5e38\u8868\u793a displacement\r\n\u5bf9\u8c61\u5305\u542b\u7684\u6570\u636e\u7684\u6700\u5c0f\u503c\u3002\r\n"
      ]
    },
    {
      "cell_type": "code",
      "execution_count": null,
      "metadata": {
        "collapsed": false
      },
      "outputs": [],
      "source": [
        "displacement.min_data"
      ]
    },
    {
      "cell_type": "markdown",
      "metadata": {},
      "source": [
        "# Get stress result\r\n\r\n**\u83b7\u53d6\u5e94\u529b\u7ed3\u679c**\r\n"
      ]
    },
    {
      "cell_type": "markdown",
      "metadata": {},
      "source": [
        "\u83b7\u53d6\u5f20\u91cf\u7684\u5e94\u529b `result`\r\n\u5bf9\u8c61\u3002\u53ef\u4ee5\u83b7\u53d6\u8282\u70b9\u4f4d\u7f6e\u7684\u7ed3\u679c\u6216\u5355\u5143\u4f4d\u7f6e\u7684\u7ed3\u679c\u3002\u9ed8\u8ba4\u4e3a\u8282\u70b9\u4f4d\u7f6e\u7684\u7ed3\u679c\u3002\r\n"
      ]
    },
    {
      "cell_type": "code",
      "execution_count": null,
      "metadata": {
        "collapsed": false
      },
      "outputs": [],
      "source": [
        "el_stress_result = solution.stress(location=post.locations.elemental)\nnod_stress_result = solution.stress(location=post.locations.nodal)"
      ]
    },
    {
      "cell_type": "markdown",
      "metadata": {},
      "source": [
        "# Get information on result\r\n\r\n**\u83b7\u53d6\u6709\u5173\u5e94\u529b\u7ed3\u679c\u7684\u4fe1\u606f**\r\n"
      ]
    },
    {
      "cell_type": "code",
      "execution_count": null,
      "metadata": {
        "collapsed": false
      },
      "outputs": [],
      "source": [
        "el_stress = el_stress_result.tensor\nnod_stress = nod_stress_result.tensor\n\nel_field = el_stress[0]\nel_field.location\n\nnod_field = nod_stress[0]\nnod_field.location\n\nel_stress.get_max_data_at_field(0)"
      ]
    }
  ],
  "metadata": {
    "kernelspec": {
      "display_name": "Python 3",
      "language": "python",
      "name": "python3"
    },
    "language_info": {
      "codemirror_mode": {
        "name": "ipython",
        "version": 3
      },
      "file_extension": ".py",
      "mimetype": "text/x-python",
      "name": "python",
      "nbconvert_exporter": "python",
      "pygments_lexer": "ipython3",
      "version": "3.10.1"
    }
  },
  "nbformat": 4,
  "nbformat_minor": 0
}