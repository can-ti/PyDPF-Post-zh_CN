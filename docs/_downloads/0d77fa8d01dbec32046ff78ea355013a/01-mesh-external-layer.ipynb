{
  "cells": [
    {
      "cell_type": "markdown",
      "metadata": {},
      "source": [
        "# Reduce Model Size by using Mesh External Layer for Result and Mesh extraction {#ref_mesh_external_layer_example}\r\n\r\n**\u901a\u8fc7\u4f7f\u7528\u7f51\u683c\u5916\u5c42\u8fdb\u884c\u7ed3\u679c\u548c\u7f51\u683c\u63d0\u53d6\u6765\u51cf\u5c11\u6a21\u578b\u5927\u5c0f**\r\n\r\n\u672c\u4f8b\u663e\u793a\u4e86\u9759\u6001\u5206\u6790\u4e2d\u7f51\u683c\u5916\u5c42\u7684\u540e\u5904\u7406\u3002\u5916\u5c42\u662f\u5b9e\u4f53\u5355\u5143\uff0c\u5176\u4e2d\u81f3\u5c11\u6709\u4e00\u4e2a\u9762\u671d\u5411\u51e0\u4f55\u4f53\u5916\u90e8\u3002\r\n\r\n\u8be5\u529f\u80fd\u9002\u7528\u4e8e\u6240\u6709\u7c7b\u578b\u7684 Mechanical\r\nsimulation\uff0c\u5141\u8bb8\u60a8\u7f29\u5c0f\u7f51\u683c\u548c\u63d0\u53d6\u6570\u636e\u7684\u5927\u5c0f\uff0c\u4ee5\u63d0\u9ad8\u5904\u7406\u6027\u80fd\u3002\r\n\u7531\u4e8e\u8f83\u5927\u7684\u5e94\u529b\u548c\u5e94\u53d8\u901a\u5e38\u4f4d\u4e8e\u6a21\u578b\u7684\u8868\u5c42\uff0c\u56e0\u6b64\u5728\u5927\u591a\u6570\u60c5\u51b5\u4e0b\uff0c\u8ba1\u7b97\u5916\u5c42\u7684\u7ed3\u679c\u53ef\u83b7\u5f97\u7b49\u6548\u7684\u6700\u5927\u503c\u3002\r\n"
      ]
    },
    {
      "cell_type": "markdown",
      "metadata": {},
      "source": [
        "# Perform required imports\r\n\r\n**\u6267\u884c\u6240\u9700\u7684\u5bfc\u5165**\r\n"
      ]
    },
    {
      "cell_type": "markdown",
      "metadata": {},
      "source": [
        "\u672c\u793a\u4f8b\u4f7f\u7528\u4e86\u4e00\u4e2a\u63d0\u4f9b\u7684\u6587\u4ef6\uff0c\u60a8\u53ef\u4ee5\u901a\u8fc7\u5bfc\u5165 DPF `examples` \u5305\u83b7\u5f97\u8be5\u6587\u4ef6\u3002\r\n"
      ]
    },
    {
      "cell_type": "code",
      "execution_count": null,
      "metadata": {
        "collapsed": false
      },
      "outputs": [],
      "source": [
        "from ansys.dpf import post\nfrom ansys.dpf.post import examples"
      ]
    },
    {
      "cell_type": "markdown",
      "metadata": {},
      "source": [
        "# Get `Simulation` object\r\n\r\n**\u5c06\u7ed3\u679c\u6587\u4ef6\u52a0\u8f7d\u5230\u5141\u8bb8\u8bbf\u95ee\u7ed3\u679c\u7684 \\`\\`Simulation\\`\\` \u5bf9\u8c61\u4e2d\u3002**\r\n"
      ]
    },
    {
      "cell_type": "markdown",
      "metadata": {},
      "source": [
        "\u5fc5\u987b\u4f7f\u7528\u7ed3\u679c\u6587\u4ef6\u7684\u8def\u5f84\u5b9e\u4f8b\u5316 `Simulation` \u5bf9\u8c61\u3002\u4f8b\u5982\uff0cWindows \u4e0b\u4e3a\r\n`\"C:/Users/user/my_result.rst\"` \u6216 Linux \u4e0b\u4e3a\r\n`\"/home/user/my_result.rst\"` \u3002\r\n"
      ]
    },
    {
      "cell_type": "code",
      "execution_count": null,
      "metadata": {
        "collapsed": false
      },
      "outputs": [],
      "source": [
        "example_path = examples.download_crankshaft()\n# \u81ea\u52a8\u68c0\u6d4b\u6a21\u62df\u7c7b\u578b\uff0c\u8bf7\u4f7f\u7528\nsimulation = post.load_simulation(example_path)\n\n# \u8981\u542f\u7528\u81ea\u52a8\u5b8c\u6210\u529f\u80fd\uff0c\u8bf7\u4f7f\u7528\u7b49\u6548\u7684\u547d\u4ee4\uff1a\nsimulation = post.StaticMechanicalSimulation(example_path)\n\n# \u6253\u5370 simulation\uff0c\u4e86\u89e3\u53ef\u7528\u5185\u5bb9\u7684\u6982\u51b5\nprint(simulation)"
      ]
    },
    {
      "cell_type": "markdown",
      "metadata": {},
      "source": [
        "# Extract displacement data\r\n\r\n**\u63d0\u53d6\u4f4d\u79fb\u6570\u636e**\r\n"
      ]
    },
    {
      "cell_type": "markdown",
      "metadata": {},
      "source": [
        "\u63d0\u53d6\u5916\u90e8\u56fe\u5c42\u7684\u4f4d\u79fb\u6570\u636e\u3002\r\n"
      ]
    },
    {
      "cell_type": "code",
      "execution_count": null,
      "metadata": {
        "collapsed": false
      },
      "outputs": [],
      "source": [
        "displacement_ext = simulation.displacement(\n    external_layer=True\n)  # \u9ed8\u8ba4\u8be5\u53c2\u6570 `external_layer=False`\ndisplacement_ext.plot()\n\nprint(\n    f\"`external_layer=True` \u7684\u8282\u70b9\u6570\uff1a {len(displacement_ext.index.mesh_index)}\"\n)\nprint(f\"`external_layer=False` \u7684\u8282\u70b9\u6570\uff1a {len(simulation.mesh.node_ids)}\")"
      ]
    },
    {
      "cell_type": "markdown",
      "metadata": {},
      "source": [
        "# Extract stress/strain data\r\n\r\n**\u63d0\u53d6\u5e94\u529b/\u5e94\u53d8\u6570\u636e**\r\n"
      ]
    },
    {
      "cell_type": "markdown",
      "metadata": {},
      "source": [
        "\u63d0\u53d6\u5916\u5c42\u7684\u5e94\u529b\u6216\u5f39\u6027\u5e94\u53d8\u6570\u636e\u3002\u7531\u4e8e\u5916\u5c42\u5355\u5143\u7684\u8fde\u7eed\u6027\u4fdd\u6301\u4e0d\u53d8\uff0c\u56e0\u6b64\u53ef\u4ee5\u5728\u5916\u5c42\u8f7b\u677e\u5b8c\u6210\u5e73\u5747\u503c\u548c\u4e0d\u53d8\u91cf\u7684\u8ba1\u7b97\u3002\r\n"
      ]
    },
    {
      "cell_type": "code",
      "execution_count": null,
      "metadata": {
        "collapsed": false
      },
      "outputs": [],
      "source": [
        "elemental_stress_ext = simulation.stress_principal_elemental(\n    components=[1], external_layer=True\n)\nelemental_stress_ext.plot()\n\nprint(\n    f\"`external_layer=True` \u7684\u8282\u70b9\u6570\uff1a {len(elemental_stress_ext.index.mesh_index)}\"\n)\nprint(\n    f\"`external_layer=False` \u7684\u8282\u70b9\u6570\uff1a {len(simulation.mesh.element_ids)}\"\n)\n\nelastic_strain_eqv_ext = simulation.elastic_strain_eqv_von_mises_nodal(\n    external_layer=True\n)\nelastic_strain_eqv_ext.plot()"
      ]
    },
    {
      "cell_type": "markdown",
      "metadata": {},
      "source": [
        "# Extract the external layer on a selection of elements\r\n\r\n**\u63d0\u53d6\u9009\u5b9a\u5355\u5143\u4e0a\u7684\u5916\u90e8\u56fe\u5c42**\r\n"
      ]
    },
    {
      "cell_type": "code",
      "execution_count": null,
      "metadata": {
        "collapsed": false
      },
      "outputs": [],
      "source": [
        "all_elements = simulation.mesh.element_ids\nelements = []\nfor i in range(0, int(all_elements.size / 2)):\n    elements.append(all_elements[i])\nelemental_stress_ext = simulation.stress_principal_elemental(external_layer=elements)\nelemental_stress_ext.plot()"
      ]
    },
    {
      "cell_type": "markdown",
      "metadata": {},
      "source": [
        "# Extract the external layer on a selection of elements for nodal results\r\n\r\n**\u5728\u6240\u9009\u5355\u5143\u4e0a\u63d0\u53d6\u5916\u90e8\u56fe\u5c42\u4ee5\u83b7\u5f97\u8282\u70b9\u7ed3\u679c**\r\n"
      ]
    },
    {
      "cell_type": "code",
      "execution_count": null,
      "metadata": {
        "collapsed": false
      },
      "outputs": [],
      "source": [
        "elastic_strain_eqv_ext = simulation.elastic_strain_eqv_von_mises_nodal(\n    external_layer=elements\n)\nelastic_strain_eqv_ext.plot()"
      ]
    },
    {
      "cell_type": "markdown",
      "metadata": {},
      "source": [
        "# Extract the external layer on a selection of elements and scope results\r\n\r\n**\u63d0\u53d6\u9009\u5b9a\u5355\u5143\u4e0a\u7684\u5916\u90e8\u56fe\u5c42\u5e76\u786e\u5b9a\u7ed3\u679c\u8303\u56f4**\r\n"
      ]
    },
    {
      "cell_type": "code",
      "execution_count": null,
      "metadata": {
        "collapsed": false
      },
      "outputs": [],
      "source": [
        "sub_elements = []\nfor i in range(0, int(len(elements) / 2)):\n    sub_elements.append(elements[i])\nelemental_stress_ext = simulation.stress_principal_elemental(\n    external_layer=elements, element_ids=sub_elements\n)\nelemental_stress_ext.plot()"
      ]
    }
  ],
  "metadata": {
    "kernelspec": {
      "display_name": "Python 3",
      "language": "python",
      "name": "python3"
    },
    "language_info": {
      "codemirror_mode": {
        "name": "ipython",
        "version": 3
      },
      "file_extension": ".py",
      "mimetype": "text/x-python",
      "name": "python",
      "nbconvert_exporter": "python",
      "pygments_lexer": "ipython3",
      "version": "3.10.1"
    }
  },
  "nbformat": 4,
  "nbformat_minor": 0
}