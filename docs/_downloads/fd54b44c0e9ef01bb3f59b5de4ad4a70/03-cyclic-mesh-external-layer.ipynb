{
  "cells": [
    {
      "cell_type": "markdown",
      "metadata": {},
      "source": [
        "# Reduce Cyclic Model Size by using Mesh External Layer for Result and Mesh extraction {#ref_cyclic_mesh_external_layer_example}\r\n\r\nThis example displays post-processing on a mesh external layer for a\r\ncyclic modal analysis. The external layer is the layer of solid elements\r\nwith at least one facet facing the outside of the geometry. This feature\r\nis available for all types of Mechanical simulation supporting cyclic\r\n(or cyclic multistage) and allows you to reduce the size of the mesh and\r\nof the extracted data to improve processing performance. Since larger\r\nstress and strains are usually located on the skin of a model, computing\r\nresults on the external layer gives equivalent maximum values in most\r\ncases.\r\n"
      ]
    },
    {
      "cell_type": "markdown",
      "metadata": {},
      "source": [
        "# Perform required imports\r\n\r\nThis example uses a supplied file that you can get using the `examples`\r\nmodule.\r\n"
      ]
    },
    {
      "cell_type": "code",
      "execution_count": null,
      "metadata": {
        "collapsed": false
      },
      "outputs": [],
      "source": [
        "from ansys.dpf import post\nfrom ansys.dpf.post import examples"
      ]
    },
    {
      "cell_type": "markdown",
      "metadata": {},
      "source": [
        "# Get `Simulation` object\r\n\r\nGet the `Simulation` object that allows access to the result. The\r\n`Simulation` object must be instantiated with the path for the result\r\nfile. For example, `\"C:/Users/user/my_result.rst\"` on Windows or\r\n`\"/home/user/my_result.rst\"` on Linux.\r\n"
      ]
    },
    {
      "cell_type": "code",
      "execution_count": null,
      "metadata": {
        "collapsed": false
      },
      "outputs": [],
      "source": [
        "example_path = examples.download_modal_cyclic()\nsimulation = post.ModalMechanicalSimulation(example_path)\n\n# print the simulation to get an overview of what's available\nprint(simulation)"
      ]
    },
    {
      "cell_type": "markdown",
      "metadata": {},
      "source": [
        "# Extract displacement data\r\n\r\nExtract displacement data on the external layer.\r\n"
      ]
    },
    {
      "cell_type": "code",
      "execution_count": null,
      "metadata": {
        "collapsed": false
      },
      "outputs": [],
      "source": [
        "displacement_ext = simulation.displacement(external_layer=True)\nprint(displacement_ext)\ndisplacement_ext.plot()"
      ]
    },
    {
      "cell_type": "markdown",
      "metadata": {},
      "source": [
        "# Select sectors for expansion\r\n\r\nExtract displacement data on the external layer for a cyclic expansion\r\non a selected number of sectors.\r\n"
      ]
    },
    {
      "cell_type": "code",
      "execution_count": null,
      "metadata": {
        "collapsed": false
      },
      "outputs": [],
      "source": [
        "displacement_ext = simulation.displacement(external_layer=True, expand_cyclic=[1, 2, 3])\ndisplacement_ext.plot()"
      ]
    },
    {
      "cell_type": "markdown",
      "metadata": {},
      "source": [
        "# Extract stress/strain data\r\n\r\nExtract stress or elastic strain data on the external layer. Averaging,\r\nand invariants computation can easily be done on the external layer\r\nsince the connectivity of the kept elements remains unchanged.\r\n"
      ]
    },
    {
      "cell_type": "code",
      "execution_count": null,
      "metadata": {
        "collapsed": false
      },
      "outputs": [],
      "source": [
        "elemental_stress_ext = simulation.stress_principal_elemental(\n    components=[1], external_layer=True\n)\nelemental_stress_ext.plot()\n\nelastic_strain_eqv_ext = simulation.elastic_strain_eqv_von_mises_nodal(\n    external_layer=True\n)\nelastic_strain_eqv_ext.plot()"
      ]
    },
    {
      "cell_type": "markdown",
      "metadata": {},
      "source": [
        "# Get stress results on the external layer of the first sector with a cyclic phase\r\n"
      ]
    },
    {
      "cell_type": "code",
      "execution_count": null,
      "metadata": {
        "collapsed": false
      },
      "outputs": [],
      "source": [
        "stress_eqv_cyc_phase = simulation.stress_eqv_von_mises_nodal(\n    set_ids=[5],\n    expand_cyclic=[1],\n    phase_angle_cyclic=45.0,\n    external_layer=True,\n)\nstress_eqv_cyc_phase.plot()"
      ]
    }
  ],
  "metadata": {
    "kernelspec": {
      "display_name": "Python 3",
      "language": "python",
      "name": "python3"
    },
    "language_info": {
      "codemirror_mode": {
        "name": "ipython",
        "version": 3
      },
      "file_extension": ".py",
      "mimetype": "text/x-python",
      "name": "python",
      "nbconvert_exporter": "python",
      "pygments_lexer": "ipython3",
      "version": "3.10.1"
    }
  },
  "nbformat": 4,
  "nbformat_minor": 0
}