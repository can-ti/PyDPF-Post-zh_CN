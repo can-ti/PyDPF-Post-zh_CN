{
  "cells": [
    {
      "cell_type": "markdown",
      "metadata": {},
      "source": [
        "# Request result on a specific path {#ref_result_on_path}\r\n\r\n**\u8bf7\u6c42\u7279\u5b9a\u8def\u5f84\u4e0a\u7684\u7ed3\u679c**\r\n\r\n\u672c\u4f8b\u5c55\u793a\u4e86\u5982\u4f55\u8bf7\u6c42\u7279\u5b9a\u5750\u6807\u8def\u5f84\u7684\u7ed3\u679c\u3002\r\n"
      ]
    },
    {
      "cell_type": "markdown",
      "metadata": {},
      "source": [
        "# Perform required imports\r\n\r\n**\u6267\u884c\u6240\u9700\u7684\u5bfc\u5165**\r\n"
      ]
    },
    {
      "cell_type": "code",
      "execution_count": null,
      "metadata": {
        "collapsed": false
      },
      "outputs": [],
      "source": [
        "from ansys.dpf import post\nfrom ansys.dpf.post import examples"
      ]
    },
    {
      "cell_type": "markdown",
      "metadata": {},
      "source": [
        "# Get `Solution` object\r\n\r\n**\u83b7\u53d6 \\`\\`Solution\\`\\` \u5bf9\u8c61**\r\n"
      ]
    },
    {
      "cell_type": "code",
      "execution_count": null,
      "metadata": {
        "collapsed": false
      },
      "outputs": [],
      "source": [
        "solution = post.load_solution(examples.static_rst)"
      ]
    },
    {
      "cell_type": "markdown",
      "metadata": {},
      "source": [
        "# Create coordinates array\r\n\r\n**\u521b\u5efa\u5750\u6807\u6570\u7ec4\uff0c\u7528\u4e8e\u8bf7\u6c42\u7ed3\u679c**\r\n"
      ]
    },
    {
      "cell_type": "code",
      "execution_count": null,
      "metadata": {
        "collapsed": false
      },
      "outputs": [],
      "source": [
        "coordinates = [[0.024, 0.03, 0.003]]\nfor i in range(1, 51):\n    coord_copy = coordinates[0].copy()\n    coord_copy[1] = coord_copy[0] + i * 0.001\n    coordinates.append(coord_copy)\n\n# \u8fd9\u6bb5\u4ee3\u7801\u9996\u5148\u521b\u5efa\u4e86\u4e00\u4e2a\u5305\u542b\u4e00\u4e2a\u5217\u8868\u7684\u5217\u8868 ``coordinates``\uff0c\u8be5\u5217\u8868\u5305\u542b\u4e09\u4e2a\u6d6e\u70b9\u6570\u3002\n# \u7136\u540e\uff0c\u4ee3\u7801\u8fdb\u5165\u4e00\u4e2a\u4ece 1 \u5230 50 \u7684\u5faa\u73af\u3002\u5728\u6bcf\u6b21\u5faa\u73af\u4e2d\uff0c\u5b83\u90fd\u4f1a\u590d\u5236 ``coordinates`` \u7684\u7b2c\u4e00\u4e2a\u5143\u7d20\uff08\u4e5f\u5c31\u662f\u90a3\u4e2a\u5305\u542b\u4e09\u4e2a\u6d6e\u70b9\u6570\u7684\u5217\u8868\uff09\uff0c\n# \u7136\u540e\u5c06\u590d\u5236\u7684\u5217\u8868\u7684\u7b2c\u4e8c\u4e2a\u5143\u7d20\uff08\u7d22\u5f15\u4e3a 1\uff09\u8bbe\u7f6e\u4e3a\u7b2c\u4e00\u4e2a\u5143\u7d20\uff08\u7d22\u5f15\u4e3a 0\uff09\u52a0\u4e0a\u5faa\u73af\u53d8\u91cf i \u4e58\u4ee5 0.001\u3002\u7136\u540e\uff0c\u5b83\u5c06\u4fee\u6539\u540e\u7684\u5217\u8868\u6dfb\u52a0\u5230 ``coordinates`` \u7684\u672b\u5c3e\u3002\n# \u8fd9\u6837\uff0c ``coordinates`` \u6700\u7ec8\u5c06\u5305\u542b 51 \u4e2a\u5217\u8868\uff0c\u6bcf\u4e2a\u5217\u8868\u90fd\u5305\u542b\u4e09\u4e2a\u6d6e\u70b9\u6570\uff0c\u5176\u4e2d\u7b2c\u4e8c\u4e2a\u6d6e\u70b9\u6570\u662f\u9012\u589e\u7684\u3002"
      ]
    },
    {
      "cell_type": "markdown",
      "metadata": {},
      "source": [
        "# Create `DpfPath` object\r\n\r\n**\u521b\u5efa\u4e00\u4e2a \\`\\`DpfPath\\`\\` \u5bf9\u8c61**\r\n"
      ]
    },
    {
      "cell_type": "code",
      "execution_count": null,
      "metadata": {
        "collapsed": false
      },
      "outputs": [],
      "source": [
        "path = post.create_path_on_coordinates(coordinates=coordinates)"
      ]
    },
    {
      "cell_type": "markdown",
      "metadata": {},
      "source": [
        "# Request result on path\r\n\r\n**\u5728\u6b64\u8def\u5f84\u4e0a\u8bf7\u6c42\u7ed3\u679c**\r\n"
      ]
    },
    {
      "cell_type": "code",
      "execution_count": null,
      "metadata": {
        "collapsed": false
      },
      "outputs": [],
      "source": [
        "stress = solution.stress(path=path)"
      ]
    },
    {
      "cell_type": "markdown",
      "metadata": {},
      "source": [
        "# Plot result\r\n\r\n**\u7ed8\u5236\u7ed3\u679c\u56fe**\r\n"
      ]
    },
    {
      "cell_type": "code",
      "execution_count": null,
      "metadata": {
        "collapsed": false
      },
      "outputs": [],
      "source": [
        "stress_eqv = stress.von_mises\nstress_eqv.plot_contour()"
      ]
    }
  ],
  "metadata": {
    "kernelspec": {
      "display_name": "Python 3",
      "language": "python",
      "name": "python3"
    },
    "language_info": {
      "codemirror_mode": {
        "name": "ipython",
        "version": 3
      },
      "file_extension": ".py",
      "mimetype": "text/x-python",
      "name": "python",
      "nbconvert_exporter": "python",
      "pygments_lexer": "ipython3",
      "version": "3.10.1"
    }
  },
  "nbformat": 4,
  "nbformat_minor": 0
}