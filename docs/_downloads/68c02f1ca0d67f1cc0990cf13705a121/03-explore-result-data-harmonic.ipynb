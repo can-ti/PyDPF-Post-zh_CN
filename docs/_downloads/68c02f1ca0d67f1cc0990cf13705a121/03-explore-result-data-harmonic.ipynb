{
  "cells": [
    {
      "cell_type": "markdown",
      "metadata": {},
      "source": [
        "# Explore the data of a result with the DataFrame - Harmonic Simulation {#ref_data_data_frame_example}\r\n\r\n**\u4f7f\u7528 DataFrame \u67e5\u770b\u7ed3\u679c\u6570\u636e - \u8c10\u6ce2\u5206\u6790**\r\n\r\n\u672c\u811a\u672c\u4ee5\u8c10\u6ce2\u6a21\u62df\u4e3a\u4f8b\uff0c\u8bf4\u660e\u5982\u4f55\u4e0e\u6bcf\u4e2a\u7ed3\u679c\u8fd4\u56de\u7684 post DataFrame \u5bf9\u8c61\u4ea4\u4e92\u3002\r\n"
      ]
    },
    {
      "cell_type": "markdown",
      "metadata": {},
      "source": [
        "# Perform required imports\r\n\r\n**\u6267\u884c\u6240\u9700\u7684\u5bfc\u5165**\r\n"
      ]
    },
    {
      "cell_type": "markdown",
      "metadata": {},
      "source": [
        "\u672c\u793a\u4f8b\u4f7f\u7528\u4e86\u4e00\u4e2a\u63d0\u4f9b\u7684\u6587\u4ef6\uff0c\u60a8\u53ef\u4ee5\u901a\u8fc7\u5bfc\u5165 DPF `examples` \u5305\u83b7\u5f97\u8be5\u6587\u4ef6\u3002\r\n"
      ]
    },
    {
      "cell_type": "code",
      "execution_count": null,
      "metadata": {
        "collapsed": false
      },
      "outputs": [],
      "source": [
        "from ansys.dpf import post\nfrom ansys.dpf.post import examples"
      ]
    },
    {
      "cell_type": "markdown",
      "metadata": {},
      "source": [
        "# Get the `Simulation` object\r\n\r\n**\u83b7\u53d6\u5141\u8bb8\u8bbf\u95ee\u7ed3\u679c\u7684 \\`\\`Simulation\\`\\` \u5bf9\u8c61**\r\n"
      ]
    },
    {
      "cell_type": "markdown",
      "metadata": {},
      "source": [
        "\u5fc5\u987b\u4f7f\u7528\u7ed3\u679c\u6587\u4ef6\u7684\u8def\u5f84\u5b9e\u4f8b\u5316 `Simulation` \u5bf9\u8c61\u3002\u4f8b\u5982\uff0cWindows \u4e0b\u4e3a\r\n`\"C:/Users/user/my_result.rst\"` \u6216 Linux \u4e0b\u4e3a\r\n`\"/home/user/my_result.rst\"` \u3002\r\n"
      ]
    },
    {
      "cell_type": "code",
      "execution_count": null,
      "metadata": {
        "collapsed": false
      },
      "outputs": [],
      "source": [
        "example_path = examples.download_harmonic_clamped_pipe()\n# \u81ea\u52a8\u68c0\u6d4b\u6a21\u62df\u7c7b\u578b\uff0c\u8bf7\u4f7f\u7528\nsimulation = post.load_simulation(example_path)\n\n# \u8981\u542f\u7528 auto-completion \u529f\u80fd\uff0c\u8bf7\u4f7f\u7528\u7b49\u6548\u7684\u547d\u4ee4\uff1a\nsimulation = post.HarmonicMechanicalSimulation(example_path)\n\n# \u6253\u5370 simulation \uff0c\u4e86\u89e3\u53ef\u7528\u5185\u5bb9\u7684\u6982\u51b5\nprint(simulation)"
      ]
    },
    {
      "cell_type": "markdown",
      "metadata": {},
      "source": [
        "# Extract displacement over all sets as an example\r\n\r\n**\u4ee5\u63d0\u53d6\u6240\u6709 sets \u7684\u4f4d\u79fb\u7ed3\u679c\u4e3a\u4f8b**\r\n"
      ]
    },
    {
      "cell_type": "code",
      "execution_count": null,
      "metadata": {
        "collapsed": false
      },
      "outputs": [],
      "source": [
        "displacement = simulation.displacement(all_sets=True)\nprint(displacement)\nprint(type(displacement)) # <class 'ansys.dpf.post.dataframe.DataFrame'>"
      ]
    },
    {
      "cell_type": "markdown",
      "metadata": {},
      "source": [
        "\u5faa\u73af\u904d\u5386\u6240\u6709\u5217\u548c\u884c\uff0c\u4e86\u89e3 DataFrame \u5e76\u83b7\u53d6\u6bcf\u4e2a\u7d22\u5f15\u7684\u503c\u3002\r\n"
      ]
    },
    {
      "cell_type": "code",
      "execution_count": null,
      "metadata": {
        "collapsed": false
      },
      "outputs": [],
      "source": [
        "# columns\nfor column in displacement.columns:\n    print(f'Column with label \"{column.name}\" and available values {column.values}.')\n\n# rows\nfor row in displacement.index:\n    print(f'Row with label \"{row.name}\" and available values {row.values}.')"
      ]
    },
    {
      "cell_type": "markdown",
      "metadata": {},
      "source": [
        "\u8fd9\u91cc\u7684 \"complex\" \u5217\u6807\u7b7e\u4ee3\u8868\u590d\u6570\uff0c0 \u8868\u793a\u5b9e\u6570\u90e8\u5206\uff0c1 \u8868\u793a\u865a\u6570\u90e8\u5206\u3002 \\--ff\r\n"
      ]
    },
    {
      "cell_type": "markdown",
      "metadata": {},
      "source": [
        "# Make selections in this DataFrame\r\n\r\n**\u5728\u6b64 DataFrame \u4e2d\u8fdb\u884c\u9009\u62e9**\r\n"
      ]
    },
    {
      "cell_type": "markdown",
      "metadata": {},
      "source": [
        "\u4e0a\u9762\u663e\u793a\u7684\u6240\u6709\u6807\u7b7e\u548c\u6570\u503c\u90fd\u53ef\u7528\u4e8e\u9009\u62e9 DataFrame \u7684\u5b50\u90e8\u5206\u3002\r\n"
      ]
    },
    {
      "cell_type": "code",
      "execution_count": null,
      "metadata": {
        "collapsed": false
      },
      "outputs": [],
      "source": [
        "all_real_values = displacement.select(complex=0)\nprint(all_real_values) # \u8fd9\u6bb5\u4ee3\u7801\u9996\u5148\u8c03\u7528 displacement \u5bf9\u8c61\u7684 select \u65b9\u6cd5\uff0c\u9009\u62e9\u590d\u6570\u90e8\u5206\u4e3a 0\uff08\u5373\u5b9e\u6570\u90e8\u5206\uff09\u7684\u4f4d\u79fb\u4fe1\u606f\u3002\u7136\u540e\uff0c\u4ee3\u7801\u6253\u5370\u4e86\u9009\u62e9\u7684\u4f4d\u79fb\u4fe1\u606f\u3002\n\nall_imaginary_values = displacement.select(complex=1)\nprint(all_imaginary_values) # \u8fd9\u6bb5\u4ee3\u7801\u9996\u5148\u8c03\u7528 displacement \u5bf9\u8c61\u7684 select \u65b9\u6cd5\uff0c\u9009\u62e9\u590d\u6570\u90e8\u5206\u4e3a 1\uff08\u5373\u865a\u6570\u90e8\u5206\uff09\u7684\u4f4d\u79fb\u4fe1\u606f\u3002\u7136\u540e\uff0c\u4ee3\u7801\u6253\u5370\u4e86\u9009\u62e9\u7684\u4f4d\u79fb\u4fe1\u606f\u3002\n\nsets_values = displacement.select(set_ids=[1, 2])\nprint(sets_values)\n\nnode_values = displacement.select(node_ids=[3548])\nprint(node_values)"
      ]
    },
    {
      "cell_type": "markdown",
      "metadata": {},
      "source": [
        "# Make selections by index in this DataFrame\r\n\r\n**\u5728\u6b64 DataFrame \u4e2d\u6309\u7d22\u5f15\u8fdb\u884c\u9009\u62e9**\r\n"
      ]
    },
    {
      "cell_type": "markdown",
      "metadata": {},
      "source": [
        "\u8981\u6309\u7d22\u5f15\u9009\u62e9\u6bcf\u4e2a\u6807\u7b7e\u7684\u503c\uff0c\u53ef\u4ee5\u4f7f\u7528 iselect\r\n\u65b9\u6cd5\u3002\uff08\u6ce8\u610f\u8fd9\u4e2a\u65b9\u6cd5\u7d22\u5f15\u503c\u662f\u4ece 0 \u5f00\u59cb\u7684\u3002 \\--ff\uff09 \u4ece\u7d22\u5f15\u5230 ID\r\n\u7684\u987a\u5e8f\u4e0e\u4e0a\u8ff0\u7d22\u5f15\u503c\u65b9\u6cd5\u8fd4\u56de\u7684\u987a\u5e8f\u4e00\u81f4\u3002\r\n"
      ]
    },
    {
      "cell_type": "code",
      "execution_count": null,
      "metadata": {
        "collapsed": false
      },
      "outputs": [],
      "source": [
        "sets_values = displacement.iselect(set_ids=0)\nprint(sets_values)\n\nnode_values = displacement.iselect(node_ids=[0])\nprint(node_values)"
      ]
    },
    {
      "cell_type": "markdown",
      "metadata": {},
      "source": [
        "# Make multi selections in this DataFrame\r\n\r\n\u5728\u6b64 DataFrame \u4e2d\u8fdb\u884c\u591a\u91cd\u9009\u62e9\r\n"
      ]
    },
    {
      "cell_type": "code",
      "execution_count": null,
      "metadata": {
        "collapsed": false
      },
      "outputs": [],
      "source": [
        "real_values_for_one_set_onde_node = displacement.select(\n    node_ids=[3548], set_ids=1, complex=0\n)\nprint(real_values_for_one_set_onde_node)"
      ]
    },
    {
      "cell_type": "markdown",
      "metadata": {},
      "source": [
        "# Make selections to plot the DataFrame\r\n\r\n\u9009\u62e9\u5e76\u7ed8\u5236 DataFrame\r\n"
      ]
    },
    {
      "cell_type": "code",
      "execution_count": null,
      "metadata": {
        "collapsed": false
      },
      "outputs": [],
      "source": [
        "displacement.plot(set_ids=1, complex=0)"
      ]
    }
  ],
  "metadata": {
    "kernelspec": {
      "display_name": "Python 3",
      "language": "python",
      "name": "python3"
    },
    "language_info": {
      "codemirror_mode": {
        "name": "ipython",
        "version": 3
      },
      "file_extension": ".py",
      "mimetype": "text/x-python",
      "name": "python",
      "nbconvert_exporter": "python",
      "pygments_lexer": "ipython3",
      "version": "3.10.1"
    }
  },
  "nbformat": 4,
  "nbformat_minor": 0
}