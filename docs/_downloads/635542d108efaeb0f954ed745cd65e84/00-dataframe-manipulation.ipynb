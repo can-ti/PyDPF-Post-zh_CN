{
  "cells": [
    {
      "cell_type": "markdown",
      "metadata": {},
      "source": [
        "# Create and manipulate a DPF Dataframe {#ref_dataframe_example}\r\n\r\n**\u521b\u5efa\u548c\u64cd\u4f5c DPF Dataframe**\r\n\r\n\u5728\u6b64\u811a\u672c\u4e2d\uff0c\u901a\u8fc7\u4ece\u9759\u6001\u6a21\u62df\u4e2d\u63d0\u53d6\u7ed3\u679c\u6765\u751f\u6210\r\nDataFrame\u3002\u7136\u540e\uff0c\u5b83\u5c55\u793a\u4e86\u4e0d\u540c\u7684 Dataframe \u67e5\u770b\u548c\u64cd\u4f5c\u53ef\u80fd\u6027\u3002\r\n"
      ]
    },
    {
      "cell_type": "markdown",
      "metadata": {},
      "source": [
        "# Perform required imports\r\n\r\n**\u6267\u884c\u6240\u9700\u7684\u5bfc\u5165**\r\n"
      ]
    },
    {
      "cell_type": "markdown",
      "metadata": {},
      "source": [
        "\u672c\u793a\u4f8b\u4f7f\u7528\u4e86\u4e00\u4e2a\u63d0\u4f9b\u7684\u6587\u4ef6\uff0c\u60a8\u53ef\u4ee5\u901a\u8fc7\u5bfc\u5165 DPF `examples` \u5305\u83b7\u5f97\u8be5\u6587\u4ef6\u3002\r\n"
      ]
    },
    {
      "cell_type": "code",
      "execution_count": null,
      "metadata": {
        "collapsed": false
      },
      "outputs": [],
      "source": [
        "from ansys.dpf import post\nfrom ansys.dpf.post import examples"
      ]
    },
    {
      "cell_type": "markdown",
      "metadata": {},
      "source": [
        "# Get the `Simulation` object\r\n\r\n**\u83b7\u53d6\u5141\u8bb8\u8bbf\u95ee\u7ed3\u679c\u7684 \\`\\`Simulation\\`\\` \u5bf9\u8c61**\r\n"
      ]
    },
    {
      "cell_type": "markdown",
      "metadata": {},
      "source": [
        "\u5fc5\u987b\u4f7f\u7528\u7ed3\u679c\u6587\u4ef6\u7684\u8def\u5f84\u5b9e\u4f8b\u5316 `Simulation` \u5bf9\u8c61\u3002\u4f8b\u5982\uff0cWindows \u4e0b\u4e3a\r\n`\"C:/Users/user/my_result.rst\"` \u6216 Linux \u4e0b\u4e3a\r\n`\"/home/user/my_result.rst\"` \u3002\r\n"
      ]
    },
    {
      "cell_type": "code",
      "execution_count": null,
      "metadata": {
        "collapsed": false
      },
      "outputs": [],
      "source": [
        "example_path = examples.download_crankshaft() # \u66f2\u8f74\u793a\u4f8b\n# \u81ea\u52a8\u68c0\u6d4b\u6a21\u62df\u7c7b\u578b\uff0c\u8bf7\u4f7f\u7528\nsimulation = post.load_simulation(example_path)\n\n# \u8981\u542f\u7528\u81ea\u52a8\u5b8c\u6210\u529f\u80fd\uff0c\u8bf7\u4f7f\u7528\u7b49\u6548\u7684\u547d\u4ee4\uff1a\nsimulation = post.StaticMechanicalSimulation(example_path)\n\n# \u6253\u5370 simulation \uff0c\u4e86\u89e3\u53ef\u7528\u5185\u5bb9\u7684\u6982\u51b5\nprint(simulation)"
      ]
    },
    {
      "cell_type": "markdown",
      "metadata": {},
      "source": [
        "# Get a `Dataframe` object\r\n\r\n**\u4ee5 Dataframe \u6570\u636e\u5f62\u5f0f\u63d0\u53d6\u7ed3\u679c**\r\n"
      ]
    },
    {
      "cell_type": "code",
      "execution_count": null,
      "metadata": {
        "collapsed": false
      },
      "outputs": [],
      "source": [
        "displacement_dataframe = simulation.displacement(all_sets=True)"
      ]
    },
    {
      "cell_type": "markdown",
      "metadata": {},
      "source": [
        "Dataframe \u4ee5\u8868\u683c\u5f62\u5f0f\u663e\u793a\uff0c\u884c\u548c\u5217\u6807\u7b7e\u7528\u4e8e\u6807\u8bc6\u6570\u636e\u3002\r\n"
      ]
    },
    {
      "cell_type": "code",
      "execution_count": null,
      "metadata": {
        "collapsed": false
      },
      "outputs": [],
      "source": [
        "print(displacement_dataframe)"
      ]
    },
    {
      "cell_type": "markdown",
      "metadata": {},
      "source": [
        "# Explore `Index` objects\r\n\r\n**\u63a2\u7d22 \\`\\`Index\\`\\` \u5bf9\u8c61**\r\n"
      ]
    },
    {
      "cell_type": "markdown",
      "metadata": {},
      "source": [
        "\u6bcf\u4e2a\u6570\u636e\u6807\u7b7e\u90fd\u7531\u7d22\u5f15\u5bf9\u8c61\u6216\u5176\u4e13\u95e8\u5b50\u7c7b\u578b\u4e4b\u4e00\u5b9a\u4e49\u3002\r\n"
      ]
    },
    {
      "cell_type": "markdown",
      "metadata": {},
      "source": [
        "Dataframe \u7684\u5217\u6807\u7b7e\u5728 [Dataframe.columns]{.title-ref} \u4e2d\u5b9a\u4e49\u3002\r\n"
      ]
    },
    {
      "cell_type": "code",
      "execution_count": null,
      "metadata": {
        "collapsed": false
      },
      "outputs": [],
      "source": [
        "print(displacement_dataframe.columns)"
      ]
    },
    {
      "cell_type": "markdown",
      "metadata": {},
      "source": [
        "`ResultIndex` \u7d22\u5f15\u5b9a\u4e49\u4e86\u5b58\u50a8\u5728 Dataframe \u4e2d\u7684\u7ed3\u679c\u3002\r\n"
      ]
    },
    {
      "cell_type": "code",
      "execution_count": null,
      "metadata": {
        "collapsed": false
      },
      "outputs": [],
      "source": [
        "print(displacement_dataframe.columns[0])\n# print(displacement_dataframe.columns.results_index)  # equivalent"
      ]
    },
    {
      "cell_type": "markdown",
      "metadata": {},
      "source": [
        "\u60a8\u53ef\u4ee5\u68c0\u67e5\u7d22\u5f15\u7684\u53ef\u7528\u503c\r\n"
      ]
    },
    {
      "cell_type": "code",
      "execution_count": null,
      "metadata": {
        "collapsed": false
      },
      "outputs": [],
      "source": [
        "print(displacement_dataframe.columns[0].values)"
      ]
    },
    {
      "cell_type": "markdown",
      "metadata": {},
      "source": [
        "`SetIndex` \u7d22\u5f15\u5b9a\u4e49\u4e86\u53ef\u7528\u7684 set ID\u3002 set ID\r\n\u662f\u4e0e\u6a21\u62df\u4e2d\u7684\u6bcf\u4e2a\u65f6\u95f4\u6b65\u3001\u6b65\u957f\u548c\u5b50\u6b65\u957f\u6216\u9891\u7387\u76f8\u5173\u8054\u7684\u552f\u4e00\u6807\u8bc6\u7b26\u3002\r\n\u5982\u4e0b\u6240\u793a\uff0c\u7d22\u5f15\u6709\u4e00\u4e2a\u540d\u79f0\u548c\u4e00\u4e2a\u7ed9\u5b9a\u7c7b\u578b\u7684\u503c\u5217\u8868\u3002\r\n"
      ]
    },
    {
      "cell_type": "code",
      "execution_count": null,
      "metadata": {
        "collapsed": false
      },
      "outputs": [],
      "source": [
        "print(displacement_dataframe.columns[1]) # columns \u5c5e\u6027\u8fd4\u56de\u4e00\u4e2a\u5305\u542b\u6240\u6709\u5217\u540d\u7684 Index \u5bf9\u8c61\uff0c\u7136\u540e\u901a\u8fc7\u7d22\u5f15 [1] \u83b7\u53d6\u7b2c\u4e8c\u5217\u7684\u5217\u540d\u3002\nprint(displacement_dataframe.columns[1].values)"
      ]
    },
    {
      "cell_type": "markdown",
      "metadata": {},
      "source": [
        "Dataframe \u7684\u884c\u6807\u7b7e\u5728 [Dataframe.index]{.title-ref} \u4e2d\u5b9a\u4e49\u3002\r\n"
      ]
    },
    {
      "cell_type": "code",
      "execution_count": null,
      "metadata": {
        "collapsed": false
      },
      "outputs": [],
      "source": [
        "print(displacement_dataframe.index)"
      ]
    },
    {
      "cell_type": "markdown",
      "metadata": {},
      "source": [
        "`MeshIndex` \u5b9a\u4e49\u4e86\u53ef\u83b7\u5f97\u6570\u636e\u7684\u7f51\u683c\u5b9e\u4f53\u3002 \u5b83\u53ef\u4ee5\u5b58\u50a8 node ID\u3001element ID\r\n\u6216 face ID\u3002\r\n"
      ]
    },
    {
      "cell_type": "code",
      "execution_count": null,
      "metadata": {
        "collapsed": false
      },
      "outputs": [],
      "source": [
        "print(displacement_dataframe.index[0])\n# print(displacement_dataframe.index.mesh_index)  # equivalent"
      ]
    },
    {
      "cell_type": "markdown",
      "metadata": {},
      "source": [
        "\u7531\u4e8e\u53ef\u80fd\u7684\u503c\u5217\u8868\u53ef\u80fd\u5f88\u957f\uff0c\u800c\u4e14\u67e5\u8be2\u6210\u672c\u5f88\u9ad8\uff0c\u56e0\u6b64\u9664\u975e\u660e\u786e\u8be2\u95ee\uff0c\u5426\u5219\u53ef\u80fd\u65e0\u6cd5\u786e\u5b9a\u53ef\u7528\u503c\u5217\u8868\u3002\r\n"
      ]
    },
    {
      "cell_type": "code",
      "execution_count": null,
      "metadata": {
        "collapsed": false
      },
      "outputs": [],
      "source": [
        "print(displacement_dataframe.index[0].values)"
      ]
    },
    {
      "cell_type": "markdown",
      "metadata": {},
      "source": [
        "\u7136\u540e\u4f1a\u66f4\u65b0 `MeshIndex` \u4ee5\u663e\u793a\u53ef\u7528\u5b9e\u4f53\u7684\u5b9e\u9645\u6570\u91cf\u3002\r\n"
      ]
    },
    {
      "cell_type": "code",
      "execution_count": null,
      "metadata": {
        "collapsed": false
      },
      "outputs": [],
      "source": [
        "print(displacement_dataframe.index[0])\n# Important: \u8bf7\u6ce8\u610f\uff0c\u7f51\u683c\u5b9e\u4f53 ID \u662f\u6839\u636e\u5185\u90e8\u6570\u636e\u5b58\u50a8\u7ed3\u6784\u6392\u5e8f\u7684\uff0c\u9ed8\u8ba4\u60c5\u51b5\u4e0b\u4e0d\u662f\u6309\u5347\u5e8f\u6392\u5217\uff01"
      ]
    },
    {
      "cell_type": "markdown",
      "metadata": {},
      "source": [
        "`CompIndex` \u5b9a\u4e49\u4e86\u53ef\u83b7\u5f97\u6570\u636e\u7684\u7ed3\u679c\u7ec4\u4ef6\u3002\r\n"
      ]
    },
    {
      "cell_type": "code",
      "execution_count": null,
      "metadata": {
        "collapsed": false
      },
      "outputs": [],
      "source": [
        "print(displacement_dataframe.index[1])\nprint(displacement_dataframe.index[1].values)"
      ]
    },
    {
      "cell_type": "markdown",
      "metadata": {},
      "source": [
        "# Change the Dataframe print\r\n\r\n**\u66f4\u6539 Dataframe \u6253\u5370\u7ed3\u679c**\r\n"
      ]
    },
    {
      "cell_type": "markdown",
      "metadata": {},
      "source": [
        "\u6709\u4e00\u4e9b\u9009\u9879\u53ef\u4ee5\u914d\u7f6e Dataframe \u7684\u663e\u793a\u65b9\u5f0f\u3002\r\n\u60a8\u53ef\u4ee5\u901a\u8fc7\u4ee5\u4e0b\u65b9\u5f0f\u66f4\u6539\u60f3\u8981\u663e\u793a\u7684\u6570\u636e\u884c\u6570\uff1a\r\n"
      ]
    },
    {
      "cell_type": "code",
      "execution_count": null,
      "metadata": {
        "collapsed": false
      },
      "outputs": [],
      "source": [
        "displacement_dataframe.display_max_rows = 9\nprint(displacement_dataframe)"
      ]
    },
    {
      "cell_type": "markdown",
      "metadata": {},
      "source": [
        "\u6216\u663e\u793a\u7684\u6570\u636e\u5217\u6570\uff1a\r\n"
      ]
    },
    {
      "cell_type": "code",
      "execution_count": null,
      "metadata": {
        "collapsed": false
      },
      "outputs": [],
      "source": [
        "displacement_dataframe.display_max_columns = 2\nprint(displacement_dataframe)\n# Notice: ``...`` \u7b26\u53f7\u8868\u793a DataFrame \u5728\u8be5\u65b9\u5411\u4e0a\u88ab\u622a\u65ad\u3002"
      ]
    },
    {
      "cell_type": "markdown",
      "metadata": {},
      "source": [
        "# The special case of ElementalNodal results\r\n\r\n**ElementalNodal \u7ed3\u679c\u7684\u7279\u6b8a\u60c5\u51b5**\r\n"
      ]
    },
    {
      "cell_type": "markdown",
      "metadata": {},
      "source": [
        "\u5f53\u5904\u7406\u4f4d\u4e8e\u6bcf\u4e2a\u5355\u5143\u7684\u6bcf\u4e2a\u8282\u70b9\uff08\u53c8\u79f0\r\nElementalNodal\uff09\u4e0a\u7684\u7ed3\u679c\u65f6\uff0c\u4f1a\u5728\u521b\u5efa\u65f6\u6dfb\u52a0\u4e00\u4e2a `ElementNodeIndex`\r\n\u7d22\u5f15\uff0c\u4ee5\u6307\u5411\u5355\u5143\u8fde\u63a5\u4e2d\u7684\u8282\u70b9\u7f16\u53f7\u3002\r\n"
      ]
    },
    {
      "cell_type": "code",
      "execution_count": null,
      "metadata": {
        "collapsed": false
      },
      "outputs": [],
      "source": [
        "stress = simulation.stress()\nprint(stress)\nprint(stress.columns)\nprint(stress.columns[2]) # columns \u5c5e\u6027\u8fd4\u56de\u4e00\u4e2a\u5305\u542b\u6240\u6709\u5217\u540d\u7684 Index \u5bf9\u8c61\uff0c\u7136\u540e\u901a\u8fc7\u7d22\u5f15 [2] \u83b7\u53d6\u7b2c\u4e09\u5217\u7684\u5217\u540d\uff08\u5373\u4e3a \"node\"\uff09\u3002 --ff"
      ]
    },
    {
      "cell_type": "markdown",
      "metadata": {},
      "source": [
        "# Data selection\r\n\r\n**\u6570\u636e\u9009\u62e9**\r\n"
      ]
    },
    {
      "cell_type": "markdown",
      "metadata": {},
      "source": [
        "\u8981\u9009\u62e9\u7279\u5b9a\u7684\u5217\u6216\u884c\uff0c\u53ef\u4f7f\u7528\u7d22\u5f15\u540d\u79f0\u4f5c\u4e3a `DataFrame.select`\r\n\u65b9\u6cd5\u7684\u53c2\u6570\uff0c\u83b7\u53d6\u503c\u5217\u8868\uff1a\r\n"
      ]
    },
    {
      "cell_type": "code",
      "execution_count": null,
      "metadata": {
        "collapsed": false
      },
      "outputs": [],
      "source": [
        "disp_X_1 = displacement_dataframe.select(\n    set_ids=[1], node_ids=[4872, 9005], components=[\"X\"]\n)\nprint(disp_X_1)"
      ]
    },
    {
      "cell_type": "markdown",
      "metadata": {},
      "source": [
        "\u60a8\u8fd8\u53ef\u4ee5\u4f7f\u7528 `Dataframe.iselect` \u4f7f\u7528\u57fa\u4e8e\u96f6\u7684\u4f4d\u7f6e\u6cbf\u7d22\u5f15\u8fdb\u884c\u9009\u62e9\uff1a\r\n"
      ]
    },
    {
      "cell_type": "code",
      "execution_count": null,
      "metadata": {
        "collapsed": false
      },
      "outputs": [],
      "source": [
        "disp_Y_9005_3 = displacement_dataframe.iselect(\n    set_ids=[2], node_ids=[1], components=[1]\n)\nprint(disp_Y_9005_3)"
      ]
    },
    {
      "cell_type": "markdown",
      "metadata": {},
      "source": [
        "# Extract data\r\n\r\nOnce the Dataframe contains the specific data you require, extract it as\r\nan array with:\r\n"
      ]
    },
    {
      "cell_type": "code",
      "execution_count": null,
      "metadata": {
        "collapsed": false
      },
      "outputs": [],
      "source": [
        "print(disp_X_1.array)\n# IMPORTANT: Note that for the extraction of the Dataframe's data as an array to make sense,\n# you must first filter the columns label values to a unique combination of values.\n# The exception is for ElementalNodal data, which is returned as a 2D array.\nprint(stress.array.shape)"
      ]
    },
    {
      "cell_type": "markdown",
      "metadata": {},
      "source": [
        "# Plot a Dataframe\r\n"
      ]
    },
    {
      "cell_type": "code",
      "execution_count": null,
      "metadata": {
        "collapsed": false
      },
      "outputs": [],
      "source": [
        "displacement_dataframe.plot()"
      ]
    },
    {
      "cell_type": "markdown",
      "metadata": {},
      "source": [
        "# Animate a transient Dataframe\r\n"
      ]
    },
    {
      "cell_type": "code",
      "execution_count": null,
      "metadata": {
        "collapsed": false
      },
      "outputs": [],
      "source": [
        "displacement_dataframe.animate()"
      ]
    }
  ],
  "metadata": {
    "kernelspec": {
      "display_name": "Python 3",
      "language": "python",
      "name": "python3"
    },
    "language_info": {
      "codemirror_mode": {
        "name": "ipython",
        "version": 3
      },
      "file_extension": ".py",
      "mimetype": "text/x-python",
      "name": "python",
      "nbconvert_exporter": "python",
      "pygments_lexer": "ipython3",
      "version": "3.10.1"
    }
  },
  "nbformat": 4,
  "nbformat_minor": 0
}