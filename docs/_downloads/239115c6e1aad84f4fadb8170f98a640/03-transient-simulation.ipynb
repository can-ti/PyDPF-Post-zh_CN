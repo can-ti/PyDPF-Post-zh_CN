{
  "cells": [
    {
      "cell_type": "markdown",
      "metadata": {},
      "source": [
        "# Transient Simulation with Animation {#ref_transient_example}\r\n\r\n**\u5e26\u52a8\u753b\u7684\u77ac\u6001\u6a21\u62df**\r\n\r\n\u8be5\u811a\u672c\u5bf9\u77ac\u6001\u6a21\u62df\u8fdb\u884c\u5904\u7406\uff0c\u4ee5\u63d0\u53d6\u5e94\u529b\u3001\u5e94\u53d8\u548c\u4f4d\u79fb\u7b49\u7ed3\u679c\u3002\r\n\u6b64\u5916\uff0c\u8fd8\u53ef\u63d0\u53d6\u6240\u9009\u65f6\u95f4\u6b65\u957f\u7684\u6570\u636e\u5e76\u663e\u793a\u52a8\u753b\u3002\r\n"
      ]
    },
    {
      "cell_type": "markdown",
      "metadata": {},
      "source": [
        "# Perform required imports\r\n\r\n**\u6267\u884c\u6240\u9700\u7684\u5bfc\u5165** \u672c\u793a\u4f8b\u4f7f\u7528\u4e86\u4e00\u4e2a\u63d0\u4f9b\u7684\u6587\u4ef6\uff0c\u60a8\u53ef\u4ee5\u901a\u8fc7\u5bfc\u5165 DPF\r\n`examples` \u5305\u83b7\u5f97\u8be5\u6587\u4ef6\u3002\r\n"
      ]
    },
    {
      "cell_type": "code",
      "execution_count": null,
      "metadata": {
        "collapsed": false
      },
      "outputs": [],
      "source": [
        "from ansys.dpf import post\nfrom ansys.dpf.post import examples"
      ]
    },
    {
      "cell_type": "markdown",
      "metadata": {},
      "source": [
        "# Get `Simulation` object\r\n\r\n**\u83b7\u53d6 \\`\\`Simulation\\`\\` \u5bf9\u8c61**\r\n"
      ]
    },
    {
      "cell_type": "code",
      "execution_count": null,
      "metadata": {
        "collapsed": false
      },
      "outputs": [],
      "source": [
        "# \u83b7\u53d6\u5141\u8bb8\u8bbf\u95ee\u7ed3\u679c\u7684 ``Simulation`` \u5bf9\u8c61\u3002\u5fc5\u987b\u4f7f\u7528\u7ed3\u679c\u6587\u4ef6\u7684\u8def\u5f84\u5b9e\u4f8b\u5316 ``Simulation`` \u5bf9\u8c61\u3002\n# \u4f8b\u5982\uff0cWindows \u4e0b\u4e3a ``\"C:/Users/user/my_result.rst\"`` \u6216 Linux \u4e0b\u4e3a ``\"/home/user/my_result.rst\"`` \u3002\n\nexample_path = examples.find_msup_transient()\n\n# \u81ea\u52a8\u68c0\u6d4b\u6a21\u62df\u7c7b\u578b\uff0c\u8bf7\u4f7f\u7528\uff1a\nsimulation = post.load_simulation(example_path)\n\n# \u8981\u542f\u7528\u81ea\u52a8\u5b8c\u6210\u529f\u80fd\uff0c\u8bf7\u4f7f\u7528\u7b49\u6548\u7684\u547d\u4ee4\uff1a\nsimulation = post.TransientMechanicalSimulation(example_path)\n\n# \u6253\u5370 simulation \uff0c\u4e86\u89e3\u53ef\u7528\u5185\u5bb9\u7684\u6982\u51b5\nprint(simulation)"
      ]
    },
    {
      "cell_type": "markdown",
      "metadata": {},
      "source": [
        "# Extract displacement at all times or on a selection\r\n\r\n**\u5168\u90e8\u6216\u9009\u62e9\u6027\u63d0\u53d6\u4f4d\u79fb\u91cf**\r\n"
      ]
    },
    {
      "cell_type": "code",
      "execution_count": null,
      "metadata": {
        "collapsed": false
      },
      "outputs": [],
      "source": [
        "# \u67e5\u8be2\u6240\u6709 times \u7684\u4f4d\u79fb\u77e2\u91cf\u573a\ndisplacement = simulation.displacement(all_sets=True)\nprint(displacement)\n# \u52a8\u753b\u663e\u793a\u5177\u6709\u591a\u4e2a\u5206\u91cf\u7684\u5411\u91cf\u573a\u7684\u8303\u6570\ndisplacement.animate(deform=True, title=\"U\")\n\n# \u8fd9\u6bb5\u4ee3\u7801\u9996\u5148\u8c03\u7528 simulation \u5bf9\u8c61\u7684 displacement \u65b9\u6cd5\uff0c\u83b7\u53d6\u6a21\u62df\u4e2d\u6240\u6709\u96c6\u5408\uff08\u7531 all_sets=True \u6307\u5b9a\uff09\u7684\u4f4d\u79fb\u4fe1\u606f\u3002\n# \u7136\u540e\uff0c\u4ee3\u7801\u6253\u5370\u4e86\u83b7\u53d6\u5230\u7684\u4f4d\u79fb\u4fe1\u606f\u3002\n# \u6700\u540e\uff0c\u4ee3\u7801\u8c03\u7528 displacement \u5bf9\u8c61\u7684 animate \u65b9\u6cd5\uff0c\u751f\u6210\u4e86\u4e00\u4e2a\u52a8\u753b\u6765\u5c55\u793a\u4f4d\u79fb\u4fe1\u606f\u3002\u53c2\u6570 deform=True \u8868\u793a\u5728\u52a8\u753b\u4e2d\u5c55\u793a\u5f62\u53d8\uff0c\u53c2\u6570 title=\"U\" \u8bbe\u7f6e\u4e86\u52a8\u753b\u7684\u6807\u9898\u4e3a \"U\"\u3002\n\n\n# \u4f7f\u7528 `components` \u53c2\u6570\u83b7\u53d6\u7279\u5b9a\u7ec4\u4ef6\nx_displacement = simulation.displacement(all_sets=True, components=[\"X\"])\nprint(x_displacement)\nx_displacement.animate(deform=True, title=\"UX\")\n\n\n# \u4f7f\u7528 \u201cnorm=True\u201d \u83b7\u53d6\u5411\u91cf\u7ed3\u679c\u7684\u8303\u6570\ndisplacement_norm = simulation.displacement(all_sets=True, norm=True)\nprint(displacement_norm)\ndisplacement_norm.animate(deform=True, title=\"U norm\")\n\n# \u83b7\u53d6\u6a21\u62df\u4e2d\u53ef\u7528\u7684 time set ID\nprint(simulation.set_ids)\n\n# \u63d0\u53d6\u7ed9\u5b9a\u65f6\u95f4\u6b65\u957f\u4e0a\u7684\u4f4d\u79fb\uff0c\u6216\u4ece\u5df2\u8ba1\u7b97\u7684\u4f4d\u79fb Dataframe \u4e2d\u9009\u62e9\u65f6\u95f4\u6b65\u957f\ndisplacement = simulation.displacement(set_ids=simulation.set_ids[5:])\ndisplacement = displacement.select(set_ids=simulation.set_ids[5:])\nprint(displacement)"
      ]
    },
    {
      "cell_type": "markdown",
      "metadata": {},
      "source": [
        "# Extract strain at all times or on a selection\r\n\r\n**\u5168\u90e8\u6216\u6839\u636e\u9009\u62e9\u63d0\u53d6\u5e94\u53d8**\r\n"
      ]
    },
    {
      "cell_type": "code",
      "execution_count": null,
      "metadata": {
        "collapsed": false
      },
      "outputs": [],
      "source": [
        "strain = simulation.elastic_strain_nodal(all_sets=True)\nprint(strain)\n\nstrain = simulation.elastic_strain_nodal(set_ids=simulation.set_ids[10:])\nprint(strain)"
      ]
    },
    {
      "cell_type": "markdown",
      "metadata": {},
      "source": [
        "# Animate strain eqv over all times\r\n\r\n**\u5168\u90e8 times \u7684\u5e94\u53d8\u65b9\u7a0b\u52a8\u753b**\r\n"
      ]
    },
    {
      "cell_type": "code",
      "execution_count": null,
      "metadata": {
        "collapsed": false
      },
      "outputs": [],
      "source": [
        "strain_eqv = simulation.elastic_strain_eqv_von_mises_nodal(all_sets=True)\nstrain_eqv.animate(deform=True, title=\"E_eqv\")"
      ]
    }
  ],
  "metadata": {
    "kernelspec": {
      "display_name": "Python 3",
      "language": "python",
      "name": "python3"
    },
    "language_info": {
      "codemirror_mode": {
        "name": "ipython",
        "version": 3
      },
      "file_extension": ".py",
      "mimetype": "text/x-python",
      "name": "python",
      "nbconvert_exporter": "python",
      "pygments_lexer": "ipython3",
      "version": "3.10.1"
    }
  },
  "nbformat": 4,
  "nbformat_minor": 0
}