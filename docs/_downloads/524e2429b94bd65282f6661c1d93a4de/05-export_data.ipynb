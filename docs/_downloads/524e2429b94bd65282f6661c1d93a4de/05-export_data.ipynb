{
  "cells": [
    {
      "cell_type": "markdown",
      "metadata": {},
      "source": [
        "# Export data contained in a DataFrame to a new format {#ref_export_data_example}\r\n\r\n**\u5c06 DataFrame \u4e2d\u5305\u542b\u7684\u6570\u636e\u5bfc\u51fa\u4e3a\u65b0\u683c\u5f0f**\r\n\r\n\u672c\u811a\u672c\u4ee5\u9759\u6001\u6a21\u62df\u4e3a\u4f8b\uff0c\u8bf4\u660e\u5982\u4f55\u5c06\u6570\u636e\u4ece DataFrame \u5bfc\u51fa\u5230\u53e6\u4e00\u79cd\u683c\u5f0f\u3002\r\n"
      ]
    },
    {
      "cell_type": "markdown",
      "metadata": {},
      "source": [
        "# Perform required imports\r\n\r\n**\u6267\u884c\u6240\u9700\u7684\u5bfc\u5165**\r\n"
      ]
    },
    {
      "cell_type": "markdown",
      "metadata": {},
      "source": [
        "\u672c\u793a\u4f8b\u4f7f\u7528\u4e86\u4e00\u4e2a\u63d0\u4f9b\u7684\u6587\u4ef6\uff0c\u60a8\u53ef\u4ee5\u901a\u8fc7\u5bfc\u5165 DPF `examples` \u5305\u83b7\u5f97\u8be5\u6587\u4ef6\u3002\r\n"
      ]
    },
    {
      "cell_type": "code",
      "execution_count": null,
      "metadata": {
        "collapsed": false
      },
      "outputs": [],
      "source": [
        "from ansys.dpf import post\nfrom ansys.dpf.post import examples"
      ]
    },
    {
      "cell_type": "markdown",
      "metadata": {},
      "source": [
        "# Get the `Simulation` object\r\n\r\n**\u83b7\u53d6\u5141\u8bb8\u8bbf\u95ee\u7ed3\u679c\u7684 \\`\\`Simulation\\`\\` \u5bf9\u8c61**\r\n"
      ]
    },
    {
      "cell_type": "markdown",
      "metadata": {},
      "source": [
        "\u5fc5\u987b\u4f7f\u7528\u7ed3\u679c\u6587\u4ef6\u7684\u8def\u5f84\u5b9e\u4f8b\u5316 `Simulation` \u5bf9\u8c61\u3002\u4f8b\u5982\uff0cWindows \u4e0b\u4e3a\r\n`\"C:/Users/user/my_result.rst\"` \u6216 Linux \u4e0b\u4e3a\r\n`\"/home/user/my_result.rst\"` \u3002\r\n"
      ]
    },
    {
      "cell_type": "code",
      "execution_count": null,
      "metadata": {
        "collapsed": false
      },
      "outputs": [],
      "source": [
        "example_path = examples.download_crankshaft()\n# \u81ea\u52a8\u68c0\u6d4b\u6a21\u62df\u7c7b\u578b\uff0c\u8bf7\u4f7f\u7528\nsimulation = post.load_simulation(example_path)\n\n# \u8981\u542f\u7528 auto-completion \u529f\u80fd\uff0c\u8bf7\u4f7f\u7528\u7b49\u6548\u7684\u547d\u4ee4\uff1a\nsimulation = post.StaticMechanicalSimulation(example_path)\n\n# \u6253\u5370 simulation \uff0c\u4e86\u89e3\u53ef\u7528\u5185\u5bb9\u7684\u6982\u51b5\nprint(simulation)"
      ]
    },
    {
      "cell_type": "markdown",
      "metadata": {},
      "source": [
        "# Extract elemental nodal stress\r\n\r\n**\u63d0\u53d6\u5355\u5143\u8282\u70b9\u5e94\u529b**\r\n"
      ]
    },
    {
      "cell_type": "code",
      "execution_count": null,
      "metadata": {
        "collapsed": false
      },
      "outputs": [],
      "source": [
        "stress = simulation.stress_nodal(all_sets=True)\nprint(stress)"
      ]
    },
    {
      "cell_type": "markdown",
      "metadata": {},
      "source": [
        "# Export to a numpy.ndarray\r\n\r\n**\u5bfc\u51fa\u4e3a numpy.ndarray**\r\n"
      ]
    },
    {
      "cell_type": "code",
      "execution_count": null,
      "metadata": {
        "collapsed": false
      },
      "outputs": [],
      "source": [
        "# \u8981\u5bfc\u51fa\u4e3a numpy.ndarray\uff0cDataFrame \u5fc5\u987b\u53ea\u5305\u542b\u5217\u6807\u7b7e\u503c\u5355\u4e00\u7ec4\u5408\u7684\u6570\u636e\u3002\n\n# \u9009\u62e9\u4e00\u4e2a\u8377\u8f7d\u6b65\uff0c\u56e0\u4e3a dataframe \u5305\u542b\u591a\u4e2a\u8377\u8f7d\u6b65\u7684\u6570\u636e\nstress_1 = stress.select(set_ids=1)\nprint(stress_1)\n\n# \u5c06\u5176\u5bfc\u51fa\u4e3a numpy.ndarray\nstress_1_array = stress_1.array\nprint(stress_1_array)"
      ]
    }
  ],
  "metadata": {
    "kernelspec": {
      "display_name": "Python 3",
      "language": "python",
      "name": "python3"
    },
    "language_info": {
      "codemirror_mode": {
        "name": "ipython",
        "version": 3
      },
      "file_extension": ".py",
      "mimetype": "text/x-python",
      "name": "python",
      "nbconvert_exporter": "python",
      "pygments_lexer": "ipython3",
      "version": "3.10.1"
    }
  },
  "nbformat": 4,
  "nbformat_minor": 0
}