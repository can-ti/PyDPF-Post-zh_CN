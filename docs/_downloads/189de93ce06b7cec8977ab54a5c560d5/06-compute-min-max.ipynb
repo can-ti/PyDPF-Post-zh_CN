{
  "cells": [
    {
      "cell_type": "markdown",
      "metadata": {},
      "source": [
        "# Compute minimum and maximum of a DataFrame {#ref_compute_statistics_example}\r\n\r\n**\u8ba1\u7b97 DataFrame \u7684\u6700\u5c0f\u503c\u548c\u6700\u5927\u503c**\r\n\r\n\u5728\u672c\u793a\u4f8b\u4e2d\uff0c\u77ac\u6001\u5206\u6790\u4f4d\u79fb\u6570\u636e\u7528\u4e8e\u6f14\u793a\u5982\u4f55\u8ba1\u7b97\u7ed9\u5b9a DataFrame\r\n\u7684\u6700\u5c0f\u503c\u6216\u6700\u5927\u503c\u3002\r\n"
      ]
    },
    {
      "cell_type": "markdown",
      "metadata": {},
      "source": [
        "# Perform required imports\r\n\r\n**\u6267\u884c\u6240\u9700\u7684\u5bfc\u5165**\r\n"
      ]
    },
    {
      "cell_type": "markdown",
      "metadata": {},
      "source": [
        "\u672c\u793a\u4f8b\u4f7f\u7528\u4e86\u4e00\u4e2a\u63d0\u4f9b\u7684\u6587\u4ef6\uff0c\u60a8\u53ef\u4ee5\u901a\u8fc7\u5bfc\u5165 DPF `examples` \u5305\u83b7\u5f97\u8be5\u6587\u4ef6\u3002\r\n"
      ]
    },
    {
      "cell_type": "code",
      "execution_count": null,
      "metadata": {
        "collapsed": false
      },
      "outputs": [],
      "source": [
        "from ansys.dpf import post\nfrom ansys.dpf.post import examples"
      ]
    },
    {
      "cell_type": "markdown",
      "metadata": {},
      "source": [
        "# Load the result file\r\n\r\n**\u5c06\u7ed3\u679c\u6587\u4ef6\u52a0\u8f7d\u5230\u5141\u8bb8\u8bbf\u95ee\u7ed3\u679c\u7684 \\`\\`Simulation\\`\\` \u5bf9\u8c61\u4e2d\u3002**\r\n"
      ]
    },
    {
      "cell_type": "markdown",
      "metadata": {},
      "source": [
        "\u5fc5\u987b\u4f7f\u7528\u7ed3\u679c\u6587\u4ef6\u7684\u8def\u5f84\u5b9e\u4f8b\u5316 `Simulation` \u5bf9\u8c61\u3002\u4f8b\u5982\uff0cWindows \u4e0b\u4e3a\r\n`\"C:/Users/user/my_result.rst\"` \u6216 Linux \u4e0b\u4e3a\r\n`\"/home/user/my_result.rst\"` \u3002\r\n"
      ]
    },
    {
      "cell_type": "code",
      "execution_count": null,
      "metadata": {
        "collapsed": false
      },
      "outputs": [],
      "source": [
        "example_path = examples.download_crankshaft()\n# \u81ea\u52a8\u68c0\u6d4b\u6a21\u62df\u7c7b\u578b\uff0c\u8bf7\u4f7f\u7528\nsimulation = post.load_simulation(example_path)\n\n# \u8981\u542f\u7528\u81ea\u52a8\u5b8c\u6210\u529f\u80fd\uff0c\u8bf7\u4f7f\u7528\u7b49\u6548\u7684\u547d\u4ee4\uff1a\nsimulation = post.StaticMechanicalSimulation(example_path)\n\n# \u6253\u5370 simulation\uff0c\u4e86\u89e3\u53ef\u7528\u5185\u5bb9\u7684\u6982\u51b5\nprint(simulation)"
      ]
    },
    {
      "cell_type": "markdown",
      "metadata": {},
      "source": [
        "# Extract displacement data\r\n\r\n**\u63d0\u53d6\u4f4d\u79fb\u6570\u636e**\r\n"
      ]
    },
    {
      "cell_type": "code",
      "execution_count": null,
      "metadata": {
        "collapsed": false
      },
      "outputs": [],
      "source": [
        "displacement = simulation.displacement(all_sets=True)\nprint(displacement)"
      ]
    },
    {
      "cell_type": "markdown",
      "metadata": {},
      "source": [
        "# Compute the maximum displacement for each component at each time-step\r\n\r\n**\u8ba1\u7b97\u6bcf\u4e2a\u5206\u91cf\u5728\u6bcf\u4e2a\u65f6\u95f4\u6b65\u957f\u7684\u6700\u5927\u4f4d\u79fb**\r\n"
      ]
    },
    {
      "cell_type": "code",
      "execution_count": null,
      "metadata": {
        "collapsed": false
      },
      "outputs": [],
      "source": [
        "# \u9ed8\u8ba4\u7684 `axis` \u53c2\u6570\u662f MeshIndex\nmaximum_over_mesh = displacement.max()\nprint(maximum_over_mesh)\n# \u4e0e\u4e4b\u7b49\u6548\u7684\u547d\u4ee4\u4e3a\nmaximum_over_mesh = displacement.max(axis=\"node_ids\")\nprint(maximum_over_mesh)"
      ]
    },
    {
      "cell_type": "markdown",
      "metadata": {},
      "source": [
        "# Compute the maximum displacement for each node and component across time\r\n\r\n**\u8ba1\u7b97\u6bcf\u4e2a\u8282\u70b9\u548c\u7ec4\u4ef6\u5728\u4e0d\u540c\u65f6\u95f4\u6bb5\u7684\u6700\u5927\u4f4d\u79fb**\r\n"
      ]
    },
    {
      "cell_type": "code",
      "execution_count": null,
      "metadata": {
        "collapsed": false
      },
      "outputs": [],
      "source": [
        "maximum_over_time = displacement.max(axis=\"set_ids\")\nprint(maximum_over_time)"
      ]
    },
    {
      "cell_type": "markdown",
      "metadata": {},
      "source": [
        "# Compute the maximum displacement overall\r\n\r\n**\u8ba1\u7b97\u6574\u4f53\u6700\u5927\u4f4d\u79fb**\r\n"
      ]
    },
    {
      "cell_type": "code",
      "execution_count": null,
      "metadata": {
        "collapsed": false
      },
      "outputs": [],
      "source": [
        "maximum_overall = maximum_over_time.max()\nprint(maximum_overall)"
      ]
    },
    {
      "cell_type": "markdown",
      "metadata": {},
      "source": [
        "# Compute the minimum displacement for each component at each time-step\r\n\r\n**\u8ba1\u7b97\u6bcf\u4e2a\u5206\u91cf\u5728\u6bcf\u4e2a\u65f6\u95f4\u6b65\u7684\u6700\u5c0f\u4f4d\u79fb**\r\n"
      ]
    },
    {
      "cell_type": "code",
      "execution_count": null,
      "metadata": {
        "collapsed": false
      },
      "outputs": [],
      "source": [
        "# \u9ed8\u8ba4\u7684 `axis` \u53c2\u6570\u662f MeshIndex\nminimum_over_mesh = displacement.min()\nprint(minimum_over_mesh)\n# \u4e0e\u4e4b\u7b49\u6548\u7684\u547d\u4ee4\u4e3a\nminimum_over_mesh = displacement.min(axis=\"node_ids\")\nprint(minimum_over_mesh)"
      ]
    },
    {
      "cell_type": "markdown",
      "metadata": {},
      "source": [
        "# Compute the minimum displacement for each node and component across time\r\n\r\n**\u8ba1\u7b97\u6bcf\u4e2a\u8282\u70b9\u548c\u7ec4\u4ef6\u5728\u4e0d\u540c\u65f6\u95f4\u6bb5\u7684\u6700\u5c0f\u4f4d\u79fb**\r\n"
      ]
    },
    {
      "cell_type": "code",
      "execution_count": null,
      "metadata": {
        "collapsed": false
      },
      "outputs": [],
      "source": [
        "minimum_over_time = displacement.min(axis=\"set_ids\")\nprint(minimum_over_time)"
      ]
    },
    {
      "cell_type": "markdown",
      "metadata": {},
      "source": [
        "# Compute the minimum displacement overall\r\n\r\n**\u8ba1\u7b97\u6574\u4f53\u6700\u5c0f\u4f4d\u79fb**\r\n"
      ]
    },
    {
      "cell_type": "code",
      "execution_count": null,
      "metadata": {
        "collapsed": false
      },
      "outputs": [],
      "source": [
        "minimum_overall = minimum_over_time.min()\nprint(minimum_overall)"
      ]
    }
  ],
  "metadata": {
    "kernelspec": {
      "display_name": "Python 3",
      "language": "python",
      "name": "python3"
    },
    "language_info": {
      "codemirror_mode": {
        "name": "ipython",
        "version": 3
      },
      "file_extension": ".py",
      "mimetype": "text/x-python",
      "name": "python",
      "nbconvert_exporter": "python",
      "pygments_lexer": "ipython3",
      "version": "3.10.1"
    }
  },
  "nbformat": 4,
  "nbformat_minor": 0
}