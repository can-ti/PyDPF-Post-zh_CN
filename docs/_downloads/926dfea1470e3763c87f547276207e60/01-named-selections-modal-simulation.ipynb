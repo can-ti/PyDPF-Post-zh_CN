{
  "cells": [
    {
      "cell_type": "markdown",
      "metadata": {},
      "source": [
        "# Extract results on named selections - Modal Simulation {#ref_ns_modal_example}\r\n\r\n**\u63d0\u53d6\u6307\u5b9a\u9009\u9879\u7684\u7ed3\u679c ------ \u6a21\u6001\u5206\u6790**\r\n\r\n\u8be5\u811a\u672c\u5bf9\u9759\u6001\u6a21\u62df\u8fdb\u884c\u5904\u7406\uff0c\u4ee5\u63d0\u53d6\u5e94\u529b\u3001\u4f4d\u79fb\u7b49\u7ed3\u679c\u3002\u6b64\u5916\uff0c\u8fd8\u53ef\u901a\u8fc7\u5bf9\u7279\u5b9a\u8282\u70b9\u3001\u5355\u5143\u8fdb\u884c\u626b\u63cf\u6765\u9009\u62e9\u7ed3\u679c\u7684\u5b50\u90e8\u5206\u3002\r\n"
      ]
    },
    {
      "cell_type": "markdown",
      "metadata": {},
      "source": [
        "# Perform required imports\r\n\r\n**\u6267\u884c\u6240\u9700\u7684\u5bfc\u5165**\r\n"
      ]
    },
    {
      "cell_type": "markdown",
      "metadata": {},
      "source": [
        "\u672c\u793a\u4f8b\u4f7f\u7528\u4e86\u4e00\u4e2a\u63d0\u4f9b\u7684\u6587\u4ef6\uff0c\u60a8\u53ef\u4ee5\u901a\u8fc7\u5bfc\u5165 DPF `examples` \u5305\u83b7\u5f97\u8be5\u6587\u4ef6\u3002\r\n"
      ]
    },
    {
      "cell_type": "code",
      "execution_count": null,
      "metadata": {
        "collapsed": false
      },
      "outputs": [],
      "source": [
        "from ansys.dpf import post\nfrom ansys.dpf.post import examples"
      ]
    },
    {
      "cell_type": "markdown",
      "metadata": {},
      "source": [
        "# Get the `Simulation` object\r\n\r\n**\u83b7\u53d6\u5141\u8bb8\u8bbf\u95ee\u7ed3\u679c\u7684 \\`\\`Simulation\\`\\` \u5bf9\u8c61**\r\n"
      ]
    },
    {
      "cell_type": "markdown",
      "metadata": {},
      "source": [
        "\u5fc5\u987b\u4f7f\u7528\u7ed3\u679c\u6587\u4ef6\u7684\u8def\u5f84\u5b9e\u4f8b\u5316 `Simulation` \u5bf9\u8c61\u3002\u4f8b\u5982\uff0cWindows \u4e0b\u4e3a\r\n`\"C:/Users/user/my_result.rst\"` \u6216 Linux \u4e0b\u4e3a\r\n`\"/home/user/my_result.rst\"` \u3002\r\n"
      ]
    },
    {
      "cell_type": "code",
      "execution_count": null,
      "metadata": {
        "collapsed": false
      },
      "outputs": [],
      "source": [
        "example_path = examples.download_modal_frame()\n# \u81ea\u52a8\u68c0\u6d4b\u6a21\u62df\u7c7b\u578b\uff0c\u8bf7\u4f7f\u7528\nsimulation = post.load_simulation(example_path)\n\n# \u8981\u542f\u7528 auto-completion \u529f\u80fd\uff0c\u8bf7\u4f7f\u7528\u7b49\u6548\u7684\u547d\u4ee4\uff1a\nsimulation = post.ModalMechanicalSimulation(example_path)\n\n# \u6253\u5370 simulation \uff0c\u4e86\u89e3\u53ef\u7528\u5185\u5bb9\u7684\u6982\u51b5\nprint(simulation)"
      ]
    },
    {
      "cell_type": "markdown",
      "metadata": {},
      "source": [
        "# Get the available named selections\r\n\r\n**\u83b7\u53d6\u53ef\u7528\u7684\u5df2\u547d\u540d\u9009\u533a\uff08\u7ec4\u4ef6\uff09**\r\n"
      ]
    },
    {
      "cell_type": "code",
      "execution_count": null,
      "metadata": {
        "collapsed": false
      },
      "outputs": [],
      "source": [
        "print(simulation.named_selections)"
      ]
    },
    {
      "cell_type": "markdown",
      "metadata": {},
      "source": [
        "# Extract displacements on named selections\r\n\r\n**\u63d0\u53d6\u6307\u5b9a\u9009\u533a\u7684\u4f4d\u79fb**\r\n"
      ]
    },
    {
      "cell_type": "code",
      "execution_count": null,
      "metadata": {
        "collapsed": false
      },
      "outputs": [],
      "source": [
        "bar1_tot_displacement = simulation.displacement(named_selections=[\"BAR_1\"], norm=True)\nprint(bar1_tot_displacement)\nbar1_tot_displacement.plot()\n\nbar2_tot_displacement = simulation.displacement(named_selections=[\"BAR_2\"], norm=True)\nprint(bar2_tot_displacement)\nbar2_tot_displacement.plot()\n\n# both\ntot_displacement = simulation.displacement(\n    named_selections=[\"BAR_1\", \"BAR_2\"], norm=True\n)\nprint(tot_displacement)\ntot_displacement.plot()"
      ]
    },
    {
      "cell_type": "markdown",
      "metadata": {},
      "source": [
        "# Extract stress and averaged stress on named selections\r\n\r\n**\u63d0\u53d6\u5df2\u547d\u540d\u9009\u533a\u4e0a\u7684\u5e94\u529b\u548c\u5e73\u5747\u5e94\u529b**\r\n"
      ]
    },
    {
      "cell_type": "code",
      "execution_count": null,
      "metadata": {
        "collapsed": false
      },
      "outputs": [],
      "source": [
        "eqv_stress = simulation.stress_eqv_von_mises_nodal(named_selections=[\"_FIXEDSU\"])\nprint(eqv_stress)\neqv_stress.plot()\n\n# without selection\nelemental_stress = simulation.stress_elemental(named_selections=[\"BAR_1\"])\nprint(elemental_stress)\nelemental_stress.plot()"
      ]
    }
  ],
  "metadata": {
    "kernelspec": {
      "display_name": "Python 3",
      "language": "python",
      "name": "python3"
    },
    "language_info": {
      "codemirror_mode": {
        "name": "ipython",
        "version": 3
      },
      "file_extension": ".py",
      "mimetype": "text/x-python",
      "name": "python",
      "nbconvert_exporter": "python",
      "pygments_lexer": "ipython3",
      "version": "3.10.1"
    }
  },
  "nbformat": 4,
  "nbformat_minor": 0
}