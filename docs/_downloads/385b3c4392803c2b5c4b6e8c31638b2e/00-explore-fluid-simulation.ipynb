{
  "cells": [
    {
      "cell_type": "markdown",
      "metadata": {},
      "source": [
        "# Fluid Simulation Result Extraction {#ref_fluid_example_extractions}\r\n\r\nThis example shows how to load a fluid simulation (here a heating coil\r\nsimulated with CFX), explore the metadata available, and use the result\r\nextraction capabilities.\r\n\r\n::: note\r\n::: title\r\nNote\r\n:::\r\n\r\nThis example requires DPF 7.0 (2024.1.pre0) or above. For more\r\ninformation, see `compatibility`{.interpreted-text role=\"ref\"}.\r\n:::\r\n"
      ]
    },
    {
      "cell_type": "markdown",
      "metadata": {},
      "source": [
        "# Perform required imports\r\n"
      ]
    },
    {
      "cell_type": "code",
      "execution_count": null,
      "metadata": {
        "collapsed": false
      },
      "outputs": [],
      "source": [
        "from ansys.dpf import post\nfrom ansys.dpf.post import examples"
      ]
    },
    {
      "cell_type": "markdown",
      "metadata": {},
      "source": [
        "# Load the fluid analysis result\r\n"
      ]
    },
    {
      "cell_type": "code",
      "execution_count": null,
      "metadata": {
        "collapsed": false
      },
      "outputs": [],
      "source": [
        "fluid_example_files = examples.download_cfx_heating_coil()\nsimulation = post.FluidSimulation(\n    cas=fluid_example_files[\"cas\"], dat=fluid_example_files[\"dat\"]\n)\n# Printing the simulation will show most of the available metadata\nprint(simulation)"
      ]
    },
    {
      "cell_type": "markdown",
      "metadata": {},
      "source": [
        "# Explore the available metadata\r\n\r\nCheck the available cell and face zones\r\n"
      ]
    },
    {
      "cell_type": "code",
      "execution_count": null,
      "metadata": {
        "collapsed": false
      },
      "outputs": [],
      "source": [
        "print(simulation.cell_zones)\nprint(simulation.face_zones)"
      ]
    },
    {
      "cell_type": "markdown",
      "metadata": {},
      "source": [
        "The mesh metadata is available separately from the mesh as accessing the\r\nmesh means loading it. Use the mesh_info property to explore the mesh\r\nstructure to define queries\r\n"
      ]
    },
    {
      "cell_type": "code",
      "execution_count": null,
      "metadata": {
        "collapsed": false
      },
      "outputs": [],
      "source": [
        "print(simulation.mesh_info)"
      ]
    },
    {
      "cell_type": "markdown",
      "metadata": {},
      "source": [
        "Check the available species\r\n"
      ]
    },
    {
      "cell_type": "code",
      "execution_count": null,
      "metadata": {
        "collapsed": false
      },
      "outputs": [],
      "source": [
        "print(simulation.species)"
      ]
    },
    {
      "cell_type": "markdown",
      "metadata": {},
      "source": [
        "Check the available phases\r\n"
      ]
    },
    {
      "cell_type": "code",
      "execution_count": null,
      "metadata": {
        "collapsed": false
      },
      "outputs": [],
      "source": [
        "print(simulation.phases)"
      ]
    },
    {
      "cell_type": "markdown",
      "metadata": {},
      "source": [
        "Extract a result\r\n\r\n:   \r\n\r\n    ------------------------------------------------------------------------\r\n\r\n\\##############################################################################\r\n\r\n:   Check the metadata on available results\r\n"
      ]
    },
    {
      "cell_type": "code",
      "execution_count": null,
      "metadata": {
        "collapsed": false
      },
      "outputs": [],
      "source": [
        "print(simulation.result_info)"
      ]
    },
    {
      "cell_type": "markdown",
      "metadata": {},
      "source": [
        "Print information about a specific available result\r\n"
      ]
    },
    {
      "cell_type": "code",
      "execution_count": null,
      "metadata": {
        "collapsed": false
      },
      "outputs": [],
      "source": [
        "print(simulation.result_info[\"temperature\"])\n# Or use an index\n# print(simulation.result_info[12])"
      ]
    },
    {
      "cell_type": "markdown",
      "metadata": {},
      "source": [
        "# Extract the temperature data\r\n"
      ]
    },
    {
      "cell_type": "code",
      "execution_count": null,
      "metadata": {
        "collapsed": false
      },
      "outputs": [],
      "source": [
        "temperature = simulation.temperature()\nprint(temperature)\n\n# # The dataframe obtained shows data for two different phases"
      ]
    },
    {
      "cell_type": "markdown",
      "metadata": {},
      "source": [
        "Select data for phase 2 only (Water)\r\n"
      ]
    },
    {
      "cell_type": "code",
      "execution_count": null,
      "metadata": {
        "collapsed": false
      },
      "outputs": [],
      "source": [
        "print(temperature.select(phase=[2]))"
      ]
    },
    {
      "cell_type": "markdown",
      "metadata": {},
      "source": [
        "To directly extract the temperature data for a given phase, pass the\r\n\\'temperature\\' method a \\'phases\\' argument. This argument must be\r\ngiven a list of phase unique identifiers, which appear in the dataframe\r\nin the phase label column between parentheses, or as listed under the\r\n\\'Available qualifier labels\\' section of the metadata on the result You\r\ncan also directly use the phase name.\r\n"
      ]
    },
    {
      "cell_type": "code",
      "execution_count": null,
      "metadata": {
        "collapsed": false
      },
      "outputs": [],
      "source": [
        "water_temperature = simulation.temperature(phases=[\"Water at 25 C\"])\n# equivalent to\n# water_temperature = simulation.temperature(phases=[2])\nprint(water_temperature)\n# # The dataframe obtained now only stores data for the water phase."
      ]
    },
    {
      "cell_type": "markdown",
      "metadata": {},
      "source": [
        "To extract a result on given zones use the \\'zone_ids\\' argument or the\r\n\\'qualifiers\\' dictionary argument with key \\'zone\\' Here we request and\r\nplot the temperature on all face zones\r\n"
      ]
    },
    {
      "cell_type": "code",
      "execution_count": null,
      "metadata": {
        "collapsed": false
      },
      "outputs": [],
      "source": [
        "face_temperature = simulation.temperature(zone_ids=list(simulation.face_zones.keys()))\nface_temperature.plot()"
      ]
    }
  ],
  "metadata": {
    "kernelspec": {
      "display_name": "Python 3",
      "language": "python",
      "name": "python3"
    },
    "language_info": {
      "codemirror_mode": {
        "name": "ipython",
        "version": 3
      },
      "file_extension": ".py",
      "mimetype": "text/x-python",
      "name": "python",
      "nbconvert_exporter": "python",
      "pygments_lexer": "ipython3",
      "version": "3.10.1"
    }
  },
  "nbformat": 4,
  "nbformat_minor": 0
}