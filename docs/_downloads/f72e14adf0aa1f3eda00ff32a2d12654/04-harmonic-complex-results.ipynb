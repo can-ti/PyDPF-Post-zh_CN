{
  "cells": [
    {
      "cell_type": "markdown",
      "metadata": {},
      "source": [
        "# Harmonic Simulation {#ref_harmonic_example}\r\n\r\n\u672c\u811a\u672c\u5bf9\u8c10\u6ce2\u6a21\u62df\u8fdb\u884c\u4e86\u5904\u7406\uff0c\u5e76\u4f7f\u7528\u4e86\u66f4\u590d\u6742\u7684\u7ed3\u679c\u3002\r\n"
      ]
    },
    {
      "cell_type": "markdown",
      "metadata": {},
      "source": [
        "# Perform required imports\r\n\r\n**\u6267\u884c\u6240\u9700\u7684\u5bfc\u5165**\r\n"
      ]
    },
    {
      "cell_type": "markdown",
      "metadata": {},
      "source": [
        "\u672c\u793a\u4f8b\u4f7f\u7528\u4e86\u4e00\u4e2a\u63d0\u4f9b\u7684\u6587\u4ef6\uff0c\u60a8\u53ef\u4ee5\u901a\u8fc7\u5bfc\u5165 DPF `examples` \u5305\u83b7\u5f97\u8be5\u6587\u4ef6\u3002\r\n"
      ]
    },
    {
      "cell_type": "code",
      "execution_count": null,
      "metadata": {
        "collapsed": false
      },
      "outputs": [],
      "source": [
        "from ansys.dpf import post\nfrom ansys.dpf.post import examples"
      ]
    },
    {
      "cell_type": "markdown",
      "metadata": {},
      "source": [
        "# Get `Simulation` object\r\n\r\n\u83b7\u53d6\u5141\u8bb8\u8bbf\u95ee\u7ed3\u679c\u7684 `Simulation` \u5bf9\u8c61\u3002\u5fc5\u987b\u4f7f\u7528\u7ed3\u679c\u6587\u4ef6\u7684\u8def\u5f84\u5b9e\u4f8b\u5316\r\n`Simulation` \u5bf9\u8c61\u3002\u4f8b\u5982\uff0cWindows \u4e0b\u4e3a `\"C:/Users/user/my_result.rst\"` \u6216\r\nLinux \u4e0b\u4e3a `\"/home/user/my_result.rst\"` \u3002\r\n"
      ]
    },
    {
      "cell_type": "code",
      "execution_count": null,
      "metadata": {
        "collapsed": false
      },
      "outputs": [],
      "source": [
        "example_path = examples.download_harmonic_clamped_pipe()\n# \u8981\u81ea\u52a8\u68c0\u6d4b\u6a21\u62df\u7c7b\u578b\uff0c\u8bf7\u4f7f\u7528\uff1a\nsimulation = post.load_simulation(example_path)\n\n# \u8981\u542f\u7528\u81ea\u52a8\u5b8c\u6210\u529f\u80fd\uff0c\u8bf7\u4f7f\u7528\u7b49\u6548\u7684\u547d\u4ee4\uff1a\nsimulation = post.HarmonicMechanicalSimulation(example_path)\n\n# \u6253\u5370 simulation\uff0c\u4e86\u89e3\u53ef\u7528\u5185\u5bb9\u7684\u6982\u51b5\n\nprint(simulation)"
      ]
    },
    {
      "cell_type": "markdown",
      "metadata": {},
      "source": [
        "# Extract displacement over a list of frequencies sets\r\n\r\n**\u63d0\u53d6 frequencies sets \u5217\u8868\u4e0a\u7684\u4f4d\u79fb**\r\n"
      ]
    },
    {
      "cell_type": "markdown",
      "metadata": {},
      "source": [
        "\u6253\u5370 [time_freq_support]{.title-ref} \u6709\u52a9\u4e8e\u9009\u62e9\u6b63\u786e\u7684\u9891\u7387\r\n"
      ]
    },
    {
      "cell_type": "code",
      "execution_count": null,
      "metadata": {
        "collapsed": false
      },
      "outputs": [],
      "source": [
        "print(simulation.time_freq_support)\n\ndisplacement = simulation.displacement(set_ids=[1, 2])\nprint(displacement)\n\nsubdisp = displacement.select(complex=0, set_ids=1)\nprint(subdisp)\nsubdisp.plot(title=\"U tot real\")\n\nsubdisp = displacement.select(complex=1, set_ids=1)\nprint(subdisp)\nsubdisp.plot(title=\"U tot imaginary\")\n\nsubdisp = displacement.select(complex=0, set_ids=2)\nprint(subdisp)\nsubdisp.plot(title=\"U tot real\")"
      ]
    },
    {
      "cell_type": "markdown",
      "metadata": {},
      "source": [
        "# Extract stress eqv over a list of frequencies sets\r\n\r\n**\u5728 frequencies sets \u5217\u8868\u4e2d\u63d0\u53d6\u5e94\u529b\u65b9\u7a0b**\r\n"
      ]
    },
    {
      "cell_type": "code",
      "execution_count": null,
      "metadata": {
        "collapsed": false
      },
      "outputs": [],
      "source": [
        "stress_eqv = simulation.stress_eqv_von_mises_nodal(set_ids=[1, 2])\nprint(stress_eqv)\n\nsub_eqv = stress_eqv.select(complex=0, set_ids=1)\nprint(sub_eqv)\nsub_eqv.plot(title=\"S_eqv real\")\n\nsub_eqv = stress_eqv.select(complex=1, set_ids=1)\nprint(sub_eqv)\nsub_eqv.plot(title=\"S_eqv imaginary\")\n\nsub_eqv = stress_eqv.select(complex=0, set_ids=2)\nprint(sub_eqv)\nsub_eqv.plot(title=\"S_eqv real\")"
      ]
    }
  ],
  "metadata": {
    "kernelspec": {
      "display_name": "Python 3",
      "language": "python",
      "name": "python3"
    },
    "language_info": {
      "codemirror_mode": {
        "name": "ipython",
        "version": 3
      },
      "file_extension": ".py",
      "mimetype": "text/x-python",
      "name": "python",
      "nbconvert_exporter": "python",
      "pygments_lexer": "ipython3",
      "version": "3.10.1"
    }
  },
  "nbformat": 4,
  "nbformat_minor": 0
}