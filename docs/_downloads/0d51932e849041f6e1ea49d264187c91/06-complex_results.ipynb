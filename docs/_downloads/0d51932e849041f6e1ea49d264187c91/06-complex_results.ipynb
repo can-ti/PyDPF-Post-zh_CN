{
  "cells": [
    {
      "cell_type": "markdown",
      "metadata": {},
      "source": [
        "# Complex results from a modal or harmonic analysis {#ref_complex_results}\r\n\r\n**\u6a21\u6001\u5206\u6790\u6216\u8c10\u6ce2\u5206\u6790\u7684\u590d\u6742\u7ed3\u679c**\r\n\r\nThis example shows how you can access complex results from a modal or\r\nharmonic analysis.\r\n"
      ]
    },
    {
      "cell_type": "markdown",
      "metadata": {},
      "source": [
        "# Perform required imports\r\n\r\n**\u6267\u884c\u6240\u9700\u7684\u5bfc\u5165**\r\n"
      ]
    },
    {
      "cell_type": "code",
      "execution_count": null,
      "metadata": {
        "collapsed": false
      },
      "outputs": [],
      "source": [
        "from ansys.dpf import post\nfrom ansys.dpf.post import examples"
      ]
    },
    {
      "cell_type": "markdown",
      "metadata": {},
      "source": [
        "# Get `Solution` object\r\n\r\n**\u83b7\u53d6 \\`\\`Solution\\`\\` \u5bf9\u8c61**\r\n"
      ]
    },
    {
      "cell_type": "code",
      "execution_count": null,
      "metadata": {
        "collapsed": false
      },
      "outputs": [],
      "source": [
        "solution = post.load_solution(examples.complex_rst)\nsolution.has_complex_result()"
      ]
    },
    {
      "cell_type": "markdown",
      "metadata": {},
      "source": [
        "# Get displacement result\r\n\r\n**\u83b7\u53d6\u4f4d\u79fb\u7ed3\u679c**\r\n"
      ]
    },
    {
      "cell_type": "markdown",
      "metadata": {},
      "source": [
        "\u83b7\u53d6\u4f4d\u79fb `Result` \u5bf9\u8c61\u3002\u5b83\u5305\u542b\u4e00\u4e2a\u5b9e\u6570\u503c\u57df\u548c\u4e00\u4e2a\u865a\u6570\u503c\u57df\u3002\r\n"
      ]
    },
    {
      "cell_type": "code",
      "execution_count": null,
      "metadata": {
        "collapsed": false
      },
      "outputs": [],
      "source": [
        "disp_result = solution.displacement()"
      ]
    },
    {
      "cell_type": "markdown",
      "metadata": {},
      "source": [
        "# Check if support has complex frequencies\r\n\r\nCheck if the support has complex frequencies.\r\n"
      ]
    },
    {
      "cell_type": "code",
      "execution_count": null,
      "metadata": {
        "collapsed": false
      },
      "outputs": [],
      "source": [
        "disp_result.has_complex_frequencies()"
      ]
    },
    {
      "cell_type": "markdown",
      "metadata": {},
      "source": [
        "**\u8ba1\u7b97\u7ed3\u679c**\r\n"
      ]
    },
    {
      "cell_type": "code",
      "execution_count": null,
      "metadata": {
        "collapsed": false
      },
      "outputs": [],
      "source": [
        "disp = disp_result.vector\ndisp.num_fields"
      ]
    },
    {
      "cell_type": "markdown",
      "metadata": {},
      "source": [
        "# Define phase\r\n\r\n**\u5b9a\u4e49\u76f8\u4f4d**\r\n"
      ]
    },
    {
      "cell_type": "markdown",
      "metadata": {},
      "source": [
        "\u5b9a\u4e49\u76f8\u4f4d\u3002\u76f8\u4f4d\u503c\u5fc5\u987b\u662f\u6d6e\u70b9\u6570\u3002\u76f8\u4f4d\u5355\u4f4d\u4e3a\u5ea6\u3002\r\n"
      ]
    },
    {
      "cell_type": "code",
      "execution_count": null,
      "metadata": {
        "collapsed": false
      },
      "outputs": [],
      "source": [
        "phase = 39.0\ndisp_at_phase = disp_result.vector_at_phase(phase)\nprint(f\"Maximum displacement at phase {phase}:\", disp_at_phase.max_data)\nprint(f\"There are {disp_at_phase.num_fields} fields\")\nreal_field = disp_result.vector_at_phase(0.0)\nimg_field = disp_result.vector_at_phase(90.0)\n\nreal_field"
      ]
    },
    {
      "cell_type": "markdown",
      "metadata": {},
      "source": [
        "# Get amplitude\r\n\r\n**\u83b7\u53d6\u632f\u5e45**\r\n"
      ]
    },
    {
      "cell_type": "code",
      "execution_count": null,
      "metadata": {
        "collapsed": false
      },
      "outputs": [],
      "source": [
        "disp_ampl = disp_result.vector_amplitude\ndisp_ampl.num_fields\ndisp_ampl.max_data"
      ]
    }
  ],
  "metadata": {
    "kernelspec": {
      "display_name": "Python 3",
      "language": "python",
      "name": "python3"
    },
    "language_info": {
      "codemirror_mode": {
        "name": "ipython",
        "version": 3
      },
      "file_extension": ".py",
      "mimetype": "text/x-python",
      "name": "python",
      "nbconvert_exporter": "python",
      "pygments_lexer": "ipython3",
      "version": "3.10.1"
    }
  },
  "nbformat": 4,
  "nbformat_minor": 0
}