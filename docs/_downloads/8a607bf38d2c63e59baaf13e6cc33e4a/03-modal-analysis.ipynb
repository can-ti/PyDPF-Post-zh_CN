{
  "cells": [
    {
      "cell_type": "markdown",
      "metadata": {},
      "source": [
        "# Modal analysis {#ref_modal_analysis}\r\n\r\n**\u6a21\u6001\u5206\u6790**\r\n\r\n\u672c\u4f8b\u5c55\u793a\u4e86\u5982\u4f55\u4f7f\u7528 PyDPF-Post \u5bf9\u6a21\u6001\u5206\u6790\u7ed3\u679c\u6587\u4ef6\u8fdb\u884c\u540e\u5904\u7406\u3002\r\n"
      ]
    },
    {
      "cell_type": "markdown",
      "metadata": {},
      "source": [
        "# Perform required imports\r\n\r\n**\u6267\u884c\u6240\u9700\u7684\u5bfc\u5165**\r\n"
      ]
    },
    {
      "cell_type": "code",
      "execution_count": null,
      "metadata": {
        "collapsed": false
      },
      "outputs": [],
      "source": [
        "from ansys.dpf import post\nfrom ansys.dpf.post import examples"
      ]
    },
    {
      "cell_type": "markdown",
      "metadata": {},
      "source": [
        "# Get `Solution` object\r\n\r\n**\u83b7\u53d6 \\`\\`Solution\\`\\` \u5bf9\u8c61**\r\n"
      ]
    },
    {
      "cell_type": "code",
      "execution_count": null,
      "metadata": {
        "collapsed": false
      },
      "outputs": [],
      "source": [
        "# \u6b64\u793a\u4f8b\u52a0\u8f7d\u4e86\u4e00\u4e2a\u5728 Ansys Mechanical \u4e2d\u8ba1\u7b97\u7684\u6a21\u6001\u5206\u6790\u7ed3\u679c\u6587\u4ef6\u3002\n\nexample_path = examples.download_all_kinds_of_complexity_modal()\n\nsolution = post.load_solution(example_path)\nprint(solution)"
      ]
    },
    {
      "cell_type": "markdown",
      "metadata": {},
      "source": [
        "# Get `Result` objects\r\n\r\n**\u83b7\u53d6 \\`\\`Result\\`\\` \u5bf9\u8c61**\r\n"
      ]
    },
    {
      "cell_type": "markdown",
      "metadata": {},
      "source": [
        "# Get displacement result\r\n\r\n**\u83b7\u53d6\u4f4d\u79fb\u7ed3\u679c**\r\n"
      ]
    },
    {
      "cell_type": "markdown",
      "metadata": {},
      "source": [
        "\u83b7\u53d6\u4f4d\u79fb `Result` \u5bf9\u8c61\u3002\u5b83\u5305\u542b\u4e00\u4e2a\u5b9e\u6570\u503c\u57df\u548c\u4e00\u4e2a\u865a\u6570\u503c\u57df\u3002\r\n"
      ]
    },
    {
      "cell_type": "code",
      "execution_count": null,
      "metadata": {
        "collapsed": false
      },
      "outputs": [],
      "source": [
        "disp_result = solution.displacement()\ndisp = disp_result.vector"
      ]
    },
    {
      "cell_type": "markdown",
      "metadata": {},
      "source": [
        "# Check number of fields\r\n\r\n**Check the number of fields**\r\n"
      ]
    },
    {
      "cell_type": "code",
      "execution_count": null,
      "metadata": {
        "collapsed": false
      },
      "outputs": [],
      "source": [
        "disp.num_fields # `num_fields` \u5c5e\u6027\u901a\u5e38\u8868\u793a\u6570\u636e\u7684\u7ef4\u5ea6\u6216\u5b57\u6bb5\u7684\u6570\u91cf\u3002"
      ]
    },
    {
      "cell_type": "markdown",
      "metadata": {},
      "source": [
        "**Get data from a field**\r\n"
      ]
    },
    {
      "cell_type": "code",
      "execution_count": null,
      "metadata": {
        "collapsed": false
      },
      "outputs": [],
      "source": [
        "disp.get_data_at_field(0)"
      ]
    },
    {
      "cell_type": "markdown",
      "metadata": {},
      "source": [
        "# Get maximum data value over all fields\r\n\r\n**\u83b7\u53d6\u6240\u6709 fields \u7684\u6700\u5927\u6570\u636e\u503c**\r\n"
      ]
    },
    {
      "cell_type": "code",
      "execution_count": null,
      "metadata": {
        "collapsed": false
      },
      "outputs": [],
      "source": [
        "disp.max_data"
      ]
    },
    {
      "cell_type": "markdown",
      "metadata": {},
      "source": [
        "# Get minimum data value over all fields\r\n\r\n**\u83b7\u53d6\u6240\u6709 fields \u7684\u6700\u5c0f\u6570\u636e\u503c**\r\n"
      ]
    },
    {
      "cell_type": "code",
      "execution_count": null,
      "metadata": {
        "collapsed": false
      },
      "outputs": [],
      "source": [
        "disp.min_data"
      ]
    },
    {
      "cell_type": "markdown",
      "metadata": {},
      "source": [
        "# Get maximum data value over targeted field\r\n\r\n**\u83b7\u53d6\u76ee\u6807 fields \u7684\u6700\u5927\u6570\u636e\u503c**\r\n"
      ]
    },
    {
      "cell_type": "code",
      "execution_count": null,
      "metadata": {
        "collapsed": false
      },
      "outputs": [],
      "source": [
        "disp.get_max_data_at_field(0)"
      ]
    },
    {
      "cell_type": "markdown",
      "metadata": {},
      "source": [
        "# Get minimum data value over all fields\r\n\r\n**\u83b7\u53d6\u76ee\u6807 fields \u7684\u6700\u5c0f\u6570\u636e\u503c**\r\n"
      ]
    },
    {
      "cell_type": "code",
      "execution_count": null,
      "metadata": {
        "collapsed": false
      },
      "outputs": [],
      "source": [
        "disp.get_min_data_at_field(0)"
      ]
    },
    {
      "cell_type": "markdown",
      "metadata": {},
      "source": [
        "# Get stress result\r\n\r\n**\u83b7\u53d6\u5e94\u529b\u7ed3\u679c**\r\n"
      ]
    },
    {
      "cell_type": "markdown",
      "metadata": {},
      "source": [
        "\u83b7\u53d6\u5904\u7406\u632f\u5e45\u7684\u5e94\u529b\u7ed3\u679c\u3002\u5b83\u5305\u542b\u4e00\u4e2a\u5b9e\u503c\u57df\u548c\u4e00\u4e2a\u865a\u503c\u57df\u3002\r\n"
      ]
    },
    {
      "cell_type": "code",
      "execution_count": null,
      "metadata": {
        "collapsed": false
      },
      "outputs": [],
      "source": [
        "stress_result = solution.stress()"
      ]
    },
    {
      "cell_type": "markdown",
      "metadata": {},
      "source": [
        "# Check if support has complex frequencies\r\n\r\n**\u68c0\u67e5\u662f\u5426\u652f\u6301\u590d\u9891\u7387**\r\n"
      ]
    },
    {
      "cell_type": "code",
      "execution_count": null,
      "metadata": {
        "collapsed": false
      },
      "outputs": [],
      "source": [
        "stress_result.has_complex_frequencies()"
      ]
    },
    {
      "cell_type": "markdown",
      "metadata": {},
      "source": [
        "# Get tensor result\r\n\r\n**\u83b7\u53d6\u5f20\u91cf\u7ed3\u679c**\r\n"
      ]
    },
    {
      "cell_type": "code",
      "execution_count": null,
      "metadata": {
        "collapsed": false
      },
      "outputs": [],
      "source": [
        "stress = stress_result.tensor\nstress.num_fields"
      ]
    },
    {
      "cell_type": "markdown",
      "metadata": {},
      "source": [
        "# Get shell field\r\n\r\n**\u83b7\u53d6 shell_field \u7684\u58f3\u5c42\u4fe1\u606f**\r\n"
      ]
    },
    {
      "cell_type": "code",
      "execution_count": null,
      "metadata": {
        "collapsed": false
      },
      "outputs": [],
      "source": [
        "shell_field = stress[0]\nshell_field.shell_layers"
      ]
    },
    {
      "cell_type": "markdown",
      "metadata": {},
      "source": [
        "# Get solid field\r\n\r\nGet the solid field.\r\n"
      ]
    },
    {
      "cell_type": "code",
      "execution_count": null,
      "metadata": {
        "collapsed": false
      },
      "outputs": [],
      "source": [
        "solid_field = stress[1]\nprint(solid_field)"
      ]
    },
    {
      "cell_type": "markdown",
      "metadata": {},
      "source": [
        "# Plot amplitude contour\r\n\r\n**\u7ed8\u5236\u632f\u5e45\u7b49\u503c\u7ebf\u56fe**\r\n"
      ]
    },
    {
      "cell_type": "code",
      "execution_count": null,
      "metadata": {
        "collapsed": false
      },
      "outputs": [],
      "source": [
        "amplitude = stress_result.tensor_amplitude # \uff08\u02c8\u00e6mpl\u026a\u02cctju\u02d0d\uff0c\u632f\u5e45\uff09\nstress.plot_contour()"
      ]
    },
    {
      "cell_type": "markdown",
      "metadata": {},
      "source": [
        "# Get elastic strain result\r\n\r\n**\u83b7\u5f97\u5904\u7406\u76f8\u4f4d\u7684\u5f39\u6027\u5e94\u53d8\u7ed3\u679c**\r\n"
      ]
    },
    {
      "cell_type": "markdown",
      "metadata": {},
      "source": [
        "\u5b83\u5305\u542b\u4e00\u4e2a\u5b9e\u503c\u5b57\u6bb5\u548c\u4e00\u4e2a\u865a\u503c\u5b57\u6bb5\u3002\r\n"
      ]
    },
    {
      "cell_type": "code",
      "execution_count": null,
      "metadata": {
        "collapsed": false
      },
      "outputs": [],
      "source": [
        "elastic_strain_result = solution.elastic_strain()\nelastic_strain = elastic_strain_result.tensor"
      ]
    },
    {
      "cell_type": "markdown",
      "metadata": {},
      "source": [
        "# Check number of fields\r\n\r\n\u68c0\u67e5\u4e0d\u540c fields \u4e2d\u58f3\u5355\u5143\u548c\u5b9e\u4f53\u5355\u5143\u7684\u6570\u91cf\u3002\r\n"
      ]
    },
    {
      "cell_type": "code",
      "execution_count": null,
      "metadata": {
        "collapsed": false
      },
      "outputs": [],
      "source": [
        "elastic_strain.num_fields"
      ]
    },
    {
      "cell_type": "markdown",
      "metadata": {},
      "source": [
        "\u5982\u679c\u7ed3\u679c\u6587\u4ef6\u4e2d\u5305\u542b\uff0c\u5219\u53ef\u4ee5\u4f7f\u7528\u6b64\u65b9\u6cd5\u83b7\u53d6\u5f39\u6027\u5e94\u53d8\u7ed3\u679c\u3002\r\n"
      ]
    },
    {
      "cell_type": "code",
      "execution_count": null,
      "metadata": {
        "collapsed": false
      },
      "outputs": [],
      "source": [
        "print(solution.plastic_strain())"
      ]
    }
  ],
  "metadata": {
    "kernelspec": {
      "display_name": "Python 3",
      "language": "python",
      "name": "python3"
    },
    "language_info": {
      "codemirror_mode": {
        "name": "ipython",
        "version": 3
      },
      "file_extension": ".py",
      "mimetype": "text/x-python",
      "name": "python",
      "nbconvert_exporter": "python",
      "pygments_lexer": "ipython3",
      "version": "3.10.1"
    }
  },
  "nbformat": 4,
  "nbformat_minor": 0
}