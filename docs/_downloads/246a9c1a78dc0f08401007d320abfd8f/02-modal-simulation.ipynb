{
  "cells": [
    {
      "cell_type": "markdown",
      "metadata": {},
      "source": [
        "# Modal Simulation {#ref_modal_example}\r\n\r\n\u672c\u4f8b\u4e2d\u663e\u793a\u4e86\u67e5\u770b\u4e0d\u540c\u632f\u578b\u7b49\u7b80\u5355\u7684\u540e\u5904\u7406\u64cd\u4f5c\u3002\r\n"
      ]
    },
    {
      "cell_type": "markdown",
      "metadata": {},
      "source": [
        "# Perform required imports\r\n\r\n\u6267\u884c\u6240\u9700\u7684\u5bfc\u5165\u3002 \u672c\u793a\u4f8b\u4f7f\u7528\u4e86\u4e00\u4e2a\u63d0\u4f9b\u7684\u6587\u4ef6\uff0c\u60a8\u53ef\u4ee5\u901a\u8fc7\u5bfc\u5165 DPF\r\n`examples` \u5305\u83b7\u5f97\u8be5\u6587\u4ef6\u3002\r\n"
      ]
    },
    {
      "cell_type": "code",
      "execution_count": null,
      "metadata": {
        "collapsed": false
      },
      "outputs": [],
      "source": [
        "from ansys.dpf import post\nfrom ansys.dpf.post import examples"
      ]
    },
    {
      "cell_type": "markdown",
      "metadata": {},
      "source": [
        "# Get `Simulation` object\r\n\r\n\u83b7\u53d6\u5141\u8bb8\u8bbf\u95ee\u7ed3\u679c\u7684 `Simulation` \u5bf9\u8c61\u3002\u5fc5\u987b\u4f7f\u7528\u7ed3\u679c\u6587\u4ef6\u7684\u8def\u5f84\u5b9e\u4f8b\u5316\r\n`Simulation` \u5bf9\u8c61\u3002 \u4f8b\u5982\uff0cWindows \u4e0b\u4e3a `\"C:/Users/user/my_result.rst\"`\r\n\u6216 Linux \u4e0b\u4e3a `\"/home/user/my_result.rst\"` \u3002\r\n"
      ]
    },
    {
      "cell_type": "code",
      "execution_count": null,
      "metadata": {
        "collapsed": false
      },
      "outputs": [],
      "source": [
        "example_path = examples.download_modal_frame()\n# \u82e5\u8981\u81ea\u52a8\u68c0\u6d4b\u8be5\u6a21\u62df\u7c7b\u578b\uff0c\u8bf7\u4f7f\u7528\uff1a\nsimulation = post.load_simulation(example_path)\n\n# \u8981\u542f\u7528\u81ea\u52a8\u5b8c\u6210\u529f\u80fd\uff0c\u8bf7\u4f7f\u7528\u4ee5\u4e0b\u7b49\u6548\u7684\u547d\u4ee4\uff1a\nsimulation = post.ModalMechanicalSimulation(example_path)"
      ]
    },
    {
      "cell_type": "markdown",
      "metadata": {},
      "source": [
        "# View the frequency domain\r\n\r\n\u6253\u5370 [time_freq_support]{.title-ref}\r\n\uff08\u65f6\u95f4\u9891\u7387\uff09\u652f\u6301\u6709\u52a9\u4e8e\u9009\u62e9\u6b63\u786e\u7684\u6a21\u5f0f\r\n"
      ]
    },
    {
      "cell_type": "code",
      "execution_count": null,
      "metadata": {
        "collapsed": false
      },
      "outputs": [],
      "source": [
        "print(simulation.time_freq_support)\n\n# `set_ids` \u8fd4\u56de\u6a21\u6001\u7684\u552f\u4e00\u6807\u8bc6\u7b26\nprint(simulation.set_ids)"
      ]
    },
    {
      "cell_type": "markdown",
      "metadata": {},
      "source": [
        "# Extract all mode shapes and view them one by one\r\n"
      ]
    },
    {
      "cell_type": "code",
      "execution_count": null,
      "metadata": {
        "collapsed": false
      },
      "outputs": [],
      "source": [
        "displacement_norm = simulation.displacement(all_sets=True, norm=True)\nprint(displacement_norm)\n\nfor set_id in simulation.set_ids:\n    displacement_norm.plot(set_ids=set_id)"
      ]
    },
    {
      "cell_type": "markdown",
      "metadata": {},
      "source": [
        "\u8fd9\u6bb5\u4ee3\u7801\u9996\u5148\u8c03\u7528 simulation \u5bf9\u8c61\u7684 displacement\r\n\u65b9\u6cd5\uff0c\u83b7\u53d6\u6a21\u62df\u4e2d\u6240\u6709\u96c6\u5408\uff08\u7531 all_sets=True \u6307\u5b9a\uff09\u7684\u4f4d\u79fb\u4fe1\u606f\u7684\u8303\u6570\uff08\u7531\r\nnorm=True \u6307\u5b9a\uff09\u3002 \u7136\u540e\uff0c\u4ee3\u7801\u6253\u5370\u4e86\u83b7\u53d6\u5230\u7684\u4f4d\u79fb\u8303\u6570\u4fe1\u606f\u3002\r\n\u63a5\u7740\uff0c\u4ee3\u7801\u904d\u5386\u4e86 simulation \u4e2d\u7684\u6240\u6709\u96c6\u5408 ID\uff08\u7531 simulation.set_ids\r\n\u83b7\u53d6\uff09\uff0c\u5e76\u5bf9\u6bcf\u4e2a\u96c6\u5408\u7684\u4f4d\u79fb\u8303\u6570\u4fe1\u606f\u8fdb\u884c\u7ed8\u56fe\uff08\u7531\r\ndisplacement_norm.plot(set_ids=set_id) \u5b9e\u73b0\uff09\u3002\r\n"
      ]
    },
    {
      "cell_type": "markdown",
      "metadata": {},
      "source": [
        "# Extract a selection of mode shapes and view them one by one\r\n"
      ]
    },
    {
      "cell_type": "code",
      "execution_count": null,
      "metadata": {
        "collapsed": false
      },
      "outputs": [],
      "source": [
        "modes = [1, 2, 3]\n\ndisplacement_norm = simulation.displacement(modes=modes, norm=True)\nprint(displacement_norm)\n\nfor set_id in modes:\n    displacement_norm.plot(set_ids=set_id)\n\n# \u8fd9\u6bb5\u4ee3\u7801\u9996\u5148\u5b9a\u4e49\u4e86\u4e00\u4e2a\u5217\u8868 modes\uff0c\u5305\u542b\u4e86\u4e09\u4e2a\u6a21\u6001\uff08\u6a21\u6001\u662f\u632f\u52a8\u7cfb\u7edf\u5728\u81ea\u7531\u632f\u52a8\u4e0b\u7684\u7279\u6027\u72b6\u6001\uff09\u7684\u7f16\u53f7\uff1a1\uff0c2\uff0c3\u3002\n# \u7136\u540e\uff0c\u4ee3\u7801\u8c03\u7528 simulation \u5bf9\u8c61\u7684 displacement \u65b9\u6cd5\uff0c\u83b7\u53d6\u8fd9\u4e09\u4e2a\u6a21\u6001\u7684\u4f4d\u79fb\u4fe1\u606f\u7684\u8303\u6570\uff08\u7531 norm=True \u6307\u5b9a\uff09\u3002\n# \u63a5\u7740\uff0c\u4ee3\u7801\u6253\u5370\u4e86\u83b7\u53d6\u5230\u7684\u4f4d\u79fb\u8303\u6570\u4fe1\u606f\u3002\n# \u6700\u540e\uff0c\u4ee3\u7801\u904d\u5386\u4e86 modes \u4e2d\u7684\u6bcf\u4e2a\u6a21\u6001\u7f16\u53f7\uff0c\u5e76\u5bf9\u6bcf\u4e2a\u6a21\u6001\u7684\u4f4d\u79fb\u8303\u6570\u4fe1\u606f\u8fdb\u884c\u7ed8\u56fe\uff08\u7531 displacement_norm.plot(set_ids=set_id) \u5b9e\u73b0\uff09\u3002"
      ]
    }
  ],
  "metadata": {
    "kernelspec": {
      "display_name": "Python 3",
      "language": "python",
      "name": "python3"
    },
    "language_info": {
      "codemirror_mode": {
        "name": "ipython",
        "version": 3
      },
      "file_extension": ".py",
      "mimetype": "text/x-python",
      "name": "python",
      "nbconvert_exporter": "python",
      "pygments_lexer": "ipython3",
      "version": "3.10.1"
    }
  },
  "nbformat": 4,
  "nbformat_minor": 0
}