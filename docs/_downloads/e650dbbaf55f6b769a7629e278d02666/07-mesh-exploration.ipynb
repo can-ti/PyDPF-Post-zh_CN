{
  "cells": [
    {
      "cell_type": "markdown",
      "metadata": {},
      "source": [
        "# Explore the mesh {#ref_mesh_exploration_example}\r\n\r\n**\u63a2\u7d22\u7f51\u683c**\r\n\r\n\u672c\u4f8b\u6f14\u793a\u4e86\u5982\u4f55\u63a2\u7d22\u548c\u64cd\u4f5c\u7f51\u683c\u5bf9\u8c61\uff0c\u4ee5\u67e5\u8be2\u7f51\u683c\u6570\u636e\uff0c\u5982\u8fde\u63a5\u8868\u3001\u5355\u5143\r\nID\u3001\u5355\u5143\u7c7b\u578b\u7b49\u3002\r\n"
      ]
    },
    {
      "cell_type": "markdown",
      "metadata": {},
      "source": [
        "# Perform required imports\r\n\r\n**\u6267\u884c\u6240\u9700\u7684\u5bfc\u5165**\r\n"
      ]
    },
    {
      "cell_type": "markdown",
      "metadata": {},
      "source": [
        "\u672c\u793a\u4f8b\u4f7f\u7528\u4e86\u4e00\u4e2a\u63d0\u4f9b\u7684\u6587\u4ef6\uff0c\u60a8\u53ef\u4ee5\u901a\u8fc7\u5bfc\u5165 DPF `examples` \u5305\u83b7\u5f97\u8be5\u6587\u4ef6\u3002\r\n"
      ]
    },
    {
      "cell_type": "code",
      "execution_count": null,
      "metadata": {
        "collapsed": false
      },
      "outputs": [],
      "source": [
        "from ansys.dpf import post\nfrom ansys.dpf.post import examples\nfrom ansys.dpf.post.common import elemental_properties"
      ]
    },
    {
      "cell_type": "markdown",
      "metadata": {},
      "source": [
        "# Load the result file\r\n\r\n**\u5c06\u7ed3\u679c\u6587\u4ef6\u52a0\u8f7d\u5230\u5141\u8bb8\u8bbf\u95ee\u7ed3\u679c\u7684 \\`\\`Simulation\\`\\` \u5bf9\u8c61\u4e2d\u3002**\r\n"
      ]
    },
    {
      "cell_type": "markdown",
      "metadata": {},
      "source": [
        "\u5fc5\u987b\u4f7f\u7528\u7ed3\u679c\u6587\u4ef6\u7684\u8def\u5f84\u5b9e\u4f8b\u5316 `Simulation` \u5bf9\u8c61\u3002\u4f8b\u5982\uff0cWindows \u4e0b\u4e3a\r\n`\"C:/Users/user/my_result.rst\"` \u6216 Linux \u4e0b\u4e3a\r\n`\"/home/user/my_result.rst\"` \u3002\r\n"
      ]
    },
    {
      "cell_type": "code",
      "execution_count": null,
      "metadata": {
        "collapsed": false
      },
      "outputs": [],
      "source": [
        "example_path = examples.download_harmonic_clamped_pipe()\nsimulation = post.HarmonicMechanicalSimulation(example_path)"
      ]
    },
    {
      "cell_type": "markdown",
      "metadata": {},
      "source": [
        "# Get the mesh\r\n\r\n**\u83b7\u53d6\u7f51\u683c**\r\n"
      ]
    },
    {
      "cell_type": "code",
      "execution_count": null,
      "metadata": {
        "collapsed": false
      },
      "outputs": [],
      "source": [
        "# \u8bfb\u53d6\u5e76\u6253\u5370\u7f51\u683c\nmesh = simulation.mesh\nprint(mesh)"
      ]
    },
    {
      "cell_type": "markdown",
      "metadata": {},
      "source": [
        "# Plot the mesh\r\n\r\n**\u7ed8\u5236\u7f51\u683c**\r\n"
      ]
    },
    {
      "cell_type": "code",
      "execution_count": null,
      "metadata": {
        "collapsed": false
      },
      "outputs": [],
      "source": [
        "mesh.plot()"
      ]
    },
    {
      "cell_type": "markdown",
      "metadata": {},
      "source": [
        "# Query basic information about the mesh\r\n\r\n**\u67e5\u8be2\u7f51\u683c\u7684\u57fa\u672c\u4fe1\u606f**\r\n"
      ]
    },
    {
      "cell_type": "code",
      "execution_count": null,
      "metadata": {
        "collapsed": false
      },
      "outputs": [],
      "source": [
        "# ``Mesh`` \u5bf9\u8c61\u6709\u591a\u4e2a\u5c5e\u6027\uff0c\u53ef\u4ee5\u8bbf\u95ee\u4e0d\u540c\u7684\u4fe1\u606f\uff0c\u4f8b\u5982"
      ]
    },
    {
      "cell_type": "markdown",
      "metadata": {},
      "source": [
        "\u8282\u70b9\u6570\u91cf\r\n"
      ]
    },
    {
      "cell_type": "code",
      "execution_count": null,
      "metadata": {
        "collapsed": false
      },
      "outputs": [],
      "source": [
        "print(f\"\u8be5\u7f51\u683c\u5171\u5305\u542b {mesh.num_nodes} \u4e2a\u8282\u70b9\")"
      ]
    },
    {
      "cell_type": "markdown",
      "metadata": {},
      "source": [
        "\u8282\u70b9 IDs \u5217\u8868\r\n"
      ]
    },
    {
      "cell_type": "code",
      "execution_count": null,
      "metadata": {
        "collapsed": false
      },
      "outputs": [],
      "source": [
        "print(f\"with IDs: {mesh.node_ids}\")"
      ]
    },
    {
      "cell_type": "markdown",
      "metadata": {},
      "source": [
        "\u5355\u5143\u6570\u91cf\r\n"
      ]
    },
    {
      "cell_type": "code",
      "execution_count": null,
      "metadata": {
        "collapsed": false
      },
      "outputs": [],
      "source": [
        "print(f\"\u8be5\u7f51\u683c\u5171\u5305\u542b {mesh.num_elements} \u4e2a\u5355\u5143\")"
      ]
    },
    {
      "cell_type": "markdown",
      "metadata": {},
      "source": [
        "\u5355\u5143 IDs \u5217\u8868\r\n"
      ]
    },
    {
      "cell_type": "code",
      "execution_count": null,
      "metadata": {
        "collapsed": false
      },
      "outputs": [],
      "source": [
        "print(f\"with IDs {mesh.element_ids}\")"
      ]
    },
    {
      "cell_type": "markdown",
      "metadata": {},
      "source": [
        "\u7f51\u683c\u6a21\u578b\u5355\u4f4d\r\n"
      ]
    },
    {
      "cell_type": "code",
      "execution_count": null,
      "metadata": {
        "collapsed": false
      },
      "outputs": [],
      "source": [
        "print(f\"The mesh is in '{mesh.unit}'\")"
      ]
    },
    {
      "cell_type": "markdown",
      "metadata": {},
      "source": [
        "# Named selections\r\n\r\n**\u6307\u5b9a\u7684\u9009\u62e9**\r\n"
      ]
    },
    {
      "cell_type": "code",
      "execution_count": null,
      "metadata": {
        "collapsed": false
      },
      "outputs": [],
      "source": [
        "# \u53ef\u7528\u7684\u547d\u540d\u9009\u62e9\u4ee5\u5b57\u5178\u5f62\u5f0f\u7ed9\u51fa\uff0c\u540d\u79f0\u4e3a\u952e\uff0c\u5b9e\u9645\u7684 ``NamedSelection`` \u5bf9\u8c61\u4e3a\u503c\u3002\u6253\u5370\u5b57\u5178\u53ef\u8ba9\u60a8\u4e86\u89e3\u53ef\u7528\u7684\u540d\u79f0\u3002\n\nnamed_selections = mesh.named_selections\nprint(named_selections)"
      ]
    },
    {
      "cell_type": "markdown",
      "metadata": {},
      "source": [
        "\u8981\u83b7\u53d6\u7279\u5b9a\u7684\u547d\u540d\u9009\u533a\uff0c\u8bf7\u4f7f\u7528\u5176\u540d\u79f0\u4f5c\u4e3a\u5173\u952e\u5b57\u8fdb\u884c\u67e5\u8be2\r\n"
      ]
    },
    {
      "cell_type": "code",
      "execution_count": null,
      "metadata": {
        "collapsed": false
      },
      "outputs": [],
      "source": [
        "print(named_selections[\"_FIXEDSU\"])"
      ]
    },
    {
      "cell_type": "markdown",
      "metadata": {},
      "source": [
        "# Elements\r\n\r\n**\u5355\u5143**\r\n"
      ]
    },
    {
      "cell_type": "code",
      "execution_count": null,
      "metadata": {
        "collapsed": false
      },
      "outputs": [],
      "source": [
        "# \u4f7f\u7528 ``mesh.elements`` \u8bbf\u95ee\u5355\u5143\u5bf9\u8c61\u5217\u8868\nprint(mesh.elements)"
      ]
    },
    {
      "cell_type": "markdown",
      "metadata": {},
      "source": [
        "\u7136\u540e\uff0c\u60a8\u5c31\u53ef\u4ee5\u6839\u636e\u7279\u5b9a\u5355\u5143\u7684 ID \u5bf9\u5176\u8fdb\u884c\u67e5\u8be2\r\n"
      ]
    },
    {
      "cell_type": "code",
      "execution_count": null,
      "metadata": {
        "collapsed": false
      },
      "outputs": [],
      "source": [
        "print(mesh.elements.by_id[1])"
      ]
    },
    {
      "cell_type": "markdown",
      "metadata": {},
      "source": [
        "\u6216\u6309\u5176\u7d22\u5f15\r\n"
      ]
    },
    {
      "cell_type": "code",
      "execution_count": null,
      "metadata": {
        "collapsed": false
      },
      "outputs": [],
      "source": [
        "element_0 = mesh.elements[0]\nprint(element_0)"
      ]
    },
    {
      "cell_type": "markdown",
      "metadata": {},
      "source": [
        "# Query information about a particular element\r\n\r\n**\u67e5\u8be2\u6709\u5173\u7279\u5b9a\u5355\u5143\u7684\u4fe1\u606f**\r\n"
      ]
    },
    {
      "cell_type": "markdown",
      "metadata": {},
      "source": [
        "\u60a8\u53ef\u4ee5\u8bf7\u6c42\u9644\u52a0\u5230 `Element` \u5bf9\u8c61\u7684\u8282\u70b9\u7684ID\r\n"
      ]
    },
    {
      "cell_type": "code",
      "execution_count": null,
      "metadata": {
        "collapsed": false
      },
      "outputs": [],
      "source": [
        "print(element_0.node_ids)"
      ]
    },
    {
      "cell_type": "markdown",
      "metadata": {},
      "source": [
        "\u6216 `Node` \u5bf9\u8c61\u5217\u8868\r\n"
      ]
    },
    {
      "cell_type": "code",
      "execution_count": null,
      "metadata": {
        "collapsed": false
      },
      "outputs": [],
      "source": [
        "print(element_0.nodes)"
      ]
    },
    {
      "cell_type": "markdown",
      "metadata": {},
      "source": [
        "\u8981\u83b7\u53d6\u9644\u52a0\u7684\u8282\u70b9\u6570\uff0c\u8bf7\u4f7f\u7528\r\n"
      ]
    },
    {
      "cell_type": "code",
      "execution_count": null,
      "metadata": {
        "collapsed": false
      },
      "outputs": [],
      "source": [
        "print(element_0.num_nodes)"
      ]
    },
    {
      "cell_type": "markdown",
      "metadata": {},
      "source": [
        "\u83b7\u53d6\u5355\u5143\u7684\u7c7b\u578b\r\n"
      ]
    },
    {
      "cell_type": "code",
      "execution_count": null,
      "metadata": {
        "collapsed": false
      },
      "outputs": [],
      "source": [
        "print(element_0.type_info)\nprint(element_0.type)"
      ]
    },
    {
      "cell_type": "markdown",
      "metadata": {},
      "source": [
        "\u83b7\u53d6\u5355\u5143\u7684\u5f62\u72b6\r\n"
      ]
    },
    {
      "cell_type": "code",
      "execution_count": null,
      "metadata": {
        "collapsed": false
      },
      "outputs": [],
      "source": [
        "print(element_0.shape)"
      ]
    },
    {
      "cell_type": "markdown",
      "metadata": {},
      "source": [
        "# Element types and materials\r\n\r\n**\u5355\u5143\u7c7b\u578b\u548c\u6750\u6599**\r\n"
      ]
    },
    {
      "cell_type": "markdown",
      "metadata": {},
      "source": [
        "\u901a\u8fc7 `Mesh`\r\n\u5bf9\u8c61\u53ef\u4ee5\u8bbf\u95ee\u5728\u6240\u6709\u56fe\u5143\u4e0a\u5b9a\u4e49\u7684\u7279\u6027\uff0c\u4f8b\u5982\u5176\u7c7b\u578b\u6216\u4e0e\u4e4b\u5173\u8054\u7684\u6750\u6599\u3002\r\n"
      ]
    },
    {
      "cell_type": "markdown",
      "metadata": {},
      "source": [
        "\u83b7\u53d6\u6240\u6709\u5355\u5143\u7684\u7c7b\u578b\r\n"
      ]
    },
    {
      "cell_type": "code",
      "execution_count": null,
      "metadata": {
        "collapsed": false
      },
      "outputs": [],
      "source": [
        "print(mesh.element_types)"
      ]
    },
    {
      "cell_type": "markdown",
      "metadata": {},
      "source": [
        "\u83b7\u53d6\u6240\u6709\u5355\u5143\u7684\u6750\u6599\r\n"
      ]
    },
    {
      "cell_type": "code",
      "execution_count": null,
      "metadata": {
        "collapsed": false
      },
      "outputs": [],
      "source": [
        "print(mesh.materials)"
      ]
    },
    {
      "cell_type": "markdown",
      "metadata": {},
      "source": [
        "# Elemental connectivity\r\n\r\n**\u5355\u5143\u8282\u70b9**\r\n"
      ]
    },
    {
      "cell_type": "markdown",
      "metadata": {},
      "source": [
        "\u5355\u5143\u8fde\u63a5\u6027\u4f7f\u7528 ID \u6216\u7d22\u5f15\u5c06\u5355\u5143\u6620\u5c04\u5230\u8fde\u63a5\u8282\u70b9\u3002\r\n"
      ]
    },
    {
      "cell_type": "markdown",
      "metadata": {},
      "source": [
        "\u8981\u4f7f\u7528\u5355\u5143\u7d22\u5f15\u8bbf\u95ee\u8fde\u63a5\u8282\u70b9\u7684 index\uff0c\u8bf7\u4f7f\u7528\r\n"
      ]
    },
    {
      "cell_type": "code",
      "execution_count": null,
      "metadata": {
        "collapsed": false
      },
      "outputs": [],
      "source": [
        "element_to_node_connectivity = mesh.element_to_node_connectivity\nprint(element_to_node_connectivity[0]) # \u6ce8\u610f\uff0c\u8fd9\u4e2a index \u662f\u4ece 0 \u5f00\u59cb\u7684"
      ]
    },
    {
      "cell_type": "markdown",
      "metadata": {},
      "source": [
        "\u8981\u4f7f\u7528\u5355\u5143\u7d22\u5f15\u8bbf\u95ee\u8fde\u63a5\u8282\u70b9\u7684 ID\uff0c\u8bf7\u4f7f\u7528\r\n"
      ]
    },
    {
      "cell_type": "code",
      "execution_count": null,
      "metadata": {
        "collapsed": false
      },
      "outputs": [],
      "source": [
        "element_to_node_ids_connectivity = mesh.element_to_node_ids_connectivity\nprint(element_to_node_ids_connectivity[0]) # \u6ce8\u610f \uff0c\u8fd9\u91cc\u7684 ID \u662f\u4ece 1 \u5f00\u59cb\u7684"
      ]
    },
    {
      "cell_type": "markdown",
      "metadata": {},
      "source": [
        "\u6bcf\u4e2a\u8fde\u63a5\u5bf9\u8c61\u90fd\u6709\u4e00\u4e2a `by_id` \u5c5e\u6027\uff0c\u53ef\u5c06\u8f93\u5165\u4ece index \u6539\u4e3a ID\uff0c\u56e0\u6b64\r\n"
      ]
    },
    {
      "cell_type": "markdown",
      "metadata": {},
      "source": [
        "\u8981\u4f7f\u7528\u5355\u5143 ID \u8bbf\u95ee\u4e0e\u4e4b\u8fde\u63a5\u8282\u70b9\u7684 index\uff0c\u8bf7\u4f7f\u7528\r\n"
      ]
    },
    {
      "cell_type": "code",
      "execution_count": null,
      "metadata": {
        "collapsed": false
      },
      "outputs": [],
      "source": [
        "element_to_node_connectivity_by_id = mesh.element_to_node_connectivity.by_id\nprint(element_to_node_connectivity_by_id[3487])"
      ]
    },
    {
      "cell_type": "markdown",
      "metadata": {},
      "source": [
        "\u8981\u4f7f\u7528\u5355\u5143 ID \u8bbf\u95ee\u4e0e\u4e4b\u8fde\u63a5\u8282\u70b9\u7684 ID\uff0c\u8bf7\u4f7f\u7528\r\n"
      ]
    },
    {
      "cell_type": "code",
      "execution_count": null,
      "metadata": {
        "collapsed": false
      },
      "outputs": [],
      "source": [
        "element_to_node_ids_connectivity_by_id = mesh.element_to_node_ids_connectivity.by_id\nprint(element_to_node_ids_connectivity_by_id[3487])"
      ]
    },
    {
      "cell_type": "markdown",
      "metadata": {},
      "source": [
        "# Nodes\r\n\r\n\u901a\u8fc7 ID \u83b7\u53d6\u8282\u70b9\r\n"
      ]
    },
    {
      "cell_type": "code",
      "execution_count": null,
      "metadata": {
        "collapsed": false
      },
      "outputs": [],
      "source": [
        "node_1 = mesh.nodes.by_id[1]\nprint(node_1)"
      ]
    },
    {
      "cell_type": "markdown",
      "metadata": {},
      "source": [
        "\u901a\u8fc7 index \u83b7\u53d6\u8282\u70b9\r\n"
      ]
    },
    {
      "cell_type": "code",
      "execution_count": null,
      "metadata": {
        "collapsed": false
      },
      "outputs": [],
      "source": [
        "print(mesh.nodes[0])"
      ]
    },
    {
      "cell_type": "markdown",
      "metadata": {},
      "source": [
        "\u83b7\u53d6\u6240\u6709\u8282\u70b9\u7684\u5750\u6807\r\n"
      ]
    },
    {
      "cell_type": "code",
      "execution_count": null,
      "metadata": {
        "collapsed": false
      },
      "outputs": [],
      "source": [
        "print(mesh.coordinates)"
      ]
    },
    {
      "cell_type": "markdown",
      "metadata": {},
      "source": [
        "# Query information about one particular node\r\n\r\n**\u67e5\u8be2\u4e00\u4e2a\u7279\u5b9a\u8282\u70b9\u7684\u4fe1\u606f**\r\n"
      ]
    },
    {
      "cell_type": "markdown",
      "metadata": {},
      "source": [
        "\u83b7\u53d6\u8282\u70b9\u7684\u5750\u6807\r\n"
      ]
    },
    {
      "cell_type": "code",
      "execution_count": null,
      "metadata": {
        "collapsed": false
      },
      "outputs": [],
      "source": [
        "print(node_1.coordinates)"
      ]
    },
    {
      "cell_type": "markdown",
      "metadata": {},
      "source": [
        "# Nodal connectivity\r\n\r\nNodal connectivity \u4f7f\u7528 ID \u6216 index \u5c06\u8282\u70b9\u6620\u5c04\u5230\u76f8\u8fde\u7684\u5355\u5143\u3002\r\n"
      ]
    },
    {
      "cell_type": "markdown",
      "metadata": {},
      "source": [
        "\u8981\u4f7f\u7528\u8282\u70b9 index \u8bbf\u95ee\u76f8\u90bb\u5355\u5143\u7684 index\uff0c\u8bf7\u4f7f\u7528\r\n"
      ]
    },
    {
      "cell_type": "code",
      "execution_count": null,
      "metadata": {
        "collapsed": false
      },
      "outputs": [],
      "source": [
        "node_to_element_connectivity = mesh.node_to_element_connectivity\nprint(node_to_element_connectivity[0])"
      ]
    },
    {
      "cell_type": "markdown",
      "metadata": {},
      "source": [
        "\u8981\u4f7f\u7528\u8282\u70b9 index \u8bbf\u95ee\u76f8\u90bb\u5355\u5143\u7684 ID\uff0c\u8bf7\u4f7f\u7528\r\n"
      ]
    },
    {
      "cell_type": "code",
      "execution_count": null,
      "metadata": {
        "collapsed": false
      },
      "outputs": [],
      "source": [
        "node_to_element_ids_connectivity = mesh.node_to_element_ids_connectivity\nprint(node_to_element_ids_connectivity[0])"
      ]
    },
    {
      "cell_type": "markdown",
      "metadata": {},
      "source": [
        "\u6bcf\u4e2a\u76f8\u90bb\u5bf9\u8c61\u90fd\u6709\u4e00\u4e2a `by_id` \u5c5e\u6027\uff0c\u53ef\u5c06\u8f93\u5165\u4ece index \u6539\u4e3a ID\uff0c\u56e0\u6b64\r\n"
      ]
    },
    {
      "cell_type": "markdown",
      "metadata": {},
      "source": [
        "\u8981\u4f7f\u7528\u8282\u70b9\u7684 ID \u8bbf\u95ee\u76f8\u90bb\u5355\u5143\u7684 index\uff0c\u8bf7\u4f7f\u7528\r\n"
      ]
    },
    {
      "cell_type": "code",
      "execution_count": null,
      "metadata": {
        "collapsed": false
      },
      "outputs": [],
      "source": [
        "node_to_element_connectivity_by_id = mesh.node_to_element_connectivity.by_id\nprint(node_to_element_connectivity_by_id[1])"
      ]
    },
    {
      "cell_type": "markdown",
      "metadata": {},
      "source": [
        "\u8981\u4f7f\u7528\u8282\u70b9\u7684 ID \u8bbf\u95ee\u76f8\u90bb\u5355\u5143\u7684 ID\uff0c\u8bf7\u4f7f\u7528\r\n"
      ]
    },
    {
      "cell_type": "code",
      "execution_count": null,
      "metadata": {
        "collapsed": false
      },
      "outputs": [],
      "source": [
        "node_to_element_ids_connectivity_by_id = mesh.node_to_element_ids_connectivity.by_id\nprint(node_to_element_ids_connectivity_by_id[1])"
      ]
    },
    {
      "cell_type": "markdown",
      "metadata": {},
      "source": [
        "# Splitting into meshes\r\n\r\n**\u62c6\u5206\u7f51\u683c**\r\n"
      ]
    },
    {
      "cell_type": "markdown",
      "metadata": {},
      "source": [
        "\u60a8\u53ef\u4ee5\u6839\u636e\u7f51\u683c\u5c5e\u6027\u62c6\u5206\u5168\u5c40\u7f51\u683c\uff0c\u4ee5\u5904\u7406\u7f51\u683c\u7684\u7279\u5b9a\u90e8\u5206\r\n"
      ]
    },
    {
      "cell_type": "code",
      "execution_count": null,
      "metadata": {
        "collapsed": false
      },
      "outputs": [],
      "source": [
        "meshes = simulation.split_mesh_by_properties(\n    properties=[elemental_properties.material, elemental_properties.element_shape]\n)"
      ]
    },
    {
      "cell_type": "markdown",
      "metadata": {},
      "source": [
        "\u83b7\u5f97\u7684\u5bf9\u8c61\u662f\u4e00\u4e2a `Meshes`\r\n"
      ]
    },
    {
      "cell_type": "code",
      "execution_count": null,
      "metadata": {
        "collapsed": false
      },
      "outputs": [],
      "source": [
        "print(meshes)"
      ]
    },
    {
      "cell_type": "markdown",
      "metadata": {},
      "source": [
        "\u7ed8\u5236\u4e00\u4e2a `Meshes` \u5bf9\u8c61\u65f6\uff0c\u4f1a\u7ed8\u5236\u5176\u4e2d\u6240\u6709 `Mesh` \u5bf9\u8c61\u7684\u7ec4\u5408\u3002\r\n"
      ]
    },
    {
      "cell_type": "code",
      "execution_count": null,
      "metadata": {
        "collapsed": false
      },
      "outputs": [],
      "source": [
        "meshes.plot(text=\"Mesh split\")"
      ]
    },
    {
      "cell_type": "markdown",
      "metadata": {},
      "source": [
        "\u6309\u7d22\u5f15\u9009\u62e9 `Meshes` \u4e2d\u7684\u7279\u5b9a `Mesh`\r\n"
      ]
    },
    {
      "cell_type": "code",
      "execution_count": null,
      "metadata": {
        "collapsed": false
      },
      "outputs": [],
      "source": [
        "meshes[0].plot(text=\"First mesh in the split mesh\")"
      ]
    },
    {
      "cell_type": "markdown",
      "metadata": {},
      "source": [
        "\u60a8\u53ef\u4ee5\u5206\u5272\u5168\u5c40\u7f51\u683c\uff0c\u5e76\u6839\u636e\u7279\u5b9a\u5c5e\u6027\u503c\u9009\u62e9\u7f51\u683c\r\n"
      ]
    },
    {
      "cell_type": "code",
      "execution_count": null,
      "metadata": {
        "collapsed": false
      },
      "outputs": [],
      "source": [
        "meshes_filtered = simulation.split_mesh_by_properties(\n    properties={\n        elemental_properties.material: [2, 3, 4],\n        elemental_properties.element_shape: 1,\n    }\n)\nmeshes_filtered.plot(text=\"Mesh split and filtered\")"
      ]
    },
    {
      "cell_type": "markdown",
      "metadata": {},
      "source": [
        "\u6216\u5177\u6709\u5c5e\u6027\u503c\u7684\u552f\u4e00\u7ec4\u5408\r\n"
      ]
    },
    {
      "cell_type": "code",
      "execution_count": null,
      "metadata": {
        "collapsed": false
      },
      "outputs": [],
      "source": [
        "meshes[{\"mat\": 5, \"elshape\": 0}].plot(text=\"Mesh for mat=5 and elshape=0\")"
      ]
    }
  ],
  "metadata": {
    "kernelspec": {
      "display_name": "Python 3",
      "language": "python",
      "name": "python3"
    },
    "language_info": {
      "codemirror_mode": {
        "name": "ipython",
        "version": 3
      },
      "file_extension": ".py",
      "mimetype": "text/x-python",
      "name": "python",
      "nbconvert_exporter": "python",
      "pygments_lexer": "ipython3",
      "version": "3.10.1"
    }
  },
  "nbformat": 4,
  "nbformat_minor": 0
}